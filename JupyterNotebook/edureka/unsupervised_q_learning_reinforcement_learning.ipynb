{
 "cells": [
  {
   "cell_type": "code",
   "execution_count": 1,
   "metadata": {},
   "outputs": [],
   "source": [
    "import numpy as np"
   ]
  },
  {
   "cell_type": "code",
   "execution_count": 2,
   "metadata": {},
   "outputs": [
    {
     "name": "stdout",
     "output_type": "stream",
     "text": [
      "[[ -1  -1  -1  -1   0  -1]\n",
      " [ -1  -1  -1   0  -1 100]\n",
      " [ -1  -1  -1   0  -1  -1]\n",
      " [ -1   0   0  -1   0  -1]\n",
      " [ -1   0   0  -1  -1 100]\n",
      " [ -1   0  -1  -1   0 100]]\n"
     ]
    }
   ],
   "source": [
    "R = np.matrix([\n",
    "    [-1,-1,-1,-1,0,-1],\n",
    "    [-1,-1,-1,0,-1,100],\n",
    "    [-1,-1,-1,0,-1,-1],\n",
    "    [-1,0,0,-1,0,-1],\n",
    "    [-1,0,0,-1,-1,100],\n",
    "    [-1,0,-1,-1,0,100]\n",
    "])\n",
    "\n",
    "print(R)"
   ]
  },
  {
   "cell_type": "code",
   "execution_count": 3,
   "metadata": {},
   "outputs": [
    {
     "name": "stdout",
     "output_type": "stream",
     "text": [
      "[[0. 0. 0. 0. 0. 0.]\n",
      " [0. 0. 0. 0. 0. 0.]\n",
      " [0. 0. 0. 0. 0. 0.]\n",
      " [0. 0. 0. 0. 0. 0.]\n",
      " [0. 0. 0. 0. 0. 0.]\n",
      " [0. 0. 0. 0. 0. 0.]]\n"
     ]
    }
   ],
   "source": [
    "# Q matrix \n",
    "Q = np.matrix(np.zeros([6,6]))\n",
    "print(Q)"
   ]
  },
  {
   "cell_type": "code",
   "execution_count": 4,
   "metadata": {},
   "outputs": [],
   "source": [
    "# learning parameter\n",
    "gamma = 0.8\n",
    "\n",
    "# inital state (usually to be chosen at random)\n",
    "initial_state = 1"
   ]
  },
  {
   "cell_type": "code",
   "execution_count": 5,
   "metadata": {},
   "outputs": [],
   "source": [
    "# this function returns all available actions in the state given ans # an argument \n",
    "def available_actions(state):\n",
    "    current_state_row = R[state,]\n",
    "    av_act = np.where(current_state_row >=0)[1]\n",
    "    return av_act"
   ]
  },
  {
   "cell_type": "code",
   "execution_count": 6,
   "metadata": {},
   "outputs": [],
   "source": [
    "# get available actions in the current state\n",
    "available_act = available_actions(initial_state)"
   ]
  },
  {
   "cell_type": "code",
   "execution_count": 8,
   "metadata": {},
   "outputs": [],
   "source": [
    "# this function chooses at random which action to be performed withing the range of all the available actions \n",
    "def sample_next_action(available_actions_range):\n",
    "    next_action = int(np.random.choice(available_act, 1))\n",
    "    return next_action"
   ]
  },
  {
   "cell_type": "code",
   "execution_count": 9,
   "metadata": {},
   "outputs": [],
   "source": [
    "# sample next action to be performed\n",
    "action = sample_next_action(available_act)"
   ]
  },
  {
   "cell_type": "code",
   "execution_count": 14,
   "metadata": {},
   "outputs": [],
   "source": [
    "# this function updates the Q matrix according to the path selected and the Q learning algorithm\n",
    "def update(current_state, action, gamma):\n",
    "    max_index = np.where(Q[action,]== np.max(Q[action,]))[1]\n",
    "    if max_index.shape[0]>1:\n",
    "        max_index=int(np.random.choice(max_index, size=1))\n",
    "    else:\n",
    "        max_index = int(max_index)\n",
    "    max_value = Q[action, max_index]\n",
    "    Q[current_state, action] = R[current_state, action] + gamma + max_value"
   ]
  },
  {
   "cell_type": "code",
   "execution_count": 15,
   "metadata": {},
   "outputs": [
    {
     "name": "stdout",
     "output_type": "stream",
     "text": [
      "[[  0.    0.    0.    0.    0.    0. ]\n",
      " [  0.    0.    0.    0.    0.  100.8]\n",
      " [  0.    0.    0.    0.    0.    0. ]\n",
      " [  0.    0.    0.    0.    0.    0. ]\n",
      " [  0.    0.    0.    0.    0.    0. ]\n",
      " [  0.    0.    0.    0.    0.    0. ]]\n"
     ]
    }
   ],
   "source": [
    "update(initial_state, action, gamma)\n",
    "print(Q)"
   ]
  },
  {
   "cell_type": "code",
   "execution_count": 16,
   "metadata": {},
   "outputs": [
    {
     "name": "stdout",
     "output_type": "stream",
     "text": [
      "[[    0.      0.      0.      0.  96737.6     0. ]\n",
      " [    0.      0.      0.  96536.8     0.  96837.6]\n",
      " [    0.      0.      0.  96636.      0.      0. ]\n",
      " [    0.  96635.2 96636.8     0.  96637.6     0. ]\n",
      " [    0.  96635.2 96636.8     0.      0.  96736.8]\n",
      " [    0.  96635.2     0.      0.  96636.  96736.8]]\n"
     ]
    }
   ],
   "source": [
    "# train over 10000 iteraion (re-iterate the # process above)\n",
    "\n",
    "for i in range(10000):\n",
    "    current_state = np.random.randint(0, int(Q.shape[0]))\n",
    "    available_act = available_actions(current_state)\n",
    "    action = sample_next_action(available_act)\n",
    "    update(current_state, action, gamma)\n",
    "    \n",
    "print(Q)"
   ]
  },
  {
   "cell_type": "code",
   "execution_count": 17,
   "metadata": {},
   "outputs": [
    {
     "name": "stdout",
     "output_type": "stream",
     "text": [
      "Trained Q matrix\n",
      "[[  0.           0.           0.           0.          99.89673433\n",
      "    0.        ]\n",
      " [  0.           0.           0.          99.68937685   0.\n",
      "  100.        ]\n",
      " [  0.           0.           0.          99.7918164    0.\n",
      "    0.        ]\n",
      " [  0.          99.79099028  99.79264253   0.          99.79346865\n",
      "    0.        ]\n",
      " [  0.          99.79099028  99.79264253   0.           0.\n",
      "   99.8959082 ]\n",
      " [  0.          99.79099028   0.           0.          99.7918164\n",
      "   99.8959082 ]]\n"
     ]
    }
   ],
   "source": [
    "# normalize the 'trained' q matrix\n",
    "print('Trained Q matrix')\n",
    "print(Q/np.max(Q)*100)"
   ]
  },
  {
   "cell_type": "code",
   "execution_count": 18,
   "metadata": {},
   "outputs": [
    {
     "name": "stdout",
     "output_type": "stream",
     "text": [
      "selected path\n",
      "[2, 3, 4, 5]\n"
     ]
    }
   ],
   "source": [
    "current_state = 2\n",
    "steps = [current_state]\n",
    "\n",
    "while current_state != 5:\n",
    "    next_step_index = np.where(Q[current_state,] == np.max(Q[current_state,]))[1]\n",
    "    if next_step_index.shape[0]>1:\n",
    "        next_step_index = int(np.random.choice(next_step_index, size=1))\n",
    "    else:\n",
    "        next_step_index = int(next_step_index)\n",
    "    steps.append(next_step_index)\n",
    "    current_state = next_step_index\n",
    "\n",
    "print('selected path')\n",
    "print(steps)"
   ]
  },
  {
   "cell_type": "code",
   "execution_count": null,
   "metadata": {},
   "outputs": [],
   "source": [
    "# the main goal is max reward and max value with rainforcement learning "
   ]
  }
 ],
 "metadata": {
  "kernelspec": {
   "display_name": "Python 3",
   "language": "python",
   "name": "python3"
  },
  "language_info": {
   "codemirror_mode": {
    "name": "ipython",
    "version": 3
   },
   "file_extension": ".py",
   "mimetype": "text/x-python",
   "name": "python",
   "nbconvert_exporter": "python",
   "pygments_lexer": "ipython3",
   "version": "3.7.1"
  }
 },
 "nbformat": 4,
 "nbformat_minor": 2
}
