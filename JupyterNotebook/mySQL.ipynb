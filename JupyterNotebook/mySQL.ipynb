{
 "cells": [
  {
   "cell_type": "code",
   "execution_count": 1,
   "metadata": {},
   "outputs": [
    {
     "name": "stdout",
     "output_type": "stream",
     "text": [
      "Collecting package metadata: ...working... failed\n"
     ]
    },
    {
     "name": "stderr",
     "output_type": "stream",
     "text": [
      "\n",
      "CondaHTTPError: HTTP 000 CONNECTION FAILED for url <https://repo.anaconda.com/pkgs/msys2/noarch/repodata.json.bz2>\n",
      "Elapsed: -\n",
      "\n",
      "An HTTP error occurred when trying to retrieve this URL.\n",
      "HTTP errors are often intermittent, and a simple retry will get you on your way.\n",
      "\n",
      "If your current network has https://www.anaconda.com blocked, please file\n",
      "a support request with your network engineering team.\n",
      "\n",
      "ConnectionError(MaxRetryError(\"HTTPSConnectionPool(host='repo.anaconda.com', port=443): Max retries exceeded with url: /pkgs/msys2/noarch/repodata.json.bz2 (Caused by NewConnectionError('<urllib3.connection.VerifiedHTTPSConnection object at 0x00000156AD39C2E8>: Failed to establish a new connection: [Errno 11001] getaddrinfo failed'))\"))\n",
      "\n",
      "\n"
     ]
    }
   ],
   "source": [
    "!conda install -y -q pymysql"
   ]
  },
  {
   "cell_type": "code",
   "execution_count": null,
   "metadata": {},
   "outputs": [],
   "source": [
    "import pymysql"
   ]
  },
  {
   "cell_type": "code",
   "execution_count": null,
   "metadata": {},
   "outputs": [],
   "source": [
    "# Coneect to the DB\n",
    "\n",
    "cnx = {\n",
    "    'host': 'aws',\n",
    "    'username': ...\n",
    "    'password': ...\n",
    "    'db': 'classroomDB'\n",
    "}\n",
    "\n",
    "connection = pymysql.connect(cnx['host'], cnx['username'], cnx['password'], cnx['db'])\n",
    "\n",
    "connection.close()"
   ]
  },
  {
   "cell_type": "code",
   "execution_count": null,
   "metadata": {},
   "outputs": [],
   "source": [
    "# Create table\n",
    "connection = pymysql.connect(cnx['host'], cnx['username'], cnx['password'], cnx['db'])\n",
    "\n",
    "cursor = connection.cursor()\n",
    "\n",
    "create_table = \"\"\"\n",
    "        CREATE TABLE classroom (\n",
    "        student_id INTEGER PRIMARY KEY,\n",
    "        name VARCHAR(20),\n",
    "        gender CHAR(1),\n",
    "        physics_marks INTEGER,\n",
    "        chemistry_marks INTEGER,\n",
    "        math_marks INTEGER\n",
    "        \n",
    "        );\n",
    "\n",
    "\"\"\""
   ]
  },
  {
   "cell_type": "code",
   "execution_count": null,
   "metadata": {},
   "outputs": [],
   "source": [
    "#Sample DATA\n",
    "classroom_data = [(1, 'Erdem', 'M', 70, 89, 60),\n",
    "                  (2, 'Birkan', 'F', 89, 78, 90),\n",
    "                  (3, 'Burak', 'M', 89, 99, 95), \n",
    "                  (4, 'Tara', 'F', 99, 98, 95)]\n",
    "\n",
    "connection = pymysql.connect(cnx['host'], cnx['username'], cnx['password'], cnx['db'])\n",
    "\n",
    "cursor = connection.cursor()\n",
    "\n",
    "for student in classroom_data:\n",
    "    insert_statement = \"\"\" INSERT INTO classroom\n",
    "                        (student_id, name, gender, physics_marks, chemistry_marks, math_marks)\n",
    "                        VALUES\n",
    "                        ({0}, \"{1}\", \"{2}\", {3}, {4}, {5});\"\"\".format(student[0], student[1], student[2], \n",
    "                        student[3], student[4], student[5]);\n",
    "    cursor.execute(insert_statement)\n",
    "\n",
    "connection.commit()\n",
    "connection.close()"
   ]
  },
  {
   "cell_type": "code",
   "execution_count": null,
   "metadata": {},
   "outputs": [],
   "source": [
    "# Extract Data\n",
    "connection = pymysql.connect(cnx['host'], cnx['username'], cnx['password'], cnx['db'])\n",
    "\n",
    "cursor = connection.cursor()\n",
    "\n",
    "query = \"SELECT * FROM classroom\"\n",
    "\n",
    "cursor.execute(query)\n",
    "\n",
    "result = cursor.fetchall()\n",
    "\n",
    "for row in result:\n",
    "    print(row)\n",
    "\n",
    "connection.close()"
   ]
  }
 ],
 "metadata": {
  "kernelspec": {
   "display_name": "Python 3",
   "language": "python",
   "name": "python3"
  },
  "language_info": {
   "codemirror_mode": {
    "name": "ipython",
    "version": 3
   },
   "file_extension": ".py",
   "mimetype": "text/x-python",
   "name": "python",
   "nbconvert_exporter": "python",
   "pygments_lexer": "ipython3",
   "version": "3.7.1"
  }
 },
 "nbformat": 4,
 "nbformat_minor": 2
}
