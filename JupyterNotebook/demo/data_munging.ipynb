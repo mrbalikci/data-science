{
 "cells": [
  {
   "cell_type": "markdown",
   "metadata": {},
   "source": [
    "# Data Munging: Missing Values Treatment "
   ]
  },
  {
   "cell_type": "code",
   "execution_count": 37,
   "metadata": {},
   "outputs": [],
   "source": [
    "# Imports \n",
    "import pandas as pd\n",
    "import numpy as np\n",
    "import os\n",
    "import csv"
   ]
  },
  {
   "cell_type": "code",
   "execution_count": 2,
   "metadata": {},
   "outputs": [],
   "source": [
    "# read the data with all default parameters\n",
    "df = pd.read_csv('DellGSPE_DSrole_dataset.csv', index_col='asst_id')"
   ]
  },
  {
   "cell_type": "markdown",
   "metadata": {},
   "source": [
    "\n",
    "* There are some missing values as seen below for anything below 100,000\n",
    "* These missing valus must be resolved one by one"
   ]
  },
  {
   "cell_type": "code",
   "execution_count": 3,
   "metadata": {
    "scrolled": true
   },
   "outputs": [
    {
     "name": "stdout",
     "output_type": "stream",
     "text": [
      "<class 'pandas.core.frame.DataFrame'>\n",
      "Int64Index: 100000 entries, 0 to 16664\n",
      "Data columns (total 18 columns):\n",
      "product_type           99980 non-null object\n",
      "mnfture_wk             100000 non-null int64\n",
      "contract_st            100000 non-null int64\n",
      "contract_end           100000 non-null int64\n",
      "contact_wk             100000 non-null int64\n",
      "contact_type           99986 non-null object\n",
      "issue_type             85958 non-null object\n",
      "topic_category         66916 non-null object\n",
      "parts_sent             54566 non-null object\n",
      "repair_type            100000 non-null object\n",
      "repeat_ct              100000 non-null int64\n",
      "parts_ct               100000 non-null int64\n",
      "agent_tenure_indays    99986 non-null float64\n",
      "contact_manager_flg    100000 non-null int64\n",
      "diagnostics            100000 non-null object\n",
      "repeat_parts_sent      13346 non-null object\n",
      "region                 99997 non-null object\n",
      "country                89998 non-null object\n",
      "dtypes: float64(1), int64(7), object(10)\n",
      "memory usage: 14.5+ MB\n"
     ]
    }
   ],
   "source": [
    "# use .info() to detect missing values\n",
    "df.info()"
   ]
  },
  {
   "cell_type": "code",
   "execution_count": 4,
   "metadata": {},
   "outputs": [],
   "source": [
    "# drop missing values\n",
    "df_no_missing_values = df.dropna()"
   ]
  },
  {
   "cell_type": "code",
   "execution_count": 5,
   "metadata": {},
   "outputs": [
    {
     "name": "stdout",
     "output_type": "stream",
     "text": [
      "<class 'pandas.core.frame.DataFrame'>\n",
      "Int64Index: 6109 entries, 19 to 16658\n",
      "Data columns (total 18 columns):\n",
      "product_type           6109 non-null object\n",
      "mnfture_wk             6109 non-null int64\n",
      "contract_st            6109 non-null int64\n",
      "contract_end           6109 non-null int64\n",
      "contact_wk             6109 non-null int64\n",
      "contact_type           6109 non-null object\n",
      "issue_type             6109 non-null object\n",
      "topic_category         6109 non-null object\n",
      "parts_sent             6109 non-null object\n",
      "repair_type            6109 non-null object\n",
      "repeat_ct              6109 non-null int64\n",
      "parts_ct               6109 non-null int64\n",
      "agent_tenure_indays    6109 non-null float64\n",
      "contact_manager_flg    6109 non-null int64\n",
      "diagnostics            6109 non-null object\n",
      "repeat_parts_sent      6109 non-null object\n",
      "region                 6109 non-null object\n",
      "country                6109 non-null object\n",
      "dtypes: float64(1), int64(7), object(10)\n",
      "memory usage: 906.8+ KB\n"
     ]
    }
   ],
   "source": [
    "# if all the missing values are dropped from df about 94% of data will be lost \n",
    "# let's find a best apporach to treat the missing value in order to prevent a big data loss \n",
    "df_no_missing_values.info()"
   ]
  },
  {
   "cell_type": "markdown",
   "metadata": {},
   "source": [
    "### Feature: Contact Type"
   ]
  },
  {
   "cell_type": "code",
   "execution_count": 6,
   "metadata": {},
   "outputs": [
    {
     "name": "stdout",
     "output_type": "stream",
     "text": [
      "['Voice' 'VOICE' 'CHAT' 'EMAIL' 'Unknown' nan]\n",
      "-----------------\n",
      "There are 4 contact types\n"
     ]
    }
   ],
   "source": [
    "# find unique values of contact type and total number of contact type minus 2 for NaN and Uknown\n",
    "print(df.contact_type.unique())\n",
    "print(\"-----------------\")\n",
    "print(f\"There are {len(df.contact_type.unique())-2} contact types\")"
   ]
  },
  {
   "cell_type": "code",
   "execution_count": 7,
   "metadata": {},
   "outputs": [
    {
     "data": {
      "text/plain": [
       "VOICE      69757\n",
       "CHAT       14425\n",
       "Voice      14405\n",
       "EMAIL       1281\n",
       "Unknown      118\n",
       "Name: contact_type, dtype: int64"
      ]
     },
     "execution_count": 7,
     "metadata": {},
     "output_type": "execute_result"
    }
   ],
   "source": [
    "# there are 4 NaNs values and 118 unknown contact types\n",
    "df.contact_type.value_counts()"
   ]
  },
  {
   "cell_type": "code",
   "execution_count": 8,
   "metadata": {},
   "outputs": [],
   "source": [
    "# VOICE and Voice can be combined as 'Voice'\n",
    "df['contact_type']=df['contact_type'].str.replace('VOICE','Voice')"
   ]
  },
  {
   "cell_type": "code",
   "execution_count": 9,
   "metadata": {},
   "outputs": [],
   "source": [
    "# replace NaNs with 'Unknown'\n",
    "df['contact_type']=df['contact_type'].fillna('Unknown')"
   ]
  },
  {
   "cell_type": "code",
   "execution_count": 10,
   "metadata": {
    "scrolled": true
   },
   "outputs": [
    {
     "data": {
      "text/plain": [
       "Voice      84162\n",
       "CHAT       14425\n",
       "EMAIL       1281\n",
       "Unknown      132\n",
       "Name: contact_type, dtype: int64"
      ]
     },
     "execution_count": 10,
     "metadata": {},
     "output_type": "execute_result"
    }
   ],
   "source": [
    "df.contact_type.value_counts()"
   ]
  },
  {
   "cell_type": "markdown",
   "metadata": {},
   "source": [
    "### Feature: Issue Type"
   ]
  },
  {
   "cell_type": "code",
   "execution_count": 11,
   "metadata": {},
   "outputs": [
    {
     "name": "stdout",
     "output_type": "stream",
     "text": [
      "[nan 'Hard Drive' 'Fee Based Support' 'Audio, Video, Speakers, TV Tuner'\n",
      " 'Contract or Service Issue' 'Backup / Recovery Software'\n",
      " 'Operating System' 'Dell Mobile / Wireless Devices' 'Battery / CMOS'\n",
      " 'System Board Components' 'Stage' 'Network Software' 'Information Status'\n",
      " 'Battery/CMOS' 'Power Subsystem / Cables / AC Adapter'\n",
      " 'Networking Hardware NICs / Switches' 'Memory / Processor'\n",
      " 'Input Device / Webcam' 'Restricted' 'Burn, Playback, Audio'\n",
      " 'Microsoft Apps' 'Backplane' 'DDPE Remotely Managed'\n",
      " 'Mechanical Chassis / Rack' 'Customer Confirmed CID' 'Optical drive'\n",
      " 'Controller / Controller Card' 'Imaging Device' 'Dell Net Ready'\n",
      " 'Media Only Dispatch' 'Optical Drive/Media Card Reader'\n",
      " 'Security / Antivirus Software' 'Retail / Channel Returns' 'Maintenance'\n",
      " 'Information Request' 'Non Dell Environment' 'FQM Program'\n",
      " 'System Out of Box' 'Credits' 'Communication/Networking'\n",
      " 'Customer Concession' 'Enterprise Software / Applications' 'Adobe'\n",
      " 'DDPE Locally Managed' 'CFA, MFA (Customer or Manufacturer) Field Action'\n",
      " 'Customer Related Issue' 'Dell Mobile Devices' 'Tape Drive or Library'\n",
      " 'Dell-Branded Apps (Other)'\n",
      " 'Field Service agent requires additional time' 'Document Request'\n",
      " 'Shipping Error / Factory Error' 'Projects Sales Concession'\n",
      " 'Dell EMC/EQL Software' 'Damaged' 'Safety Hazard'\n",
      " 'Compellent - NAS / zNAS / FS8600' 'Fiber Channel SW'\n",
      " 'Backup / Archive / Data Management' 'Multiple Down Systems' 'Processing'\n",
      " 'Escalation' 'EQL - Hardware' 'Compellent - Hardware'\n",
      " 'Systems Management' 'Sync Application Tile' 'Changed Mind'\n",
      " 'Projects Warranty' 'Order Tracking' 'Clinic' 'SC Storage SW (CML)'\n",
      " 'Wrong Solution / Product Sold' 'Never Shipped / Fulfilled'\n",
      " 'Malfunctioning' 'Compellent - Software'\n",
      " 'Dell OM Connection & Integration Packs' 'Compellent - Non-Compellent'\n",
      " 'Try & Buy' 'Dissatisfied' 'Cancel & Rebook' 'Customer' 'MWD'\n",
      " 'Lost / Stolen in Transit']\n",
      "------------------\n",
      "There are 82 unique issue type\n"
     ]
    }
   ],
   "source": [
    "# find unique values of issue type and total number of issue type minus 1 for NaN\n",
    "print(df.issue_type.unique())\n",
    "print(\"------------------\")\n",
    "print(f\"There are {len(df.issue_type.unique())-1} unique issue type\")"
   ]
  },
  {
   "cell_type": "code",
   "execution_count": 12,
   "metadata": {},
   "outputs": [],
   "source": [
    "# replace NaNs with 'Unknown'\n",
    "df['issue_type']=df['issue_type'].fillna('Unknown')"
   ]
  },
  {
   "cell_type": "markdown",
   "metadata": {},
   "source": [
    "### Feature: Topic Category"
   ]
  },
  {
   "cell_type": "code",
   "execution_count": 13,
   "metadata": {
    "scrolled": true
   },
   "outputs": [
    {
     "name": "stdout",
     "output_type": "stream",
     "text": [
      "[nan 'Booting' 'General Queries' 'OS' 'Hard Drive' 'Touchpad' 'Call Logs'\n",
      " 'Internet/Wireless' 'Mouse' 'Motherboard' 'Keyboard' 'Battery'\n",
      " 'App/Software' 'LCD/Monitor' 'System Performance' 'Audio Device'\n",
      " 'Initial Setup' 'Physical Damage' 'Other' 'BIOS' 'Shutdown'\n",
      " 'CD/DVD Drive' 'System Warning' 'Palmrest' 'Fan' 'Power' 'Antivirus'\n",
      " 'Bluetooth' 'Graphics Card' 'Printer/Scanner' 'USB' 'Email' 'Drivers'\n",
      " 'AC Adaptor' 'Controller' 'Microsoft Office'\n",
      " 'Virus/Adware/Malware/Spyware' 'Media' 'Microsoft Account' 'Webcam'\n",
      " 'Junk' 'Docking' 'SD Card' 'Touchscreen' 'Memory' 'DC Port' 'DOA'\n",
      " 'System Configuration' 'Missing Parts' 'Bit Locker' 'Firmware'\n",
      " 'System update' 'Data' 'Sim Card' 'Stylus' 'Camera' 'Incorrect Shipment'\n",
      " 'Odor' 'Vmware' 'CPU' 'Replacement' 'Storage' 'Start-Up' 'Miracast']\n",
      "------------------\n",
      "There are 63 unique categories\n"
     ]
    }
   ],
   "source": [
    "# find unique values of topic_category and total number of unique categories minus 1 for NaN\n",
    "print(df.topic_category.unique())\n",
    "print(\"------------------\")\n",
    "print(f\"There are {len(df.topic_category.unique())-1} unique categories\")"
   ]
  },
  {
   "cell_type": "code",
   "execution_count": 14,
   "metadata": {},
   "outputs": [],
   "source": [
    "# replace NaNs with 'Unknown'\n",
    "df['topic_category']=df['topic_category'].fillna('Unknown')"
   ]
  },
  {
   "cell_type": "markdown",
   "metadata": {},
   "source": [
    "### Feature: Parts Sent"
   ]
  },
  {
   "cell_type": "code",
   "execution_count": 15,
   "metadata": {},
   "outputs": [
    {
     "name": "stdout",
     "output_type": "stream",
     "text": [
      "['Hard Drive, Documentation(2)' 'Speaker, Chassis' 'Cables' ...\n",
      " 'Touchpad, Speaker, Motherboard, Documentation, Chassis'\n",
      " 'Motherboard, Miscellaneous(2), Heatsink, Cables, Adapter, AC'\n",
      " 'Motherboard, Miscellaneous(2), Heatsink, Fan Assembly, Cables']\n",
      "--------------\n",
      "There are 2941 unique parts sent\n"
     ]
    }
   ],
   "source": [
    "# find unique values of parts sent and total number of parts sent minus 1 for NaN\n",
    "print(df.parts_sent.unique())\n",
    "print(\"--------------\")\n",
    "print(f\"There are {len(df.parts_sent.unique())-1} unique parts sent\")"
   ]
  },
  {
   "cell_type": "code",
   "execution_count": 16,
   "metadata": {},
   "outputs": [],
   "source": [
    "# replace NaNs with 'Unknown'\n",
    "df['parts_sent']=df['parts_sent'].fillna('Unknown')"
   ]
  },
  {
   "cell_type": "markdown",
   "metadata": {},
   "source": [
    "### Feature: Agent Tenure Indays"
   ]
  },
  {
   "cell_type": "code",
   "execution_count": 17,
   "metadata": {},
   "outputs": [
    {
     "name": "stdout",
     "output_type": "stream",
     "text": [
      "[1018.  298.  802. ...  558. 4750. 2632.]\n",
      "------------------\n",
      "There are 1044 number of agents, I assume, in Dell tech support\n"
     ]
    }
   ],
   "source": [
    "# find unique values of agent tenure indays and total number of agent tenure indays minus 1 for NaN\n",
    "print(df.agent_tenure_indays.unique())\n",
    "print(\"------------------\")\n",
    "print(f\"There are {len(df.agent_tenure_indays.unique())-1} number of agents, I assume, in Dell tech support\")"
   ]
  },
  {
   "cell_type": "code",
   "execution_count": 18,
   "metadata": {},
   "outputs": [],
   "source": [
    "# replace NaNs with 'Unknown'\n",
    "df['agent_tenure_indays']=df['agent_tenure_indays'].fillna('Unknown')"
   ]
  },
  {
   "cell_type": "markdown",
   "metadata": {},
   "source": [
    "### Feature: Procuct Type"
   ]
  },
  {
   "cell_type": "code",
   "execution_count": 19,
   "metadata": {},
   "outputs": [
    {
     "name": "stdout",
     "output_type": "stream",
     "text": [
      "['Laptops' 'Desktops' 'Other Electronics' nan]\n",
      "-------------\n",
      "There are 3 products\n"
     ]
    }
   ],
   "source": [
    "# find unique values of product type indays and total number of product type minus 1 for NaN\n",
    "print(df.product_type.unique())\n",
    "print(\"-------------\")\n",
    "print(f\"There are {len(df.product_type.unique())-1} products\")"
   ]
  },
  {
   "cell_type": "code",
   "execution_count": 20,
   "metadata": {},
   "outputs": [],
   "source": [
    "# replace NaNs with 'Unknown'\n",
    "df['product_type']=df['product_type'].fillna('Unknown')"
   ]
  },
  {
   "cell_type": "markdown",
   "metadata": {},
   "source": [
    "### Feature: Repeat Parts Sent"
   ]
  },
  {
   "cell_type": "code",
   "execution_count": 21,
   "metadata": {
    "scrolled": true
   },
   "outputs": [
    {
     "name": "stdout",
     "output_type": "stream",
     "text": [
      "[nan 'Motherboard, Miscellaneous(2), Hard Drive, Chassis, Cables'\n",
      " 'Motherboard, LCD Panel, Documentation, Cables' ...\n",
      " 'Motherboard, Miscellaneous, Heatsink, Documentation, Cables, Adapter, AC'\n",
      " 'Motherboard, Chassis(4), Cables'\n",
      " 'Mouse, LCD Panel, Hard Drive, Chassis, Cables(2)']\n",
      "---------------\n",
      "There are 1561 unique repeat parts sent\n"
     ]
    }
   ],
   "source": [
    "# find unique values of repeat parts sent and total number of repeat parts sent minus 1 for NaN\n",
    "print(df.repeat_parts_sent.unique())\n",
    "print(\"---------------\")\n",
    "print(f\"There are {len(df.repeat_parts_sent.unique())-1} unique repeat parts sent\")"
   ]
  },
  {
   "cell_type": "code",
   "execution_count": 22,
   "metadata": {},
   "outputs": [],
   "source": [
    "# replace NaNs with 'Unknown'\n",
    "df['repeat_parts_sent']=df['repeat_parts_sent'].fillna('Unknown')"
   ]
  },
  {
   "cell_type": "markdown",
   "metadata": {},
   "source": [
    "### Feature: Region"
   ]
  },
  {
   "cell_type": "code",
   "execution_count": 23,
   "metadata": {},
   "outputs": [
    {
     "name": "stdout",
     "output_type": "stream",
     "text": [
      "['Hogwarts' 'Middle Earth' 'Milky Way' nan]\n",
      "-----------------\n",
      "There are 3 unique regions\n"
     ]
    }
   ],
   "source": [
    "# find unique values of region and total number of regions minus 1 for NaN\n",
    "print(df.region.unique())\n",
    "print(\"-----------------\")\n",
    "print(f\"There are {len(df.region.unique())-1} unique regions\")"
   ]
  },
  {
   "cell_type": "code",
   "execution_count": 24,
   "metadata": {},
   "outputs": [],
   "source": [
    "# replace NaNs with 'Unknown'\n",
    "df['region']=df['region'].fillna('Unknown')"
   ]
  },
  {
   "cell_type": "markdown",
   "metadata": {},
   "source": [
    "### Feature: Country"
   ]
  },
  {
   "cell_type": "code",
   "execution_count": 25,
   "metadata": {
    "scrolled": true
   },
   "outputs": [
    {
     "name": "stdout",
     "output_type": "stream",
     "text": [
      "[nan \"Zonko's Joke Shop\" 'Lorien' 'The Shire' 'Mordor' 'Merope' 'Pollux'\n",
      " 'Three Broomsticks' 'Shrieking Shack' 'Ravenclaw' 'Hufflepuff' 'Capella'\n",
      " \"Honeyduke's\" 'Polaris' 'Fomalhaut' 'Hobbiton' 'Sabik' 'Spica' 'Becrux'\n",
      " 'Vega' 'Rohan' 'Gondor' 'Aldebaran' 'Mintaka' 'Rukbat' 'Acrux' 'Canopus'\n",
      " 'Rigel' 'Antares' 'Diagon Alley' 'Gryffindor' 'Isengard' 'Procyon' 'Bree'\n",
      " 'Pleione' 'Regulus' 'Erebor' 'Fangorn' 'Castor' 'Alcor' 'Minas Tirith'\n",
      " 'Arcturus' 'Rivendell' 'Mirkwood' 'Sirius' 'Altair' 'Betelgeuse'\n",
      " \"Helm's Deep\" 'Muscida' \"Hog's Head Inn\" 'Bellatrix' 'Mizar' 'Slytherin'\n",
      " 'Moria']\n",
      "------------\n",
      "There are 53 countries\n"
     ]
    }
   ],
   "source": [
    "# find unique values of country and total number of countries minus 1 for NaN\n",
    "print(df.country.unique())\n",
    "print(\"------------\")\n",
    "print(f\"There are {len(df.country.unique())-1} countries\")"
   ]
  },
  {
   "cell_type": "code",
   "execution_count": 26,
   "metadata": {},
   "outputs": [],
   "source": [
    "# replace NaNs with 'Unknown'\n",
    "df['country']=df['country'].fillna('Unknown')"
   ]
  },
  {
   "cell_type": "markdown",
   "metadata": {},
   "source": [
    "### Date Columns to DateTime format"
   ]
  },
  {
   "cell_type": "code",
   "execution_count": 27,
   "metadata": {},
   "outputs": [
    {
     "data": {
      "text/plain": [
       "Index(['product_type', 'mnfture_wk', 'contract_st', 'contract_end',\n",
       "       'contact_wk', 'contact_type', 'issue_type', 'topic_category',\n",
       "       'parts_sent', 'repair_type', 'repeat_ct', 'parts_ct',\n",
       "       'agent_tenure_indays', 'contact_manager_flg', 'diagnostics',\n",
       "       'repeat_parts_sent', 'region', 'country'],\n",
       "      dtype='object')"
      ]
     },
     "execution_count": 27,
     "metadata": {},
     "output_type": "execute_result"
    }
   ],
   "source": [
    "df.columns"
   ]
  },
  {
   "cell_type": "code",
   "execution_count": 28,
   "metadata": {},
   "outputs": [],
   "source": [
    "# change type to string\n",
    "df['mnfture_wk']=df['mnfture_wk'].astype(str)\n",
    "df['contract_st']=df['contract_st'].astype(str)\n",
    "df['contract_end']=df['contract_end'].astype(str)\n",
    "df['contact_wk']=df['contact_wk'].astype(str)"
   ]
  },
  {
   "cell_type": "code",
   "execution_count": 29,
   "metadata": {},
   "outputs": [],
   "source": [
    "# taking care of mnfture\n",
    "\n",
    "df['mnfture_year'] = df['mnfture_wk'].str[0:4]\n",
    "df['mnfture_week'] = df['mnfture_wk'].str[4:6]\n",
    "df[\"mnfture_datetime\"] = pd.to_datetime(df.mnfture_week.astype(str)+\n",
    "                          df.mnfture_year.astype(str).add('-0') ,format='%W%Y-%w')\n",
    "# taking care of contact year\n",
    "df['contact_year'] = df['contact_wk'].str[0:4]\n",
    "df['contact_week'] = df['contact_wk'].str[4:6]\n",
    "df[\"contact_week_datetime\"] = pd.to_datetime(df.contact_week.astype(str)+\n",
    "                          df.contact_year.astype(str).add('-0') ,format='%W%Y-%w')\n",
    "\n",
    "# taking care of contract end year\n",
    "df['contract_year'] = df['contract_end'].str[0:4]\n",
    "df['contract_week'] = df['contract_end'].str[4:6]\n",
    "df[\"contract_end_datetime\"] = pd.to_datetime(df.contract_week.astype(str)+\n",
    "                          df.contract_year.astype(str).add('-0') ,format='%W%Y-%w')"
   ]
  },
  {
   "cell_type": "code",
   "execution_count": 30,
   "metadata": {},
   "outputs": [
    {
     "name": "stdout",
     "output_type": "stream",
     "text": [
      "<class 'pandas.core.frame.DataFrame'>\n",
      "Int64Index: 100000 entries, 0 to 16664\n",
      "Data columns (total 27 columns):\n",
      "product_type             100000 non-null object\n",
      "mnfture_wk               100000 non-null object\n",
      "contract_st              100000 non-null object\n",
      "contract_end             100000 non-null object\n",
      "contact_wk               100000 non-null object\n",
      "contact_type             100000 non-null object\n",
      "issue_type               100000 non-null object\n",
      "topic_category           100000 non-null object\n",
      "parts_sent               100000 non-null object\n",
      "repair_type              100000 non-null object\n",
      "repeat_ct                100000 non-null int64\n",
      "parts_ct                 100000 non-null int64\n",
      "agent_tenure_indays      100000 non-null object\n",
      "contact_manager_flg      100000 non-null int64\n",
      "diagnostics              100000 non-null object\n",
      "repeat_parts_sent        100000 non-null object\n",
      "region                   100000 non-null object\n",
      "country                  100000 non-null object\n",
      "mnfture_year             100000 non-null object\n",
      "mnfture_week             100000 non-null object\n",
      "mnfture_datetime         100000 non-null datetime64[ns]\n",
      "contact_year             100000 non-null object\n",
      "contact_week             100000 non-null object\n",
      "contact_week_datetime    100000 non-null datetime64[ns]\n",
      "contract_year            100000 non-null object\n",
      "contract_week            100000 non-null object\n",
      "contract_end_datetime    100000 non-null datetime64[ns]\n",
      "dtypes: datetime64[ns](3), int64(3), object(21)\n",
      "memory usage: 21.4+ MB\n"
     ]
    }
   ],
   "source": [
    "# Use .info() to detect any missing values\n",
    "df.info()"
   ]
  },
  {
   "cell_type": "code",
   "execution_count": 39,
   "metadata": {},
   "outputs": [],
   "source": [
    "df.to_csv('df_treated.csv', date_format='%Y%m%d')"
   ]
  },
  {
   "cell_type": "code",
   "execution_count": null,
   "metadata": {},
   "outputs": [],
   "source": []
  }
 ],
 "metadata": {
  "kernelspec": {
   "display_name": "Python 3",
   "language": "python",
   "name": "python3"
  },
  "language_info": {
   "codemirror_mode": {
    "name": "ipython",
    "version": 3
   },
   "file_extension": ".py",
   "mimetype": "text/x-python",
   "name": "python",
   "nbconvert_exporter": "python",
   "pygments_lexer": "ipython3",
   "version": "3.6.5"
  }
 },
 "nbformat": 4,
 "nbformat_minor": 2
}
