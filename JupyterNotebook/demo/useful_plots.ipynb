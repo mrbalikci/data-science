{
 "cells": [
  {
   "cell_type": "code",
   "execution_count": null,
   "metadata": {},
   "outputs": [],
   "source": [
    "f, ax_arr = plt.subplot(3,2,figsize=(14,7))\n",
    "\n",
    "# plot 1\n",
    "ax_arr[0,0].hist(df.mnfture_wk, bins=20, color='c')\n",
    "ax_arr[0,0].set_title('Histogram: Manufactured Week')\n",
    "ax_arr[0,0].set_xlabel('Bins')\n",
    "ax_arr[0,0].set_ylabel('Counts')\n",
    "\n",
    "# plot 2\n",
    "ax_arr[0,1].hist(df_count_mnfture_wk.count, bins=20, color='c')\n",
    "ax_arr[0,1].set_title('Histogram: Manufactured Count')\n",
    "ax_arr[0,1].set_xlabel('Bins')\n",
    "ax_arr[0,1].set_ylabel('Counts')\n",
    "\n",
    "# plot 3\n",
    "ax_arr[1,0].boxplot(df.mnfture_wk.values)\n",
    "ax_arr[1,0].set_title('Boxplot: Manufactured Week')\n",
    "ax_arr[1,0].set_xlabel('Mnfture wk')\n",
    "ax_arr[1,0].set_ylabel('Mnfture wk')\n",
    "\n",
    "# plot 4\n",
    "ax_arr[1,1].boxplot(df_count_mnfture_wk.count.values)\n",
    "ax_arr[1,1].set_title('Boxplot: Manufactured Count')\n",
    "ax_arr[1,1].set_xlabel('Mnfture count')\n",
    "ax_arr[1,1].set_ylabel('Mnfture count')\n",
    "\n",
    "# plot 5\n",
    "ax_arr[2,0].scatter(df.mnfture_wk, df_count_mnfture_wk.count, color='c', alpha=0.5)\n",
    "ax_arr[2,0].set_title('Boxplot: Manufactured Count')\n",
    "ax_arr[2,0].set_xlabel('Mnfture count')\n",
    "ax_arr[2,0].set_ylabel('Mnfture count')"
   ]
  },
  {
   "cell_type": "code",
   "execution_count": null,
   "metadata": {},
   "outputs": [],
   "source": [
    "# use plotly to plot these findings\n",
    "x=df_count_product_type['product_type']\n",
    "y=df_count_product_type['count'] \n",
    "\n",
    "data = [\n",
    "    go.Bar(\n",
    "        x=x,\n",
    "        y=y\n",
    "    )\n",
    "]\n",
    "\n",
    "layout = go.Layout(\n",
    "    barmode='stack',\n",
    "    title='Product Type vs Cases Over Time'\n",
    ")\n",
    "fig = go.Figure(data=data, layout=layout)\n",
    "\n",
    "py.iplot(fig)"
   ]
  },
  {
   "cell_type": "code",
   "execution_count": null,
   "metadata": {},
   "outputs": [],
   "source": [
    "x=df_count_repair_type['repair_type']\n",
    "y=df_count_repair_type['count'] \n",
    "\n",
    "data = [\n",
    "    go.Bar(\n",
    "        x=x, # assign x as the dataframe column 'x'\n",
    "        y=y\n",
    "    )\n",
    "]\n",
    "\n",
    "layout = go.Layout(\n",
    "    barmode='stack',\n",
    "    title='Repair Type vs Cases Over Time'\n",
    ")\n",
    "fig = go.Figure(data=data, layout=layout)\n",
    "\n",
    "py.iplot(fig)"
   ]
  },
  {
   "cell_type": "code",
   "execution_count": null,
   "metadata": {},
   "outputs": [],
   "source": [
    "# plot the data \n",
    "\n",
    "x=df_count_contact_type['contact_type']\n",
    "y=df_count_contact_type['percent']\n",
    "\n",
    "data = [\n",
    "    go.Bar(\n",
    "        x=x,\n",
    "        y=y\n",
    "    )\n",
    "]\n",
    "\n",
    "layout = go.Layout(\n",
    "    barmode='stack',\n",
    "    title='Contact Type vs Cases Over Time'\n",
    ")\n",
    "fig = go.Figure(data=data, layout=layout)\n",
    "\n",
    "py.iplot(fig)"
   ]
  },
  {
   "cell_type": "code",
   "execution_count": null,
   "metadata": {},
   "outputs": [],
   "source": [
    "# bar-plot for the data above\n",
    "\n",
    "data = [\n",
    "    go.Bar(\n",
    "        x=df_repair_type_cases_over_time['product_repair_type'], # assign x as the dataframe column 'x'\n",
    "        y=df_repair_type_cases_over_time['prc_of_cases'],\n",
    "        name = 'Product Type'\n",
    "    )\n",
    "]\n",
    "\n",
    "layout = go.Layout(\n",
    "    barmode='stack',\n",
    "    title='Product-Repair Types vs Number of Cases'\n",
    ")\n",
    "\n",
    "fig = go.Figure(data=data, layout=layout)\n",
    "\n",
    "py.iplot(fig)"
   ]
  },
  {
   "cell_type": "code",
   "execution_count": null,
   "metadata": {},
   "outputs": [],
   "source": [
    "# scatter plot for agent tenure indays vs contacted manager \n",
    "df.plot.scatter(y='agent_tenure_indays', \n",
    "                x='contact_manager_flg', \n",
    "                color='c', \n",
    "                title='scatter plot: Agent Indays vs Contact Manager Flg',\n",
    "                alpha=0.1);"
   ]
  },
  {
   "cell_type": "code",
   "execution_count": null,
   "metadata": {},
   "outputs": [],
   "source": [
    "# scatter plot for agent tenure indays and number of parts were sent to fix problem\n",
    "df.plot.scatter(y='agent_tenure_indays', \n",
    "                x='parts_ct', \n",
    "                color='c', \n",
    "                title='scatter plot: Agent Indays vs Parts Sent',\n",
    "                alpha=0.1);"
   ]
  }
 ],
 "metadata": {
  "kernelspec": {
   "display_name": "Python 3",
   "language": "python",
   "name": "python3"
  },
  "language_info": {
   "codemirror_mode": {
    "name": "ipython",
    "version": 3
   },
   "file_extension": ".py",
   "mimetype": "text/x-python",
   "name": "python",
   "nbconvert_exporter": "python",
   "pygments_lexer": "ipython3",
   "version": "3.6.5"
  }
 },
 "nbformat": 4,
 "nbformat_minor": 2
}
