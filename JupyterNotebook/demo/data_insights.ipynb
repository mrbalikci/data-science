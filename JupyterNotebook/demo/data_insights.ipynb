{
 "cells": [
  {
   "cell_type": "markdown",
   "metadata": {},
   "source": [
    "<strong> Possible Casses </strong>\n",
    "\n",
    "- Exploring Total number of cases over time (Mnfcture_wk) to see if there is a particular spike at any point in time. This could point to some issues in the manufacturing process/batch related to the weeks and help identify the root causes.\n",
    "- The analysis above could be done in more granular levels, say per product type, issue type etc, topic category etc.\n",
    "- We can come up with a time-series model to predict the number of parts required by using parts_ct. This can be done per region/country/parts_sent.\n",
    "- We can look into the correlations between agent_tenure_indays and parts_ct, contact_manager_flg, repeat_ct etc. to understand where the new agents are struggling. We can add another dimension for topic category to see if some topics are harder to identify for the new agents than others.\n",
    "- We can look into the correlation between the repeat_ct and contact_type to see if some communication channels are more effective than others.\n",
    "- We can look into the correlation between diagnostics and repeat_ct to see if diagnostics are helpful to the agents. We can run a hypothesis testing to see if the effect is significant.\n",
    "- We can look into the relation between the time after manufacturing till contact week and topic parts_sent to see what parts are failing when.\n",
    "- We can look into if people are contacting the support right before their warranty expires.\n",
    "- We can look into the correlation between topic_category and repeat_ct to see if some problem types especially lead to additional visits."
   ]
  },
  {
   "cell_type": "code",
   "execution_count": 385,
   "metadata": {},
   "outputs": [
    {
     "data": {
      "text/html": [
       "        <script type=\"text/javascript\">\n",
       "        window.PlotlyConfig = {MathJaxConfig: 'local'};\n",
       "        if (window.MathJax) {MathJax.Hub.Config({SVG: {font: \"STIX-Web\"}});}\n",
       "        if (typeof require !== 'undefined') {\n",
       "        require.undef(\"plotly\");\n",
       "        requirejs.config({\n",
       "            paths: {\n",
       "                'plotly': ['https://cdn.plot.ly/plotly-latest.min']\n",
       "            }\n",
       "        });\n",
       "        require(['plotly'], function(Plotly) {\n",
       "            window._Plotly = Plotly;\n",
       "        });\n",
       "        }\n",
       "        </script>\n",
       "        "
      ]
     },
     "metadata": {},
     "output_type": "display_data"
    }
   ],
   "source": [
    "# Imports \n",
    "import pandas as pd\n",
    "import numpy as np\n",
    "import os\n",
    "import matplotlib.pyplot as plt\n",
    "\n",
    "import plotly\n",
    "import plotly.plotly as py\n",
    "from plotly.offline import init_notebook_mode\n",
    "import plotly.graph_objs as go\n",
    "plotly.offline.init_notebook_mode(connected=True)\n",
    "\n",
    "plotly.tools.set_credentials_file(username='mrbalikci', api_key='UOYflXmBJelkNxcCHA0y')\n",
    "\n",
    "%matplotlib inline"
   ]
  },
  {
   "cell_type": "code",
   "execution_count": 386,
   "metadata": {
    "scrolled": true
   },
   "outputs": [],
   "source": [
    "# read the data with all default parameters \n",
    "df = pd.read_csv('data_set.csv', index_col='asst_id', encoding='utf-8', low_memory=False)"
   ]
  },
  {
   "cell_type": "code",
   "execution_count": 387,
   "metadata": {
    "scrolled": true
   },
   "outputs": [
    {
     "name": "stdout",
     "output_type": "stream",
     "text": [
      "<class 'pandas.core.frame.DataFrame'>\n",
      "Int64Index: 100000 entries, 0 to 16664\n",
      "Data columns (total 18 columns):\n",
      "product_type           99980 non-null object\n",
      "mnfture_wk             100000 non-null int64\n",
      "contract_st            100000 non-null int64\n",
      "contract_end           100000 non-null int64\n",
      "contact_wk             100000 non-null int64\n",
      "contact_type           99986 non-null object\n",
      "issue_type             85958 non-null object\n",
      "topic_category         66916 non-null object\n",
      "parts_sent             54566 non-null object\n",
      "repair_type            100000 non-null object\n",
      "repeat_ct              100000 non-null int64\n",
      "parts_ct               100000 non-null int64\n",
      "agent_tenure_indays    99986 non-null float64\n",
      "contact_manager_flg    100000 non-null int64\n",
      "diagnostics            100000 non-null object\n",
      "repeat_parts_sent      13346 non-null object\n",
      "region                 99997 non-null object\n",
      "country                89998 non-null object\n",
      "dtypes: float64(1), int64(7), object(10)\n",
      "memory usage: 14.5+ MB\n"
     ]
    }
   ],
   "source": [
    "# data types and non-null counts \n",
    "df.info()"
   ]
  },
  {
   "cell_type": "code",
   "execution_count": 388,
   "metadata": {},
   "outputs": [],
   "source": [
    "# take care of missing values for numerical columns \n",
    "# replace NaNs with '-888'\n",
    "df['agent_tenure_indays']=df['agent_tenure_indays'].fillna('-888')"
   ]
  },
  {
   "cell_type": "code",
   "execution_count": 389,
   "metadata": {},
   "outputs": [],
   "source": [
    "# replace NaNs with 'Unknown' for object type columns\n",
    "df = df.fillna('Unknown')\n",
    "\n",
    "# VOICE and Voice can be combined as 'Voice'\n",
    "df['contact_type']=df['contact_type'].str.replace('VOICE','Voice')"
   ]
  },
  {
   "cell_type": "markdown",
   "metadata": {},
   "source": [
    "### Time Related Columns to DateTime format"
   ]
  },
  {
   "cell_type": "code",
   "execution_count": 390,
   "metadata": {},
   "outputs": [],
   "source": [
    "# change type to string\n",
    "df['mnfture_wk']=df['mnfture_wk'].astype(str)\n",
    "df['contract_st']=df['contract_st'].astype(str)\n",
    "df['contract_end']=df['contract_end'].astype(str)\n",
    "df['contact_wk']=df['contact_wk'].astype(str)\n",
    "\n",
    "# taking care of mnfture\n",
    "df['mnfture_year'] = df['mnfture_wk'].str[0:4]\n",
    "df['mnfture_week'] = df['mnfture_wk'].str[4:6]\n",
    "df[\"mnfture_datetime\"] = pd.to_datetime(df.mnfture_week.astype(str)+\n",
    "                          df.mnfture_year.astype(str).add('-0') ,format='%W%Y-%w')\n",
    "\n",
    "# taking care of contact year\n",
    "df['contact_year'] = df['contact_wk'].str[0:4]\n",
    "df['contact_week'] = df['contact_wk'].str[4:6]\n",
    "df[\"contact_week_datetime\"] = pd.to_datetime(df.contact_week.astype(str)+\n",
    "                          df.contact_year.astype(str).add('-0') ,format='%W%Y-%w')\n",
    "\n",
    "# taking care of contract end year\n",
    "df['contract_year'] = df['contract_end'].str[0:4]\n",
    "df['contract_week'] = df['contract_end'].str[4:6]\n",
    "df[\"contract_end_datetime\"] = pd.to_datetime(df.contract_week.astype(str)+\n",
    "                          df.contract_year.astype(str).add('-0') ,format='%W%Y-%w')"
   ]
  },
  {
   "cell_type": "markdown",
   "metadata": {},
   "source": [
    "# Data Insights"
   ]
  },
  {
   "cell_type": "markdown",
   "metadata": {},
   "source": [
    "<strong>CASE 1 \n",
    "\n",
    "* Exploring Total number of cases over time (Mnfcture_wk) to see if there is a particular spike at any point in time. This could point to some issues in the manufacturing process/batch related to the weeks and help identify the root causes.\n",
    "\n",
    "* The analysis above could be done in more granular levels, say per product type, issue type etc, topic category etc. </strong>"
   ]
  },
  {
   "cell_type": "markdown",
   "metadata": {},
   "source": [
    "### Number of Cases Over Time: Each Machine Sold"
   ]
  },
  {
   "cell_type": "code",
   "execution_count": 391,
   "metadata": {},
   "outputs": [
    {
     "data": {
      "text/html": [
       "<div>\n",
       "<style scoped>\n",
       "    .dataframe tbody tr th:only-of-type {\n",
       "        vertical-align: middle;\n",
       "    }\n",
       "\n",
       "    .dataframe tbody tr th {\n",
       "        vertical-align: top;\n",
       "    }\n",
       "\n",
       "    .dataframe thead th {\n",
       "        text-align: right;\n",
       "    }\n",
       "</style>\n",
       "<table border=\"1\" class=\"dataframe\">\n",
       "  <thead>\n",
       "    <tr style=\"text-align: right;\">\n",
       "      <th></th>\n",
       "      <th>asst_id</th>\n",
       "      <th>count</th>\n",
       "    </tr>\n",
       "  </thead>\n",
       "  <tbody>\n",
       "    <tr>\n",
       "      <th>0</th>\n",
       "      <td>72568</td>\n",
       "      <td>46</td>\n",
       "    </tr>\n",
       "    <tr>\n",
       "      <th>1</th>\n",
       "      <td>5183</td>\n",
       "      <td>18</td>\n",
       "    </tr>\n",
       "    <tr>\n",
       "      <th>2</th>\n",
       "      <td>7715</td>\n",
       "      <td>14</td>\n",
       "    </tr>\n",
       "    <tr>\n",
       "      <th>3</th>\n",
       "      <td>18338</td>\n",
       "      <td>7</td>\n",
       "    </tr>\n",
       "    <tr>\n",
       "      <th>4</th>\n",
       "      <td>11152</td>\n",
       "      <td>6</td>\n",
       "    </tr>\n",
       "  </tbody>\n",
       "</table>\n",
       "</div>"
      ],
      "text/plain": [
       "   asst_id  count\n",
       "0    72568     46\n",
       "1     5183     18\n",
       "2     7715     14\n",
       "3    18338      7\n",
       "4    11152      6"
      ]
     },
     "execution_count": 391,
     "metadata": {},
     "output_type": "execute_result"
    }
   ],
   "source": [
    "# get the total case of each machine sold\n",
    "df_asst_id = df.reset_index()\n",
    "df_asst_id = pd.DataFrame(df_asst_id.asst_id.value_counts()).reset_index()\n",
    "df_asst_id = df_asst_id.rename(columns={'index':'asst_id', 'asst_id':'count'})\n",
    "df_asst_id.head()"
   ]
  },
  {
   "cell_type": "markdown",
   "metadata": {},
   "source": [
    "<strong>Findings</strong>: It seems one machine sold 46 times so further analysis on this particular case will not be needed."
   ]
  },
  {
   "cell_type": "markdown",
   "metadata": {},
   "source": [
    "### Number of Cases Over Time: Manufactured"
   ]
  },
  {
   "cell_type": "code",
   "execution_count": 392,
   "metadata": {
    "scrolled": false
   },
   "outputs": [
    {
     "data": {
      "image/png": "[encoded data removed]",
      "text/plain": [
       "<Figure size 1008x216 with 2 Axes>"
      ]
     },
     "metadata": {
      "needs_background": "light"
     },
     "output_type": "display_data"
    }
   ],
   "source": [
    "# change the type from object to numerical for mnfture_wk\n",
    "df['mnfture_wk']=df['mnfture_wk'].astype(float)\n",
    "\n",
    "# histogram for manufactured week\n",
    "f, (ax1, ax2) = plt.subplots(1,2, figsize=(14,3))\n",
    "\n",
    "ax1.hist(df.mnfture_wk, bins=20, color='tomato')\n",
    "ax1.set_title('Histogram: Manufactured Week')\n",
    "ax1.set_xlabel('Years')\n",
    "ax1.set_ylabel('Counts')\n",
    "\n",
    "ax2.boxplot(df['mnfture_wk'].value_counts())\n",
    "ax2.set_title('Box-plot: Manufactured Week Value Counts')\n",
    "ax2.set_xlabel('Years')\n",
    "ax2.set_ylabel('Counts')\n",
    "\n",
    "plt.show()"
   ]
  },
  {
   "cell_type": "code",
   "execution_count": 393,
   "metadata": {},
   "outputs": [
    {
     "name": "stdout",
     "output_type": "stream",
     "text": [
      "mean 201.2072434607646\n",
      "median 64.0 \n",
      "max 1340\n",
      "min 1\n",
      "Range 1339\n",
      "25th Perc 23.0\n",
      "50th Perc 64.0\n",
      "75th Perc 364.0\n",
      "Variance 60043.85817323293\n",
      "Standard Deviation 245.038483045486\n"
     ]
    }
   ],
   "source": [
    "# Manufactured Week Related Statistical Analysis (box-plot)\n",
    "\n",
    "print('mean {}'.format(df['mnfture_wk'].value_counts().mean()))\n",
    "print('median {} '.format(df['mnfture_wk'].value_counts().median()))\n",
    "print('max {}'.format(df['mnfture_wk'].value_counts().max()))\n",
    "print('min {}'.format(df['mnfture_wk'].value_counts().min()))\n",
    "print('Range {}'.format((df['mnfture_wk'].value_counts().max())-(df['mnfture_wk'].value_counts().min())))\n",
    "print('25th Perc {}'.format(df['mnfture_wk'].value_counts().quantile(0.25)))\n",
    "print('50th Perc {}'.format(df['mnfture_wk'].value_counts().quantile(0.5)))\n",
    "print('75th Perc {}'.format(df['mnfture_wk'].value_counts().quantile(0.75)))\n",
    "print('Variance {}'.format(df['mnfture_wk'].value_counts().var()))\n",
    "print('Standard Deviation {}'.format(df['mnfture_wk'].value_counts().std()))"
   ]
  },
  {
   "cell_type": "markdown",
   "metadata": {},
   "source": [
    "<strong> Findings I</strong>\n",
    "* A quick analysis from the histogram graph shows that there are a spike of manufactured defects in some of 2016, 2017, and mainly 2018 years.\n",
    "* The box-plot shows upper and lower quartiles as well as the median line which is below 200 for that number of cases related to the manufactured weeks.\n",
    "* The outliers from the box-plot suggests that some of manufactured weeks got big reporting numbers in production defects/issues/process/batch related."
   ]
  },
  {
   "cell_type": "code",
   "execution_count": 394,
   "metadata": {
    "scrolled": false
   },
   "outputs": [
    {
     "data": {
      "text/html": [
       "<div>\n",
       "<style scoped>\n",
       "    .dataframe tbody tr th:only-of-type {\n",
       "        vertical-align: middle;\n",
       "    }\n",
       "\n",
       "    .dataframe tbody tr th {\n",
       "        vertical-align: top;\n",
       "    }\n",
       "\n",
       "    .dataframe thead th {\n",
       "        text-align: right;\n",
       "    }\n",
       "</style>\n",
       "<table border=\"1\" class=\"dataframe\">\n",
       "  <thead>\n",
       "    <tr style=\"text-align: right;\">\n",
       "      <th></th>\n",
       "      <th>mnfture_datetime</th>\n",
       "      <th>count</th>\n",
       "      <th>percent</th>\n",
       "    </tr>\n",
       "  </thead>\n",
       "  <tbody>\n",
       "    <tr>\n",
       "      <th>0</th>\n",
       "      <td>2018-09-30</td>\n",
       "      <td>1340</td>\n",
       "      <td>1.340</td>\n",
       "    </tr>\n",
       "    <tr>\n",
       "      <th>1</th>\n",
       "      <td>2018-07-01</td>\n",
       "      <td>1312</td>\n",
       "      <td>1.312</td>\n",
       "    </tr>\n",
       "    <tr>\n",
       "      <th>2</th>\n",
       "      <td>2018-06-24</td>\n",
       "      <td>1072</td>\n",
       "      <td>1.072</td>\n",
       "    </tr>\n",
       "    <tr>\n",
       "      <th>3</th>\n",
       "      <td>2018-01-07</td>\n",
       "      <td>1053</td>\n",
       "      <td>1.053</td>\n",
       "    </tr>\n",
       "    <tr>\n",
       "      <th>4</th>\n",
       "      <td>2018-04-01</td>\n",
       "      <td>938</td>\n",
       "      <td>0.938</td>\n",
       "    </tr>\n",
       "  </tbody>\n",
       "</table>\n",
       "</div>"
      ],
      "text/plain": [
       "  mnfture_datetime  count  percent\n",
       "0       2018-09-30   1340    1.340\n",
       "1       2018-07-01   1312    1.312\n",
       "2       2018-06-24   1072    1.072\n",
       "3       2018-01-07   1053    1.053\n",
       "4       2018-04-01    938    0.938"
      ]
     },
     "execution_count": 394,
     "metadata": {},
     "output_type": "execute_result"
    }
   ],
   "source": [
    "# In this block, sort values based on value counts of manufacture week.\n",
    "# It will help us to determine the most issue related manufacture related weeks. \n",
    "\n",
    "df_count_mnfture_wk = pd.DataFrame(df.mnfture_datetime.value_counts())\n",
    "df_count_mnfture_wk = df_count_mnfture_wk.rename(columns={'mnfture_datetime':'count'}).reset_index()\n",
    "df_count_mnfture_wk = df_count_mnfture_wk.rename(columns={'index':'mnfture_datetime'})\n",
    "df_count_mnfture_wk['percent']= round((df_count_mnfture_wk['count']/df_count_mnfture_wk['count'].sum())*100,4)\n",
    "df_count_mnfture_wk.head()"
   ]
  },
  {
   "cell_type": "code",
   "execution_count": 395,
   "metadata": {
    "scrolled": true
   },
   "outputs": [
    {
     "name": "stderr",
     "output_type": "stream",
     "text": [
      "C:\\Users\\mrbal\\Anaconda3\\lib\\site-packages\\IPython\\core\\display.py:689: UserWarning:\n",
      "\n",
      "Consider using IPython.display.IFrame instead\n",
      "\n"
     ]
    },
    {
     "data": {
      "text/html": [
       "<iframe id=\"igraph\" scrolling=\"no\" style=\"border:none;\" seamless=\"seamless\" src=\"https://plot.ly/~mrbalikci/218.embed\" height=\"525px\" width=\"100%\"></iframe>"
      ],
      "text/plain": [
       "<chart_studio.tools.PlotlyDisplay object>"
      ]
     },
     "execution_count": 395,
     "metadata": {},
     "output_type": "execute_result"
    }
   ],
   "source": [
    "# Bar-Chart for Manufactured vs Cases Over Time\n",
    "\n",
    "x=df_count_mnfture_wk['mnfture_datetime']\n",
    "y=df_count_mnfture_wk['count'] \n",
    "\n",
    "data = [\n",
    "    go.Bar(\n",
    "        x=x, # assign x as the dataframe column 'x'\n",
    "        y=y\n",
    "    )\n",
    "]\n",
    "\n",
    "layout = go.Layout(\n",
    "    barmode='stack',\n",
    "    title='Manufactured vs Cases Over Time'\n",
    ")\n",
    "\n",
    "fig = go.Figure(data=data, layout=layout)\n",
    "\n",
    "py.iplot(fig)"
   ]
  },
  {
   "cell_type": "markdown",
   "metadata": {},
   "source": [
    "<strong>Findings II</strong>:\n",
    "* As seen from the bar-chart there is positive correlation of cases all the way up to 2018 if 2019 cases are ignored. \n",
    "\n",
    "* There is a spike in 2018 in terms of number of cases rising. Perhaps, this could point to some of the issues in the manufacturing process/batch related to the weeks and help identify the root causes.\n",
    "* The analysis above gave us some idea what manufactured years and weeks got higher cases. By using this analysis, we can focus on what particular product type, repair type, parts, etc in more details as part of the risk assessment for the future cost related operations."
   ]
  },
  {
   "cell_type": "markdown",
   "metadata": {},
   "source": [
    "### Number of Cases Over Time: Product Type\n",
    "\n"
   ]
  },
  {
   "cell_type": "code",
   "execution_count": 396,
   "metadata": {
    "scrolled": false
   },
   "outputs": [
    {
     "data": {
      "text/html": [
       "<div>\n",
       "<style scoped>\n",
       "    .dataframe tbody tr th:only-of-type {\n",
       "        vertical-align: middle;\n",
       "    }\n",
       "\n",
       "    .dataframe tbody tr th {\n",
       "        vertical-align: top;\n",
       "    }\n",
       "\n",
       "    .dataframe thead th {\n",
       "        text-align: right;\n",
       "    }\n",
       "</style>\n",
       "<table border=\"1\" class=\"dataframe\">\n",
       "  <thead>\n",
       "    <tr style=\"text-align: right;\">\n",
       "      <th></th>\n",
       "      <th>product_type</th>\n",
       "      <th>count</th>\n",
       "    </tr>\n",
       "  </thead>\n",
       "  <tbody>\n",
       "    <tr>\n",
       "      <th>0</th>\n",
       "      <td>Laptops</td>\n",
       "      <td>0.73052</td>\n",
       "    </tr>\n",
       "    <tr>\n",
       "      <th>1</th>\n",
       "      <td>Desktops</td>\n",
       "      <td>0.23601</td>\n",
       "    </tr>\n",
       "    <tr>\n",
       "      <th>2</th>\n",
       "      <td>Other Electronics</td>\n",
       "      <td>0.03327</td>\n",
       "    </tr>\n",
       "    <tr>\n",
       "      <th>3</th>\n",
       "      <td>Unknown</td>\n",
       "      <td>0.00020</td>\n",
       "    </tr>\n",
       "  </tbody>\n",
       "</table>\n",
       "</div>"
      ],
      "text/plain": [
       "        product_type    count\n",
       "0            Laptops  0.73052\n",
       "1           Desktops  0.23601\n",
       "2  Other Electronics  0.03327\n",
       "3            Unknown  0.00020"
      ]
     },
     "execution_count": 396,
     "metadata": {},
     "output_type": "execute_result"
    }
   ],
   "source": [
    "# grab data for product type and number of cases over time\n",
    "df_count_product_type = pd.DataFrame(df.product_type.value_counts(normalize=True)).reset_index()\n",
    "df_count_product_type = df_count_product_type.rename(columns={'product_type':'count'})\n",
    "df_count_product_type = df_count_product_type.rename(columns={'index':'product_type'})\n",
    "df_count_product_type.head()"
   ]
  },
  {
   "cell_type": "code",
   "execution_count": 397,
   "metadata": {
    "scrolled": false
   },
   "outputs": [
    {
     "data": {
      "image/png": "[encoded data removed]",
      "text/plain": [
       "<Figure size 432x288 with 1 Axes>"
      ]
     },
     "metadata": {
      "needs_background": "light"
     },
     "output_type": "display_data"
    }
   ],
   "source": [
    "# create a bar chart of the findings \n",
    "\n",
    "labels_product_type=df_count_product_type['product_type']\n",
    "values_product_type=df_count_product_type['count']\n",
    "\n",
    "def product_type_bar_plot():\n",
    "    # this is for plotting purpose\n",
    "    index = np.arange(len(labels_product_type))\n",
    "    plt.bar(index, values_product_type, color='tomato')\n",
    "    plt.xlabel('Product Types', fontsize=10)\n",
    "    plt.ylabel('Percent of Cases Over Time', fontsize=10)\n",
    "    plt.xticks(index, labels_product_type, fontsize=10, rotation=30)\n",
    "    plt.title('Product Type vs Cases Over Time', fontsize=15)\n",
    "    plt.show()\n",
    "product_type_bar_plot()"
   ]
  },
  {
   "cell_type": "code",
   "execution_count": 398,
   "metadata": {},
   "outputs": [
    {
     "data": {
      "text/html": [
       "<div>\n",
       "<style scoped>\n",
       "    .dataframe tbody tr th:only-of-type {\n",
       "        vertical-align: middle;\n",
       "    }\n",
       "\n",
       "    .dataframe tbody tr th {\n",
       "        vertical-align: top;\n",
       "    }\n",
       "\n",
       "    .dataframe thead th {\n",
       "        text-align: right;\n",
       "    }\n",
       "</style>\n",
       "<table border=\"1\" class=\"dataframe\">\n",
       "  <thead>\n",
       "    <tr style=\"text-align: right;\">\n",
       "      <th></th>\n",
       "      <th></th>\n",
       "      <th>count</th>\n",
       "    </tr>\n",
       "    <tr>\n",
       "      <th>mnfture_wk</th>\n",
       "      <th>product_type</th>\n",
       "      <th></th>\n",
       "    </tr>\n",
       "  </thead>\n",
       "  <tbody>\n",
       "    <tr>\n",
       "      <th>201826.0</th>\n",
       "      <th>Laptops</th>\n",
       "      <td>1094</td>\n",
       "    </tr>\n",
       "    <tr>\n",
       "      <th>201825.0</th>\n",
       "      <th>Laptops</th>\n",
       "      <td>892</td>\n",
       "    </tr>\n",
       "    <tr>\n",
       "      <th>201813.0</th>\n",
       "      <th>Laptops</th>\n",
       "      <td>784</td>\n",
       "    </tr>\n",
       "    <tr>\n",
       "      <th>201839.0</th>\n",
       "      <th>Laptops</th>\n",
       "      <td>772</td>\n",
       "    </tr>\n",
       "    <tr>\n",
       "      <th>201739.0</th>\n",
       "      <th>Laptops</th>\n",
       "      <td>752</td>\n",
       "    </tr>\n",
       "    <tr>\n",
       "      <th>201808.0</th>\n",
       "      <th>Laptops</th>\n",
       "      <td>676</td>\n",
       "    </tr>\n",
       "    <tr>\n",
       "      <th>201821.0</th>\n",
       "      <th>Laptops</th>\n",
       "      <td>651</td>\n",
       "    </tr>\n",
       "    <tr>\n",
       "      <th>201744.0</th>\n",
       "      <th>Laptops</th>\n",
       "      <td>648</td>\n",
       "    </tr>\n",
       "    <tr>\n",
       "      <th>201816.0</th>\n",
       "      <th>Laptops</th>\n",
       "      <td>642</td>\n",
       "    </tr>\n",
       "    <tr>\n",
       "      <th>201832.0</th>\n",
       "      <th>Laptops</th>\n",
       "      <td>619</td>\n",
       "    </tr>\n",
       "  </tbody>\n",
       "</table>\n",
       "</div>"
      ],
      "text/plain": [
       "                         count\n",
       "mnfture_wk product_type       \n",
       "201826.0   Laptops        1094\n",
       "201825.0   Laptops         892\n",
       "201813.0   Laptops         784\n",
       "201839.0   Laptops         772\n",
       "201739.0   Laptops         752\n",
       "201808.0   Laptops         676\n",
       "201821.0   Laptops         651\n",
       "201744.0   Laptops         648\n",
       "201816.0   Laptops         642\n",
       "201832.0   Laptops         619"
      ]
     },
     "execution_count": 398,
     "metadata": {},
     "output_type": "execute_result"
    }
   ],
   "source": [
    "# find manufactured weeks vs product types with higher reporting numbers \n",
    "df_laptop_most = pd.DataFrame(df.groupby(['mnfture_wk','product_type']).mnfture_wk.count())\n",
    "df_laptop_most = df_laptop_most.rename(columns={'mnfture_wk':'count'})\n",
    "df_laptop_most = df_laptop_most.sort_values('count', ascending=False)\n",
    "df_laptop_most.head(10)"
   ]
  },
  {
   "cell_type": "markdown",
   "metadata": {},
   "source": [
    "<strong>Findings</strong>: \n",
    "* As seen from the bar chart laptops with 73% reported compared with other product types for issues if we ignore contact week after the contract ends.\n",
    "* The above table is grouped by 'mnfture_wk' and 'product_type' and aggregated by 'count' to see what manufactured week most product type was reported. As seen from the table, manufactured weeks 26, 25, 13, 39 of 2018 reporting more numbers of laptops. "
   ]
  },
  {
   "cell_type": "markdown",
   "metadata": {},
   "source": [
    "### Number of Cases Over Time: Repair Type"
   ]
  },
  {
   "cell_type": "code",
   "execution_count": 399,
   "metadata": {
    "scrolled": true
   },
   "outputs": [
    {
     "data": {
      "text/html": [
       "<div>\n",
       "<style scoped>\n",
       "    .dataframe tbody tr th:only-of-type {\n",
       "        vertical-align: middle;\n",
       "    }\n",
       "\n",
       "    .dataframe tbody tr th {\n",
       "        vertical-align: top;\n",
       "    }\n",
       "\n",
       "    .dataframe thead th {\n",
       "        text-align: right;\n",
       "    }\n",
       "</style>\n",
       "<table border=\"1\" class=\"dataframe\">\n",
       "  <thead>\n",
       "    <tr style=\"text-align: right;\">\n",
       "      <th></th>\n",
       "      <th>repair_type</th>\n",
       "      <th>count</th>\n",
       "    </tr>\n",
       "  </thead>\n",
       "  <tbody>\n",
       "    <tr>\n",
       "      <th>0</th>\n",
       "      <td>Hard</td>\n",
       "      <td>0.59495</td>\n",
       "    </tr>\n",
       "    <tr>\n",
       "      <th>1</th>\n",
       "      <td>Soft</td>\n",
       "      <td>0.40505</td>\n",
       "    </tr>\n",
       "  </tbody>\n",
       "</table>\n",
       "</div>"
      ],
      "text/plain": [
       "  repair_type    count\n",
       "0        Hard  0.59495\n",
       "1        Soft  0.40505"
      ]
     },
     "execution_count": 399,
     "metadata": {},
     "output_type": "execute_result"
    }
   ],
   "source": [
    "# grab data for repair type and number of cases over time\n",
    "\n",
    "df_count_repair_type = pd.DataFrame(df.repair_type.value_counts(normalize=True)).reset_index()\n",
    "df_count_repair_type = df_count_repair_type.rename(columns={'repair_type':'count'})\n",
    "df_count_repair_type = df_count_repair_type.rename(columns={'index':'repair_type'})\n",
    "df_count_repair_type.head()"
   ]
  },
  {
   "cell_type": "code",
   "execution_count": 400,
   "metadata": {},
   "outputs": [
    {
     "data": {
      "image/png": "[encoded data removed]",
      "text/plain": [
       "<Figure size 432x288 with 1 Axes>"
      ]
     },
     "metadata": {
      "needs_background": "light"
     },
     "output_type": "display_data"
    }
   ],
   "source": [
    "# create a bar chart of the findings \n",
    "\n",
    "labels_repair_type=df_count_repair_type['repair_type']\n",
    "values_repair_type=df_count_repair_type['count']\n",
    "\n",
    "def repair_type_bar_plot():\n",
    "    # this is for plotting purpose\n",
    "    index = np.arange(len(labels_repair_type))\n",
    "    plt.bar(index, values_repair_type, color='tomato')\n",
    "    plt.xlabel('Repair Types', fontsize=10)\n",
    "    plt.ylabel('Percent of Cases Over Time', fontsize=10)\n",
    "    plt.xticks(index, labels_repair_type, fontsize=10, rotation=30)\n",
    "    plt.title('Repair Type vs Cases Over Time', fontsize=15)\n",
    "    plt.show()\n",
    "repair_type_bar_plot()"
   ]
  },
  {
   "cell_type": "code",
   "execution_count": 401,
   "metadata": {},
   "outputs": [
    {
     "data": {
      "text/html": [
       "<div>\n",
       "<style scoped>\n",
       "    .dataframe tbody tr th:only-of-type {\n",
       "        vertical-align: middle;\n",
       "    }\n",
       "\n",
       "    .dataframe tbody tr th {\n",
       "        vertical-align: top;\n",
       "    }\n",
       "\n",
       "    .dataframe thead th {\n",
       "        text-align: right;\n",
       "    }\n",
       "</style>\n",
       "<table border=\"1\" class=\"dataframe\">\n",
       "  <thead>\n",
       "    <tr style=\"text-align: right;\">\n",
       "      <th></th>\n",
       "      <th></th>\n",
       "      <th></th>\n",
       "      <th>count</th>\n",
       "    </tr>\n",
       "    <tr>\n",
       "      <th>mnfture_wk</th>\n",
       "      <th>product_type</th>\n",
       "      <th>repair_type</th>\n",
       "      <th></th>\n",
       "    </tr>\n",
       "  </thead>\n",
       "  <tbody>\n",
       "    <tr>\n",
       "      <th>201839.0</th>\n",
       "      <th>Laptops</th>\n",
       "      <th>Soft</th>\n",
       "      <td>597</td>\n",
       "    </tr>\n",
       "    <tr>\n",
       "      <th rowspan=\"2\" valign=\"top\">201826.0</th>\n",
       "      <th rowspan=\"2\" valign=\"top\">Laptops</th>\n",
       "      <th>Hard</th>\n",
       "      <td>557</td>\n",
       "    </tr>\n",
       "    <tr>\n",
       "      <th>Soft</th>\n",
       "      <td>537</td>\n",
       "    </tr>\n",
       "    <tr>\n",
       "      <th>201813.0</th>\n",
       "      <th>Laptops</th>\n",
       "      <th>Hard</th>\n",
       "      <td>532</td>\n",
       "    </tr>\n",
       "    <tr>\n",
       "      <th>201825.0</th>\n",
       "      <th>Laptops</th>\n",
       "      <th>Hard</th>\n",
       "      <td>505</td>\n",
       "    </tr>\n",
       "    <tr>\n",
       "      <th>201626.0</th>\n",
       "      <th>Laptops</th>\n",
       "      <th>Hard</th>\n",
       "      <td>486</td>\n",
       "    </tr>\n",
       "    <tr>\n",
       "      <th>201739.0</th>\n",
       "      <th>Laptops</th>\n",
       "      <th>Hard</th>\n",
       "      <td>476</td>\n",
       "    </tr>\n",
       "    <tr>\n",
       "      <th>201816.0</th>\n",
       "      <th>Laptops</th>\n",
       "      <th>Hard</th>\n",
       "      <td>464</td>\n",
       "    </tr>\n",
       "    <tr>\n",
       "      <th>201625.0</th>\n",
       "      <th>Laptops</th>\n",
       "      <th>Hard</th>\n",
       "      <td>459</td>\n",
       "    </tr>\n",
       "    <tr>\n",
       "      <th>201520.0</th>\n",
       "      <th>Laptops</th>\n",
       "      <th>Hard</th>\n",
       "      <td>439</td>\n",
       "    </tr>\n",
       "  </tbody>\n",
       "</table>\n",
       "</div>"
      ],
      "text/plain": [
       "                                     count\n",
       "mnfture_wk product_type repair_type       \n",
       "201839.0   Laptops      Soft           597\n",
       "201826.0   Laptops      Hard           557\n",
       "                        Soft           537\n",
       "201813.0   Laptops      Hard           532\n",
       "201825.0   Laptops      Hard           505\n",
       "201626.0   Laptops      Hard           486\n",
       "201739.0   Laptops      Hard           476\n",
       "201816.0   Laptops      Hard           464\n",
       "201625.0   Laptops      Hard           459\n",
       "201520.0   Laptops      Hard           439"
      ]
     },
     "execution_count": 401,
     "metadata": {},
     "output_type": "execute_result"
    }
   ],
   "source": [
    "# find manufactured weeks - product types vs repair types with higher reporting numbers \n",
    "df_laptop_repair_most = pd.DataFrame(df.groupby(['mnfture_wk','product_type', 'repair_type']).mnfture_wk.count())\n",
    "df_laptop_repair_most = df_laptop_repair_most.rename(columns={'mnfture_wk':'count'})\n",
    "df_laptop_repair_most = df_laptop_repair_most.sort_values('count', ascending=False)\n",
    "df_laptop_repair_most.head(10)"
   ]
  },
  {
   "cell_type": "markdown",
   "metadata": {},
   "source": [
    "<strong>Findings</strong>:\n",
    "* Approximately 59% of issues are related to hard-ware problems.\n",
    "* The table above is grouped by 'mnfture_wk','product_type', and 'repair_type' to determine what manufactured week most repair type was reported along with product type. \n",
    "* As seen from this table, manufactured week 39, 26, 13, 25 were top reported with laptops as prduct type with software and hardware issues counts. "
   ]
  },
  {
   "cell_type": "markdown",
   "metadata": {},
   "source": [
    "### Number of Cases Over Time: Parts Sent"
   ]
  },
  {
   "cell_type": "code",
   "execution_count": 402,
   "metadata": {
    "scrolled": false
   },
   "outputs": [
    {
     "data": {
      "text/html": [
       "<div>\n",
       "<style scoped>\n",
       "    .dataframe tbody tr th:only-of-type {\n",
       "        vertical-align: middle;\n",
       "    }\n",
       "\n",
       "    .dataframe tbody tr th {\n",
       "        vertical-align: top;\n",
       "    }\n",
       "\n",
       "    .dataframe thead th {\n",
       "        text-align: right;\n",
       "    }\n",
       "</style>\n",
       "<table border=\"1\" class=\"dataframe\">\n",
       "  <thead>\n",
       "    <tr style=\"text-align: right;\">\n",
       "      <th></th>\n",
       "      <th>parts_sent</th>\n",
       "      <th>percent</th>\n",
       "    </tr>\n",
       "  </thead>\n",
       "  <tbody>\n",
       "    <tr>\n",
       "      <th>0</th>\n",
       "      <td>Unknown</td>\n",
       "      <td>0.45434</td>\n",
       "    </tr>\n",
       "    <tr>\n",
       "      <th>1</th>\n",
       "      <td>Hard Drive</td>\n",
       "      <td>0.04504</td>\n",
       "    </tr>\n",
       "    <tr>\n",
       "      <th>2</th>\n",
       "      <td>Motherboard, Documentation</td>\n",
       "      <td>0.04405</td>\n",
       "    </tr>\n",
       "    <tr>\n",
       "      <th>3</th>\n",
       "      <td>LCD Panel</td>\n",
       "      <td>0.03022</td>\n",
       "    </tr>\n",
       "    <tr>\n",
       "      <th>4</th>\n",
       "      <td>Keyboard</td>\n",
       "      <td>0.02981</td>\n",
       "    </tr>\n",
       "  </tbody>\n",
       "</table>\n",
       "</div>"
      ],
      "text/plain": [
       "                   parts_sent  percent\n",
       "0                     Unknown  0.45434\n",
       "1                  Hard Drive  0.04504\n",
       "2  Motherboard, Documentation  0.04405\n",
       "3                   LCD Panel  0.03022\n",
       "4                    Keyboard  0.02981"
      ]
     },
     "execution_count": 402,
     "metadata": {},
     "output_type": "execute_result"
    }
   ],
   "source": [
    "# filtering data \n",
    "df_count_parts_sent = pd.DataFrame(df.parts_sent.value_counts(normalize=True)).reset_index()\n",
    "df_count_parts_sent = df_count_parts_sent.rename(columns={'parts_sent':'percent'})\n",
    "df_count_parts_sent = df_count_parts_sent.loc[df_count_parts_sent['percent'] >0.003,:]\n",
    "df_count_parts_sent = df_count_parts_sent.rename(columns={'index':'parts_sent'})\n",
    "# df_count_parts_sent = df_count_parts_sent.iloc[1:] # 45% 'unknown' is dropped\n",
    "df_count_parts_sent.head()"
   ]
  },
  {
   "cell_type": "code",
   "execution_count": 403,
   "metadata": {
    "scrolled": true
   },
   "outputs": [
    {
     "data": {
      "text/html": [
       "<iframe id=\"igraph\" scrolling=\"no\" style=\"border:none;\" seamless=\"seamless\" src=\"https://plot.ly/~mrbalikci/220.embed\" height=\"525px\" width=\"100%\"></iframe>"
      ],
      "text/plain": [
       "<chart_studio.tools.PlotlyDisplay object>"
      ]
     },
     "execution_count": 403,
     "metadata": {},
     "output_type": "execute_result"
    }
   ],
   "source": [
    "# plot the data by plotly\n",
    "\n",
    "x=df_count_parts_sent['parts_sent']\n",
    "y=df_count_parts_sent['percent'] \n",
    "\n",
    "data = [\n",
    "    go.Bar(\n",
    "        x=x, # assign x as the dataframe column 'x'\n",
    "        y=y\n",
    "    )\n",
    "]\n",
    "\n",
    "layout = go.Layout(\n",
    "    barmode='stack',\n",
    "    title='Parts Sent vs Cases Over Time'\n",
    ")\n",
    "fig = go.Figure(data=data, layout=layout)\n",
    "\n",
    "py.iplot(fig)"
   ]
  },
  {
   "cell_type": "code",
   "execution_count": 404,
   "metadata": {},
   "outputs": [
    {
     "data": {
      "text/html": [
       "<div>\n",
       "<style scoped>\n",
       "    .dataframe tbody tr th:only-of-type {\n",
       "        vertical-align: middle;\n",
       "    }\n",
       "\n",
       "    .dataframe tbody tr th {\n",
       "        vertical-align: top;\n",
       "    }\n",
       "\n",
       "    .dataframe thead th {\n",
       "        text-align: right;\n",
       "    }\n",
       "</style>\n",
       "<table border=\"1\" class=\"dataframe\">\n",
       "  <thead>\n",
       "    <tr style=\"text-align: right;\">\n",
       "      <th></th>\n",
       "      <th>mnfture_wk</th>\n",
       "      <th>product_type</th>\n",
       "      <th>repair_type</th>\n",
       "      <th>parts_sent</th>\n",
       "      <th>count</th>\n",
       "    </tr>\n",
       "  </thead>\n",
       "  <tbody>\n",
       "    <tr>\n",
       "      <th>0</th>\n",
       "      <td>201839.0</td>\n",
       "      <td>Laptops</td>\n",
       "      <td>Soft</td>\n",
       "      <td>Unknown</td>\n",
       "      <td>597</td>\n",
       "    </tr>\n",
       "    <tr>\n",
       "      <th>1</th>\n",
       "      <td>201826.0</td>\n",
       "      <td>Laptops</td>\n",
       "      <td>Soft</td>\n",
       "      <td>Unknown</td>\n",
       "      <td>537</td>\n",
       "    </tr>\n",
       "    <tr>\n",
       "      <th>2</th>\n",
       "      <td>201839.0</td>\n",
       "      <td>Desktops</td>\n",
       "      <td>Soft</td>\n",
       "      <td>Unknown</td>\n",
       "      <td>414</td>\n",
       "    </tr>\n",
       "    <tr>\n",
       "      <th>3</th>\n",
       "      <td>201825.0</td>\n",
       "      <td>Laptops</td>\n",
       "      <td>Soft</td>\n",
       "      <td>Unknown</td>\n",
       "      <td>387</td>\n",
       "    </tr>\n",
       "    <tr>\n",
       "      <th>4</th>\n",
       "      <td>201832.0</td>\n",
       "      <td>Laptops</td>\n",
       "      <td>Soft</td>\n",
       "      <td>Unknown</td>\n",
       "      <td>362</td>\n",
       "    </tr>\n",
       "    <tr>\n",
       "      <th>5</th>\n",
       "      <td>201838.0</td>\n",
       "      <td>Laptops</td>\n",
       "      <td>Soft</td>\n",
       "      <td>Unknown</td>\n",
       "      <td>339</td>\n",
       "    </tr>\n",
       "    <tr>\n",
       "      <th>6</th>\n",
       "      <td>201834.0</td>\n",
       "      <td>Laptops</td>\n",
       "      <td>Soft</td>\n",
       "      <td>Unknown</td>\n",
       "      <td>337</td>\n",
       "    </tr>\n",
       "    <tr>\n",
       "      <th>7</th>\n",
       "      <td>201831.0</td>\n",
       "      <td>Laptops</td>\n",
       "      <td>Soft</td>\n",
       "      <td>Unknown</td>\n",
       "      <td>292</td>\n",
       "    </tr>\n",
       "    <tr>\n",
       "      <th>8</th>\n",
       "      <td>201739.0</td>\n",
       "      <td>Laptops</td>\n",
       "      <td>Soft</td>\n",
       "      <td>Unknown</td>\n",
       "      <td>276</td>\n",
       "    </tr>\n",
       "    <tr>\n",
       "      <th>9</th>\n",
       "      <td>201836.0</td>\n",
       "      <td>Laptops</td>\n",
       "      <td>Soft</td>\n",
       "      <td>Unknown</td>\n",
       "      <td>275</td>\n",
       "    </tr>\n",
       "  </tbody>\n",
       "</table>\n",
       "</div>"
      ],
      "text/plain": [
       "   mnfture_wk product_type repair_type parts_sent  count\n",
       "0    201839.0      Laptops        Soft    Unknown    597\n",
       "1    201826.0      Laptops        Soft    Unknown    537\n",
       "2    201839.0     Desktops        Soft    Unknown    414\n",
       "3    201825.0      Laptops        Soft    Unknown    387\n",
       "4    201832.0      Laptops        Soft    Unknown    362\n",
       "5    201838.0      Laptops        Soft    Unknown    339\n",
       "6    201834.0      Laptops        Soft    Unknown    337\n",
       "7    201831.0      Laptops        Soft    Unknown    292\n",
       "8    201739.0      Laptops        Soft    Unknown    276\n",
       "9    201836.0      Laptops        Soft    Unknown    275"
      ]
     },
     "execution_count": 404,
     "metadata": {},
     "output_type": "execute_result"
    }
   ],
   "source": [
    "# find manufactured weeks - product types-repair types vs parts sent with higher reporting numbers \n",
    "df_laptop_repair_parts_most = pd.DataFrame(df.groupby(['mnfture_wk',\n",
    "                                                       'product_type', \n",
    "                                                       'repair_type', \n",
    "                                                       'parts_sent']).mnfture_wk.count())\n",
    "df_laptop_repair_parts_most = df_laptop_repair_parts_most.rename(columns={'mnfture_wk':'count'})\n",
    "df_laptop_repair_parts_most = df_laptop_repair_parts_most.sort_values('count', ascending=False).reset_index()\n",
    "df_laptop_repair_parts_most.head(10)"
   ]
  },
  {
   "cell_type": "code",
   "execution_count": 405,
   "metadata": {},
   "outputs": [
    {
     "data": {
      "text/html": [
       "<div>\n",
       "<style scoped>\n",
       "    .dataframe tbody tr th:only-of-type {\n",
       "        vertical-align: middle;\n",
       "    }\n",
       "\n",
       "    .dataframe tbody tr th {\n",
       "        vertical-align: top;\n",
       "    }\n",
       "\n",
       "    .dataframe thead th {\n",
       "        text-align: right;\n",
       "    }\n",
       "</style>\n",
       "<table border=\"1\" class=\"dataframe\">\n",
       "  <thead>\n",
       "    <tr style=\"text-align: right;\">\n",
       "      <th></th>\n",
       "      <th>mnfture_wk</th>\n",
       "      <th>product_type</th>\n",
       "      <th>repair_type</th>\n",
       "      <th>parts_sent</th>\n",
       "      <th>count</th>\n",
       "    </tr>\n",
       "  </thead>\n",
       "  <tbody>\n",
       "    <tr>\n",
       "      <th>90</th>\n",
       "      <td>201626.0</td>\n",
       "      <td>Laptops</td>\n",
       "      <td>Hard</td>\n",
       "      <td>Adapter, AC</td>\n",
       "      <td>110</td>\n",
       "    </tr>\n",
       "    <tr>\n",
       "      <th>92</th>\n",
       "      <td>201816.0</td>\n",
       "      <td>Laptops</td>\n",
       "      <td>Hard</td>\n",
       "      <td>LCD Panel</td>\n",
       "      <td>109</td>\n",
       "    </tr>\n",
       "    <tr>\n",
       "      <th>105</th>\n",
       "      <td>201819.0</td>\n",
       "      <td>Laptops</td>\n",
       "      <td>Hard</td>\n",
       "      <td>LCD Panel</td>\n",
       "      <td>93</td>\n",
       "    </tr>\n",
       "    <tr>\n",
       "      <th>109</th>\n",
       "      <td>201824.0</td>\n",
       "      <td>Laptops</td>\n",
       "      <td>Hard</td>\n",
       "      <td>LCD Panel</td>\n",
       "      <td>91</td>\n",
       "    </tr>\n",
       "    <tr>\n",
       "      <th>132</th>\n",
       "      <td>201823.0</td>\n",
       "      <td>Laptops</td>\n",
       "      <td>Hard</td>\n",
       "      <td>LCD Panel</td>\n",
       "      <td>78</td>\n",
       "    </tr>\n",
       "    <tr>\n",
       "      <th>143</th>\n",
       "      <td>201820.0</td>\n",
       "      <td>Laptops</td>\n",
       "      <td>Hard</td>\n",
       "      <td>LCD Panel</td>\n",
       "      <td>72</td>\n",
       "    </tr>\n",
       "    <tr>\n",
       "      <th>148</th>\n",
       "      <td>201520.0</td>\n",
       "      <td>Laptops</td>\n",
       "      <td>Hard</td>\n",
       "      <td>Miscellaneous</td>\n",
       "      <td>71</td>\n",
       "    </tr>\n",
       "    <tr>\n",
       "      <th>191</th>\n",
       "      <td>201613.0</td>\n",
       "      <td>Laptops</td>\n",
       "      <td>Hard</td>\n",
       "      <td>LCD Panel</td>\n",
       "      <td>57</td>\n",
       "    </tr>\n",
       "    <tr>\n",
       "      <th>195</th>\n",
       "      <td>201523.0</td>\n",
       "      <td>Laptops</td>\n",
       "      <td>Hard</td>\n",
       "      <td>Miscellaneous</td>\n",
       "      <td>56</td>\n",
       "    </tr>\n",
       "    <tr>\n",
       "      <th>197</th>\n",
       "      <td>201445.0</td>\n",
       "      <td>Laptops</td>\n",
       "      <td>Hard</td>\n",
       "      <td>Chassis</td>\n",
       "      <td>56</td>\n",
       "    </tr>\n",
       "  </tbody>\n",
       "</table>\n",
       "</div>"
      ],
      "text/plain": [
       "     mnfture_wk product_type repair_type     parts_sent  count\n",
       "90     201626.0      Laptops        Hard    Adapter, AC    110\n",
       "92     201816.0      Laptops        Hard      LCD Panel    109\n",
       "105    201819.0      Laptops        Hard      LCD Panel     93\n",
       "109    201824.0      Laptops        Hard      LCD Panel     91\n",
       "132    201823.0      Laptops        Hard      LCD Panel     78\n",
       "143    201820.0      Laptops        Hard      LCD Panel     72\n",
       "148    201520.0      Laptops        Hard  Miscellaneous     71\n",
       "191    201613.0      Laptops        Hard      LCD Panel     57\n",
       "195    201523.0      Laptops        Hard  Miscellaneous     56\n",
       "197    201445.0      Laptops        Hard        Chassis     56"
      ]
     },
     "execution_count": 405,
     "metadata": {},
     "output_type": "execute_result"
    }
   ],
   "source": [
    "# find manufactured weeks - product types vs repair types with higher reporting numbers without 'Unknown'\n",
    "\n",
    "df_laptop_repair_parts_most = df_laptop_repair_parts_most.loc[df_laptop_repair_parts_most['parts_sent'] != 'Unknown',:]\n",
    "df_laptop_repair_parts_most.head(10)"
   ]
  },
  {
   "cell_type": "markdown",
   "metadata": {},
   "source": [
    "<strong>Findings</strong>:\n",
    "* Hard Drive, Motherboard, LCD Panel are top 3 items sent more and more compared to the other parts over time\n",
    "* Keep that in mind 45% of the parts sent over time is 'unknown' and they are all related laptops-software from manufactured weeks 39, 26, 25, 32 of 2018 for top 5. \n",
    "* After filtering 'Unkown' from the table, we can see that for 2018 with weeks 16, 19, 24, and 23 leading top numbers for laptop-hardware and LCD Panel. Only week 26 of 2016 got a higher number for Adapter, AC as number 1 in the list. \n",
    "* So, software related parts marked as 'Unknown', perhaps, this type of part was not ment to be sent since it is software related issue. \n",
    "* In other hands, hardware related issuses can give us some ideas year of 2018 with marked weeks should be inspected at its production level and LCD Panels could be the top one to focus. \n",
    "* Please note, these tables can be expended for other type of parts for further inspection. "
   ]
  },
  {
   "cell_type": "markdown",
   "metadata": {},
   "source": [
    "### Number of Cases Over Time: Contact Type"
   ]
  },
  {
   "cell_type": "code",
   "execution_count": 406,
   "metadata": {
    "scrolled": true
   },
   "outputs": [
    {
     "data": {
      "text/html": [
       "<div>\n",
       "<style scoped>\n",
       "    .dataframe tbody tr th:only-of-type {\n",
       "        vertical-align: middle;\n",
       "    }\n",
       "\n",
       "    .dataframe tbody tr th {\n",
       "        vertical-align: top;\n",
       "    }\n",
       "\n",
       "    .dataframe thead th {\n",
       "        text-align: right;\n",
       "    }\n",
       "</style>\n",
       "<table border=\"1\" class=\"dataframe\">\n",
       "  <thead>\n",
       "    <tr style=\"text-align: right;\">\n",
       "      <th></th>\n",
       "      <th>contact_type</th>\n",
       "      <th>percent</th>\n",
       "    </tr>\n",
       "  </thead>\n",
       "  <tbody>\n",
       "    <tr>\n",
       "      <th>0</th>\n",
       "      <td>Voice</td>\n",
       "      <td>0.84162</td>\n",
       "    </tr>\n",
       "    <tr>\n",
       "      <th>1</th>\n",
       "      <td>CHAT</td>\n",
       "      <td>0.14425</td>\n",
       "    </tr>\n",
       "    <tr>\n",
       "      <th>2</th>\n",
       "      <td>EMAIL</td>\n",
       "      <td>0.01281</td>\n",
       "    </tr>\n",
       "    <tr>\n",
       "      <th>3</th>\n",
       "      <td>Unknown</td>\n",
       "      <td>0.00132</td>\n",
       "    </tr>\n",
       "  </tbody>\n",
       "</table>\n",
       "</div>"
      ],
      "text/plain": [
       "  contact_type  percent\n",
       "0        Voice  0.84162\n",
       "1         CHAT  0.14425\n",
       "2        EMAIL  0.01281\n",
       "3      Unknown  0.00132"
      ]
     },
     "execution_count": 406,
     "metadata": {},
     "output_type": "execute_result"
    }
   ],
   "source": [
    "# data for number of contact type in percents\n",
    "\n",
    "df_count_contact_type = pd.DataFrame(df.contact_type.value_counts(normalize=True)).reset_index()\n",
    "df_count_contact_type = df_count_contact_type.rename(columns={'contact_type':'percent'})\n",
    "df_count_contact_type = df_count_contact_type.rename(columns={'index':'contact_type'})\n",
    "df_count_contact_type"
   ]
  },
  {
   "cell_type": "code",
   "execution_count": 407,
   "metadata": {
    "scrolled": true
   },
   "outputs": [
    {
     "data": {
      "image/png": "[encoded data removed]",
      "text/plain": [
       "<Figure size 432x288 with 1 Axes>"
      ]
     },
     "metadata": {
      "needs_background": "light"
     },
     "output_type": "display_data"
    }
   ],
   "source": [
    "# create a bar chart of the table df_count_contact_type\n",
    "\n",
    "labels_contact_type=df_count_contact_type['contact_type']\n",
    "values_contact_type=df_count_contact_type['percent']\n",
    "\n",
    "def contact_type_bar_plot():\n",
    "    # this is for plotting purpose\n",
    "    index = np.arange(len(labels_contact_type))\n",
    "    plt.bar(index, values_contact_type, color='tomato')\n",
    "    plt.xlabel('Contact Types', fontsize=10)\n",
    "    plt.ylabel('Percent of Cases Over Time', fontsize=10)\n",
    "    plt.xticks(index, labels_contact_type, fontsize=10, rotation=30)\n",
    "    plt.title('Contact Type vs Cases Over Time', fontsize=15)\n",
    "    plt.show()\n",
    "contact_type_bar_plot()"
   ]
  },
  {
   "cell_type": "code",
   "execution_count": 408,
   "metadata": {},
   "outputs": [
    {
     "data": {
      "text/html": [
       "<div>\n",
       "<style scoped>\n",
       "    .dataframe tbody tr th:only-of-type {\n",
       "        vertical-align: middle;\n",
       "    }\n",
       "\n",
       "    .dataframe tbody tr th {\n",
       "        vertical-align: top;\n",
       "    }\n",
       "\n",
       "    .dataframe thead th {\n",
       "        text-align: right;\n",
       "    }\n",
       "</style>\n",
       "<table border=\"1\" class=\"dataframe\">\n",
       "  <thead>\n",
       "    <tr style=\"text-align: right;\">\n",
       "      <th></th>\n",
       "      <th></th>\n",
       "      <th></th>\n",
       "      <th></th>\n",
       "      <th></th>\n",
       "      <th>count</th>\n",
       "    </tr>\n",
       "    <tr>\n",
       "      <th>mnfture_wk</th>\n",
       "      <th>product_type</th>\n",
       "      <th>repair_type</th>\n",
       "      <th>parts_sent</th>\n",
       "      <th>contact_type</th>\n",
       "      <th></th>\n",
       "    </tr>\n",
       "  </thead>\n",
       "  <tbody>\n",
       "    <tr>\n",
       "      <th>201839.0</th>\n",
       "      <th>Laptops</th>\n",
       "      <th>Soft</th>\n",
       "      <th>Unknown</th>\n",
       "      <th>Voice</th>\n",
       "      <td>493</td>\n",
       "    </tr>\n",
       "    <tr>\n",
       "      <th>201826.0</th>\n",
       "      <th>Laptops</th>\n",
       "      <th>Soft</th>\n",
       "      <th>Unknown</th>\n",
       "      <th>Voice</th>\n",
       "      <td>491</td>\n",
       "    </tr>\n",
       "    <tr>\n",
       "      <th>201839.0</th>\n",
       "      <th>Desktops</th>\n",
       "      <th>Soft</th>\n",
       "      <th>Unknown</th>\n",
       "      <th>Voice</th>\n",
       "      <td>361</td>\n",
       "    </tr>\n",
       "    <tr>\n",
       "      <th>201825.0</th>\n",
       "      <th>Laptops</th>\n",
       "      <th>Soft</th>\n",
       "      <th>Unknown</th>\n",
       "      <th>Voice</th>\n",
       "      <td>345</td>\n",
       "    </tr>\n",
       "    <tr>\n",
       "      <th>201832.0</th>\n",
       "      <th>Laptops</th>\n",
       "      <th>Soft</th>\n",
       "      <th>Unknown</th>\n",
       "      <th>Voice</th>\n",
       "      <td>336</td>\n",
       "    </tr>\n",
       "    <tr>\n",
       "      <th>201838.0</th>\n",
       "      <th>Laptops</th>\n",
       "      <th>Soft</th>\n",
       "      <th>Unknown</th>\n",
       "      <th>Voice</th>\n",
       "      <td>291</td>\n",
       "    </tr>\n",
       "    <tr>\n",
       "      <th>201834.0</th>\n",
       "      <th>Laptops</th>\n",
       "      <th>Soft</th>\n",
       "      <th>Unknown</th>\n",
       "      <th>Voice</th>\n",
       "      <td>281</td>\n",
       "    </tr>\n",
       "    <tr>\n",
       "      <th>201831.0</th>\n",
       "      <th>Laptops</th>\n",
       "      <th>Soft</th>\n",
       "      <th>Unknown</th>\n",
       "      <th>Voice</th>\n",
       "      <td>258</td>\n",
       "    </tr>\n",
       "    <tr>\n",
       "      <th>201739.0</th>\n",
       "      <th>Laptops</th>\n",
       "      <th>Soft</th>\n",
       "      <th>Unknown</th>\n",
       "      <th>Voice</th>\n",
       "      <td>258</td>\n",
       "    </tr>\n",
       "    <tr>\n",
       "      <th>201827.0</th>\n",
       "      <th>Laptops</th>\n",
       "      <th>Soft</th>\n",
       "      <th>Unknown</th>\n",
       "      <th>Voice</th>\n",
       "      <td>239</td>\n",
       "    </tr>\n",
       "  </tbody>\n",
       "</table>\n",
       "</div>"
      ],
      "text/plain": [
       "                                                             count\n",
       "mnfture_wk product_type repair_type parts_sent contact_type       \n",
       "201839.0   Laptops      Soft        Unknown    Voice           493\n",
       "201826.0   Laptops      Soft        Unknown    Voice           491\n",
       "201839.0   Desktops     Soft        Unknown    Voice           361\n",
       "201825.0   Laptops      Soft        Unknown    Voice           345\n",
       "201832.0   Laptops      Soft        Unknown    Voice           336\n",
       "201838.0   Laptops      Soft        Unknown    Voice           291\n",
       "201834.0   Laptops      Soft        Unknown    Voice           281\n",
       "201831.0   Laptops      Soft        Unknown    Voice           258\n",
       "201739.0   Laptops      Soft        Unknown    Voice           258\n",
       "201827.0   Laptops      Soft        Unknown    Voice           239"
      ]
     },
     "execution_count": 408,
     "metadata": {},
     "output_type": "execute_result"
    }
   ],
   "source": [
    "# find manufactured weeks - product types-repair types-parts_sent vs contact_type with higher reporting numbers \n",
    "df_laptop_repair_parts_contact_most = pd.DataFrame(df.groupby(['mnfture_wk',\n",
    "                                                               'product_type', \n",
    "                                                               'repair_type', \n",
    "                                                               'parts_sent',\n",
    "                                                               'contact_type']).mnfture_wk.count())\n",
    "df_laptop_repair_parts_contact_most = df_laptop_repair_parts_contact_most.rename(columns={'mnfture_wk':'count'})\n",
    "df_laptop_repair_parts_contact_most = df_laptop_repair_parts_contact_most.sort_values('count', ascending=False)\n",
    "df_laptop_repair_parts_contact_most.head(10)"
   ]
  },
  {
   "cell_type": "markdown",
   "metadata": {},
   "source": [
    "<strong>Findings</strong>:\n",
    "* Voice is preferred as the main source of contact for the issues reporting with 84% rate.\n",
    "* As seen from the table above, contact_type voice seems to be a first choice for reporting an issue for the top manufactured weeks.\n",
    "* In the further analysis, we can inspect if the contact type 'voice' is one of the good choice for resolving issue if it is used by the customers. "
   ]
  },
  {
   "cell_type": "markdown",
   "metadata": {},
   "source": [
    "### Number of Cases Over Time: Topic Category"
   ]
  },
  {
   "cell_type": "code",
   "execution_count": 409,
   "metadata": {
    "scrolled": true
   },
   "outputs": [
    {
     "data": {
      "text/html": [
       "<div>\n",
       "<style scoped>\n",
       "    .dataframe tbody tr th:only-of-type {\n",
       "        vertical-align: middle;\n",
       "    }\n",
       "\n",
       "    .dataframe tbody tr th {\n",
       "        vertical-align: top;\n",
       "    }\n",
       "\n",
       "    .dataframe thead th {\n",
       "        text-align: right;\n",
       "    }\n",
       "</style>\n",
       "<table border=\"1\" class=\"dataframe\">\n",
       "  <thead>\n",
       "    <tr style=\"text-align: right;\">\n",
       "      <th></th>\n",
       "      <th>topic_category</th>\n",
       "      <th>percent</th>\n",
       "    </tr>\n",
       "  </thead>\n",
       "  <tbody>\n",
       "    <tr>\n",
       "      <th>0</th>\n",
       "      <td>Unknown</td>\n",
       "      <td>0.33084</td>\n",
       "    </tr>\n",
       "    <tr>\n",
       "      <th>1</th>\n",
       "      <td>Booting</td>\n",
       "      <td>0.15343</td>\n",
       "    </tr>\n",
       "    <tr>\n",
       "      <th>2</th>\n",
       "      <td>LCD/Monitor</td>\n",
       "      <td>0.05452</td>\n",
       "    </tr>\n",
       "    <tr>\n",
       "      <th>3</th>\n",
       "      <td>Call Logs</td>\n",
       "      <td>0.04837</td>\n",
       "    </tr>\n",
       "    <tr>\n",
       "      <th>4</th>\n",
       "      <td>General Queries</td>\n",
       "      <td>0.04141</td>\n",
       "    </tr>\n",
       "    <tr>\n",
       "      <th>5</th>\n",
       "      <td>Hard Drive</td>\n",
       "      <td>0.03534</td>\n",
       "    </tr>\n",
       "    <tr>\n",
       "      <th>6</th>\n",
       "      <td>System Performance</td>\n",
       "      <td>0.03459</td>\n",
       "    </tr>\n",
       "    <tr>\n",
       "      <th>7</th>\n",
       "      <td>Internet/Wireless</td>\n",
       "      <td>0.03093</td>\n",
       "    </tr>\n",
       "    <tr>\n",
       "      <th>8</th>\n",
       "      <td>Keyboard</td>\n",
       "      <td>0.02666</td>\n",
       "    </tr>\n",
       "    <tr>\n",
       "      <th>9</th>\n",
       "      <td>Battery</td>\n",
       "      <td>0.02478</td>\n",
       "    </tr>\n",
       "  </tbody>\n",
       "</table>\n",
       "</div>"
      ],
      "text/plain": [
       "       topic_category  percent\n",
       "0             Unknown  0.33084\n",
       "1             Booting  0.15343\n",
       "2         LCD/Monitor  0.05452\n",
       "3           Call Logs  0.04837\n",
       "4     General Queries  0.04141\n",
       "5          Hard Drive  0.03534\n",
       "6  System Performance  0.03459\n",
       "7   Internet/Wireless  0.03093\n",
       "8            Keyboard  0.02666\n",
       "9             Battery  0.02478"
      ]
     },
     "execution_count": 409,
     "metadata": {},
     "output_type": "execute_result"
    }
   ],
   "source": [
    "# data for the number of topic category normalized (in percents)\n",
    "df_count_topic_category = pd.DataFrame(df.topic_category.value_counts(normalize=True)).reset_index()\n",
    "df_count_topic_category = df_count_topic_category.rename(columns={'topic_category':'percent'})\n",
    "df_count_topic_category = df_count_topic_category.rename(columns={'index':'topic_category'})\n",
    "df_count_topic_category.head(10)"
   ]
  },
  {
   "cell_type": "code",
   "execution_count": 410,
   "metadata": {
    "scrolled": true
   },
   "outputs": [
    {
     "data": {
      "text/html": [
       "<iframe id=\"igraph\" scrolling=\"no\" style=\"border:none;\" seamless=\"seamless\" src=\"https://plot.ly/~mrbalikci/222.embed\" height=\"525px\" width=\"100%\"></iframe>"
      ],
      "text/plain": [
       "<chart_studio.tools.PlotlyDisplay object>"
      ]
     },
     "execution_count": 410,
     "metadata": {},
     "output_type": "execute_result"
    }
   ],
   "source": [
    "# plot the data for table df_count_topic_category\n",
    "\n",
    "x=df_count_topic_category['topic_category']\n",
    "y=df_count_topic_category['percent'] \n",
    "\n",
    "data = [\n",
    "    go.Bar(\n",
    "        x=x,\n",
    "        y=y\n",
    "    )\n",
    "]\n",
    "\n",
    "layout = go.Layout(\n",
    "    barmode='stack',\n",
    "    title='Topic Category vs Number of Cases Over Time'\n",
    ")\n",
    "fig = go.Figure(data=data, layout=layout)\n",
    "\n",
    "py.iplot(fig)"
   ]
  },
  {
   "cell_type": "code",
   "execution_count": 411,
   "metadata": {
    "scrolled": true
   },
   "outputs": [
    {
     "data": {
      "text/html": [
       "<div>\n",
       "<style scoped>\n",
       "    .dataframe tbody tr th:only-of-type {\n",
       "        vertical-align: middle;\n",
       "    }\n",
       "\n",
       "    .dataframe tbody tr th {\n",
       "        vertical-align: top;\n",
       "    }\n",
       "\n",
       "    .dataframe thead th {\n",
       "        text-align: right;\n",
       "    }\n",
       "</style>\n",
       "<table border=\"1\" class=\"dataframe\">\n",
       "  <thead>\n",
       "    <tr style=\"text-align: right;\">\n",
       "      <th></th>\n",
       "      <th></th>\n",
       "      <th></th>\n",
       "      <th></th>\n",
       "      <th></th>\n",
       "      <th></th>\n",
       "      <th>count</th>\n",
       "    </tr>\n",
       "    <tr>\n",
       "      <th>mnfture_wk</th>\n",
       "      <th>product_type</th>\n",
       "      <th>repair_type</th>\n",
       "      <th>parts_sent</th>\n",
       "      <th>contact_type</th>\n",
       "      <th>topic_category</th>\n",
       "      <th></th>\n",
       "    </tr>\n",
       "  </thead>\n",
       "  <tbody>\n",
       "    <tr>\n",
       "      <th>201826.0</th>\n",
       "      <th>Laptops</th>\n",
       "      <th>Soft</th>\n",
       "      <th>Unknown</th>\n",
       "      <th>Voice</th>\n",
       "      <th>Unknown</th>\n",
       "      <td>124</td>\n",
       "    </tr>\n",
       "    <tr>\n",
       "      <th>201839.0</th>\n",
       "      <th>Laptops</th>\n",
       "      <th>Soft</th>\n",
       "      <th>Unknown</th>\n",
       "      <th>Voice</th>\n",
       "      <th>Unknown</th>\n",
       "      <td>113</td>\n",
       "    </tr>\n",
       "    <tr>\n",
       "      <th>201626.0</th>\n",
       "      <th>Laptops</th>\n",
       "      <th>Hard</th>\n",
       "      <th>Adapter, AC</th>\n",
       "      <th>Voice</th>\n",
       "      <th>Unknown</th>\n",
       "      <td>110</td>\n",
       "    </tr>\n",
       "    <tr>\n",
       "      <th>201816.0</th>\n",
       "      <th>Laptops</th>\n",
       "      <th>Hard</th>\n",
       "      <th>LCD Panel</th>\n",
       "      <th>Voice</th>\n",
       "      <th>Unknown</th>\n",
       "      <td>104</td>\n",
       "    </tr>\n",
       "    <tr>\n",
       "      <th>201819.0</th>\n",
       "      <th>Laptops</th>\n",
       "      <th>Hard</th>\n",
       "      <th>LCD Panel</th>\n",
       "      <th>Voice</th>\n",
       "      <th>Unknown</th>\n",
       "      <td>92</td>\n",
       "    </tr>\n",
       "    <tr>\n",
       "      <th>201832.0</th>\n",
       "      <th>Laptops</th>\n",
       "      <th>Soft</th>\n",
       "      <th>Unknown</th>\n",
       "      <th>Voice</th>\n",
       "      <th>Unknown</th>\n",
       "      <td>88</td>\n",
       "    </tr>\n",
       "    <tr>\n",
       "      <th>201839.0</th>\n",
       "      <th>Desktops</th>\n",
       "      <th>Soft</th>\n",
       "      <th>Unknown</th>\n",
       "      <th>Voice</th>\n",
       "      <th>Unknown</th>\n",
       "      <td>86</td>\n",
       "    </tr>\n",
       "    <tr>\n",
       "      <th>201825.0</th>\n",
       "      <th>Laptops</th>\n",
       "      <th>Soft</th>\n",
       "      <th>Unknown</th>\n",
       "      <th>Voice</th>\n",
       "      <th>Unknown</th>\n",
       "      <td>84</td>\n",
       "    </tr>\n",
       "    <tr>\n",
       "      <th>201824.0</th>\n",
       "      <th>Laptops</th>\n",
       "      <th>Hard</th>\n",
       "      <th>LCD Panel</th>\n",
       "      <th>Voice</th>\n",
       "      <th>Unknown</th>\n",
       "      <td>82</td>\n",
       "    </tr>\n",
       "    <tr>\n",
       "      <th>201838.0</th>\n",
       "      <th>Laptops</th>\n",
       "      <th>Soft</th>\n",
       "      <th>Unknown</th>\n",
       "      <th>Voice</th>\n",
       "      <th>Unknown</th>\n",
       "      <td>75</td>\n",
       "    </tr>\n",
       "  </tbody>\n",
       "</table>\n",
       "</div>"
      ],
      "text/plain": [
       "                                                                             count\n",
       "mnfture_wk product_type repair_type parts_sent  contact_type topic_category       \n",
       "201826.0   Laptops      Soft        Unknown     Voice        Unknown           124\n",
       "201839.0   Laptops      Soft        Unknown     Voice        Unknown           113\n",
       "201626.0   Laptops      Hard        Adapter, AC Voice        Unknown           110\n",
       "201816.0   Laptops      Hard        LCD Panel   Voice        Unknown           104\n",
       "201819.0   Laptops      Hard        LCD Panel   Voice        Unknown            92\n",
       "201832.0   Laptops      Soft        Unknown     Voice        Unknown            88\n",
       "201839.0   Desktops     Soft        Unknown     Voice        Unknown            86\n",
       "201825.0   Laptops      Soft        Unknown     Voice        Unknown            84\n",
       "201824.0   Laptops      Hard        LCD Panel   Voice        Unknown            82\n",
       "201838.0   Laptops      Soft        Unknown     Voice        Unknown            75"
      ]
     },
     "execution_count": 411,
     "metadata": {},
     "output_type": "execute_result"
    }
   ],
   "source": [
    "# find manufactured weeks - product types-repair types-parts_sent vs contact_type with higher reporting numbers \n",
    "df_laptop_repair_parts_contact_topic_category_most = pd.DataFrame(df.groupby(['mnfture_wk',\n",
    "                                                               'product_type', \n",
    "                                                               'repair_type', \n",
    "                                                               'parts_sent',\n",
    "                                                               'contact_type',\n",
    "                                                               'topic_category']).mnfture_wk.count())\n",
    "df_laptop_repair_parts_contact_topic_category_most = df_laptop_repair_parts_contact_topic_category_most.rename(columns={'mnfture_wk':'count'})\n",
    "df_laptop_repair_parts_contact_topic_category_most = df_laptop_repair_parts_contact_topic_category_most.sort_values('count', ascending=False)\n",
    "df_laptop_repair_parts_contact_topic_category_most.head(10)"
   ]
  },
  {
   "cell_type": "code",
   "execution_count": 412,
   "metadata": {},
   "outputs": [
    {
     "data": {
      "text/html": [
       "<div>\n",
       "<style scoped>\n",
       "    .dataframe tbody tr th:only-of-type {\n",
       "        vertical-align: middle;\n",
       "    }\n",
       "\n",
       "    .dataframe tbody tr th {\n",
       "        vertical-align: top;\n",
       "    }\n",
       "\n",
       "    .dataframe thead th {\n",
       "        text-align: right;\n",
       "    }\n",
       "</style>\n",
       "<table border=\"1\" class=\"dataframe\">\n",
       "  <thead>\n",
       "    <tr style=\"text-align: right;\">\n",
       "      <th></th>\n",
       "      <th>mnfture_wk</th>\n",
       "      <th>product_type</th>\n",
       "      <th>repair_type</th>\n",
       "      <th>parts_sent</th>\n",
       "      <th>contact_type</th>\n",
       "      <th>topic_category</th>\n",
       "      <th>count</th>\n",
       "    </tr>\n",
       "  </thead>\n",
       "  <tbody>\n",
       "    <tr>\n",
       "      <th>10</th>\n",
       "      <td>201826.0</td>\n",
       "      <td>Laptops</td>\n",
       "      <td>Soft</td>\n",
       "      <td>Unknown</td>\n",
       "      <td>Voice</td>\n",
       "      <td>Booting</td>\n",
       "      <td>73</td>\n",
       "    </tr>\n",
       "    <tr>\n",
       "      <th>16</th>\n",
       "      <td>201826.0</td>\n",
       "      <td>Laptops</td>\n",
       "      <td>Soft</td>\n",
       "      <td>Unknown</td>\n",
       "      <td>Voice</td>\n",
       "      <td>OS</td>\n",
       "      <td>62</td>\n",
       "    </tr>\n",
       "    <tr>\n",
       "      <th>20</th>\n",
       "      <td>201839.0</td>\n",
       "      <td>Laptops</td>\n",
       "      <td>Soft</td>\n",
       "      <td>Unknown</td>\n",
       "      <td>Voice</td>\n",
       "      <td>Initial Setup</td>\n",
       "      <td>60</td>\n",
       "    </tr>\n",
       "    <tr>\n",
       "      <th>29</th>\n",
       "      <td>201734.0</td>\n",
       "      <td>Laptops</td>\n",
       "      <td>Soft</td>\n",
       "      <td>Unknown</td>\n",
       "      <td>Voice</td>\n",
       "      <td>General Queries</td>\n",
       "      <td>53</td>\n",
       "    </tr>\n",
       "    <tr>\n",
       "      <th>31</th>\n",
       "      <td>201839.0</td>\n",
       "      <td>Desktops</td>\n",
       "      <td>Soft</td>\n",
       "      <td>Unknown</td>\n",
       "      <td>Voice</td>\n",
       "      <td>Microsoft Office</td>\n",
       "      <td>52</td>\n",
       "    </tr>\n",
       "    <tr>\n",
       "      <th>32</th>\n",
       "      <td>201839.0</td>\n",
       "      <td>Laptops</td>\n",
       "      <td>Soft</td>\n",
       "      <td>Unknown</td>\n",
       "      <td>Voice</td>\n",
       "      <td>Microsoft Office</td>\n",
       "      <td>51</td>\n",
       "    </tr>\n",
       "    <tr>\n",
       "      <th>35</th>\n",
       "      <td>201813.0</td>\n",
       "      <td>Laptops</td>\n",
       "      <td>Soft</td>\n",
       "      <td>Unknown</td>\n",
       "      <td>Voice</td>\n",
       "      <td>Booting</td>\n",
       "      <td>48</td>\n",
       "    </tr>\n",
       "    <tr>\n",
       "      <th>36</th>\n",
       "      <td>201825.0</td>\n",
       "      <td>Laptops</td>\n",
       "      <td>Soft</td>\n",
       "      <td>Unknown</td>\n",
       "      <td>Voice</td>\n",
       "      <td>Booting</td>\n",
       "      <td>48</td>\n",
       "    </tr>\n",
       "    <tr>\n",
       "      <th>40</th>\n",
       "      <td>201814.0</td>\n",
       "      <td>Laptops</td>\n",
       "      <td>Soft</td>\n",
       "      <td>Unknown</td>\n",
       "      <td>Voice</td>\n",
       "      <td>Booting</td>\n",
       "      <td>47</td>\n",
       "    </tr>\n",
       "    <tr>\n",
       "      <th>44</th>\n",
       "      <td>201808.0</td>\n",
       "      <td>Laptops</td>\n",
       "      <td>Soft</td>\n",
       "      <td>Unknown</td>\n",
       "      <td>Voice</td>\n",
       "      <td>Booting</td>\n",
       "      <td>46</td>\n",
       "    </tr>\n",
       "  </tbody>\n",
       "</table>\n",
       "</div>"
      ],
      "text/plain": [
       "    mnfture_wk product_type repair_type parts_sent contact_type  \\\n",
       "10    201826.0      Laptops        Soft    Unknown        Voice   \n",
       "16    201826.0      Laptops        Soft    Unknown        Voice   \n",
       "20    201839.0      Laptops        Soft    Unknown        Voice   \n",
       "29    201734.0      Laptops        Soft    Unknown        Voice   \n",
       "31    201839.0     Desktops        Soft    Unknown        Voice   \n",
       "32    201839.0      Laptops        Soft    Unknown        Voice   \n",
       "35    201813.0      Laptops        Soft    Unknown        Voice   \n",
       "36    201825.0      Laptops        Soft    Unknown        Voice   \n",
       "40    201814.0      Laptops        Soft    Unknown        Voice   \n",
       "44    201808.0      Laptops        Soft    Unknown        Voice   \n",
       "\n",
       "      topic_category  count  \n",
       "10           Booting     73  \n",
       "16                OS     62  \n",
       "20     Initial Setup     60  \n",
       "29   General Queries     53  \n",
       "31  Microsoft Office     52  \n",
       "32  Microsoft Office     51  \n",
       "35           Booting     48  \n",
       "36           Booting     48  \n",
       "40           Booting     47  \n",
       "44           Booting     46  "
      ]
     },
     "execution_count": 412,
     "metadata": {},
     "output_type": "execute_result"
    }
   ],
   "source": [
    "# find manufactured weeks - product types vs repair types with higher reporting numbers without 'Unknown'\n",
    "df_laptop_repair_parts_contact_topic_category_most = df_laptop_repair_parts_contact_topic_category_most.reset_index()\n",
    "df_laptop_repair_parts_contact_topic_category_most = df_laptop_repair_parts_contact_topic_category_most.\\\n",
    "                            loc[df_laptop_repair_parts_contact_topic_category_most['topic_category'] != 'Unknown',:]\n",
    "df_laptop_repair_parts_contact_topic_category_most.head(10)"
   ]
  },
  {
   "cell_type": "markdown",
   "metadata": {},
   "source": [
    "<strong>Findings</strong>:\n",
    "* From 'df_count_topic_category' table Booting, LCD/Monitor, Call Logs are top 3 topic categories that are classified as problem by tech support aloing 33% as marked 'Unkown'\n",
    "* From 'df_laptop_repair_parts_contact_topic_category_most' table top topic-categories for manufactured weeks and years are booting, OS, Initial Setup, General Queries, and MS Office. \n",
    "* So far we can say that week 26 of 2018 with laptop was giving more software issues so 'Unknown' part mostlikely no parts sent for booting and customer contacted to the Dell Tech support with Voice. So that particular week and close dates needs to be inspected for laptops with software-booting issues likely. "
   ]
  },
  {
   "cell_type": "markdown",
   "metadata": {},
   "source": [
    "### Number of Cases Over Time: Region"
   ]
  },
  {
   "cell_type": "code",
   "execution_count": 413,
   "metadata": {
    "scrolled": true
   },
   "outputs": [
    {
     "data": {
      "text/html": [
       "<div>\n",
       "<style scoped>\n",
       "    .dataframe tbody tr th:only-of-type {\n",
       "        vertical-align: middle;\n",
       "    }\n",
       "\n",
       "    .dataframe tbody tr th {\n",
       "        vertical-align: top;\n",
       "    }\n",
       "\n",
       "    .dataframe thead th {\n",
       "        text-align: right;\n",
       "    }\n",
       "</style>\n",
       "<table border=\"1\" class=\"dataframe\">\n",
       "  <thead>\n",
       "    <tr style=\"text-align: right;\">\n",
       "      <th></th>\n",
       "      <th>region</th>\n",
       "      <th>country</th>\n",
       "      <th>region_count</th>\n",
       "      <th>country_count</th>\n",
       "    </tr>\n",
       "  </thead>\n",
       "  <tbody>\n",
       "    <tr>\n",
       "      <th>0</th>\n",
       "      <td>Hogwarts</td>\n",
       "      <td>Diagon Alley</td>\n",
       "      <td>4</td>\n",
       "      <td>4</td>\n",
       "    </tr>\n",
       "    <tr>\n",
       "      <th>1</th>\n",
       "      <td>Hogwarts</td>\n",
       "      <td>Gryffindor</td>\n",
       "      <td>17</td>\n",
       "      <td>17</td>\n",
       "    </tr>\n",
       "    <tr>\n",
       "      <th>2</th>\n",
       "      <td>Hogwarts</td>\n",
       "      <td>Hog's Head Inn</td>\n",
       "      <td>3</td>\n",
       "      <td>3</td>\n",
       "    </tr>\n",
       "    <tr>\n",
       "      <th>3</th>\n",
       "      <td>Hogwarts</td>\n",
       "      <td>Honeyduke's</td>\n",
       "      <td>24</td>\n",
       "      <td>24</td>\n",
       "    </tr>\n",
       "    <tr>\n",
       "      <th>4</th>\n",
       "      <td>Hogwarts</td>\n",
       "      <td>Hufflepuff</td>\n",
       "      <td>52</td>\n",
       "      <td>52</td>\n",
       "    </tr>\n",
       "  </tbody>\n",
       "</table>\n",
       "</div>"
      ],
      "text/plain": [
       "     region         country  region_count  country_count\n",
       "0  Hogwarts    Diagon Alley             4              4\n",
       "1  Hogwarts      Gryffindor            17             17\n",
       "2  Hogwarts  Hog's Head Inn             3              3\n",
       "3  Hogwarts     Honeyduke's            24             24\n",
       "4  Hogwarts      Hufflepuff            52             52"
      ]
     },
     "execution_count": 413,
     "metadata": {},
     "output_type": "execute_result"
    }
   ],
   "source": [
    "# gather the data\n",
    "df_region_country = pd.DataFrame(df.groupby(['region','country']).agg({'region':'count', 'country':'count'}))\n",
    "df_region_country = df_region_country.rename(columns={'region':'region_count', 'country':'country_count'}).reset_index()\n",
    "df_region_country.head()"
   ]
  },
  {
   "cell_type": "markdown",
   "metadata": {},
   "source": [
    "<strong>Conclusion</strong>:\n",
    "Assumed this data is a mock up data so region and country alignment does not make any sense to analyze"
   ]
  },
  {
   "cell_type": "markdown",
   "metadata": {},
   "source": [
    "### Number of Cases over Time: Product and Repair Types"
   ]
  },
  {
   "cell_type": "code",
   "execution_count": 414,
   "metadata": {
    "scrolled": false
   },
   "outputs": [
    {
     "data": {
      "text/html": [
       "<div>\n",
       "<style scoped>\n",
       "    .dataframe tbody tr th:only-of-type {\n",
       "        vertical-align: middle;\n",
       "    }\n",
       "\n",
       "    .dataframe tbody tr th {\n",
       "        vertical-align: top;\n",
       "    }\n",
       "\n",
       "    .dataframe thead th {\n",
       "        text-align: right;\n",
       "    }\n",
       "</style>\n",
       "<table border=\"1\" class=\"dataframe\">\n",
       "  <thead>\n",
       "    <tr style=\"text-align: right;\">\n",
       "      <th></th>\n",
       "      <th>product_type</th>\n",
       "      <th>repair_type</th>\n",
       "      <th>number_of_cases</th>\n",
       "      <th>product_repair_type</th>\n",
       "      <th>prc_of_cases</th>\n",
       "    </tr>\n",
       "  </thead>\n",
       "  <tbody>\n",
       "    <tr>\n",
       "      <th>0</th>\n",
       "      <td>Laptops</td>\n",
       "      <td>Hard</td>\n",
       "      <td>45897</td>\n",
       "      <td>Laptops-Hard</td>\n",
       "      <td>45.897</td>\n",
       "    </tr>\n",
       "    <tr>\n",
       "      <th>1</th>\n",
       "      <td>Laptops</td>\n",
       "      <td>Soft</td>\n",
       "      <td>27155</td>\n",
       "      <td>Laptops-Soft</td>\n",
       "      <td>27.155</td>\n",
       "    </tr>\n",
       "    <tr>\n",
       "      <th>2</th>\n",
       "      <td>Desktops</td>\n",
       "      <td>Soft</td>\n",
       "      <td>12047</td>\n",
       "      <td>Desktops-Soft</td>\n",
       "      <td>12.047</td>\n",
       "    </tr>\n",
       "    <tr>\n",
       "      <th>3</th>\n",
       "      <td>Desktops</td>\n",
       "      <td>Hard</td>\n",
       "      <td>11554</td>\n",
       "      <td>Desktops-Hard</td>\n",
       "      <td>11.554</td>\n",
       "    </tr>\n",
       "    <tr>\n",
       "      <th>4</th>\n",
       "      <td>Other Electronics</td>\n",
       "      <td>Hard</td>\n",
       "      <td>2043</td>\n",
       "      <td>Other Electronics-Hard</td>\n",
       "      <td>2.043</td>\n",
       "    </tr>\n",
       "    <tr>\n",
       "      <th>5</th>\n",
       "      <td>Other Electronics</td>\n",
       "      <td>Soft</td>\n",
       "      <td>1284</td>\n",
       "      <td>Other Electronics-Soft</td>\n",
       "      <td>1.284</td>\n",
       "    </tr>\n",
       "    <tr>\n",
       "      <th>6</th>\n",
       "      <td>Unknown</td>\n",
       "      <td>Soft</td>\n",
       "      <td>19</td>\n",
       "      <td>Unknown-Soft</td>\n",
       "      <td>0.019</td>\n",
       "    </tr>\n",
       "    <tr>\n",
       "      <th>7</th>\n",
       "      <td>Unknown</td>\n",
       "      <td>Hard</td>\n",
       "      <td>1</td>\n",
       "      <td>Unknown-Hard</td>\n",
       "      <td>0.001</td>\n",
       "    </tr>\n",
       "  </tbody>\n",
       "</table>\n",
       "</div>"
      ],
      "text/plain": [
       "        product_type repair_type  number_of_cases     product_repair_type  \\\n",
       "0            Laptops        Hard            45897            Laptops-Hard   \n",
       "1            Laptops        Soft            27155            Laptops-Soft   \n",
       "2           Desktops        Soft            12047           Desktops-Soft   \n",
       "3           Desktops        Hard            11554           Desktops-Hard   \n",
       "4  Other Electronics        Hard             2043  Other Electronics-Hard   \n",
       "5  Other Electronics        Soft             1284  Other Electronics-Soft   \n",
       "6            Unknown        Soft               19            Unknown-Soft   \n",
       "7            Unknown        Hard                1            Unknown-Hard   \n",
       "\n",
       "   prc_of_cases  \n",
       "0        45.897  \n",
       "1        27.155  \n",
       "2        12.047  \n",
       "3        11.554  \n",
       "4         2.043  \n",
       "5         1.284  \n",
       "6         0.019  \n",
       "7         0.001  "
      ]
     },
     "execution_count": 414,
     "metadata": {},
     "output_type": "execute_result"
    }
   ],
   "source": [
    "# Merge product type and repair type and aggregate it based on manufactured week count\n",
    "\n",
    "df_repair_type_cases_over_time = pd.DataFrame(df.groupby(['product_type','repair_type']).mnfture_wk.count()).sort_values('mnfture_wk', ascending=False)\n",
    "df_repair_type_cases_over_time = df_repair_type_cases_over_time.rename(columns={'mnfture_wk':'number_of_cases'}).reset_index()\n",
    "df_repair_type_cases_over_time[\"product_repair_type\"] = df_repair_type_cases_over_time[\"product_type\"].map(str) +\"-\"+ df_repair_type_cases_over_time[\"repair_type\"]\n",
    "df_repair_type_cases_over_time['prc_of_cases'] = (df_repair_type_cases_over_time['number_of_cases']/(df_repair_type_cases_over_time['number_of_cases'].sum()))*100\n",
    "df_repair_type_cases_over_time.head(10)"
   ]
  },
  {
   "cell_type": "code",
   "execution_count": 415,
   "metadata": {
    "scrolled": true
   },
   "outputs": [
    {
     "data": {
      "image/png": "[encoded data removed]",
      "text/plain": [
       "<Figure size 432x288 with 1 Axes>"
      ]
     },
     "metadata": {
      "needs_background": "light"
     },
     "output_type": "display_data"
    }
   ],
   "source": [
    "# create a bar chart of the findings \n",
    "\n",
    "labels_product_repair_type=df_repair_type_cases_over_time['product_repair_type']\n",
    "values_product_repair_type=df_repair_type_cases_over_time['prc_of_cases']\n",
    "\n",
    "def product_repair_type_bar_plot():\n",
    "    # this is for plotting purpose\n",
    "    index = np.arange(len(labels_product_repair_type))\n",
    "    plt.bar(index, values_product_repair_type, color='tomato')\n",
    "    plt.xlabel('Product-Repair Types', fontsize=10)\n",
    "    plt.ylabel('Number of Cases Over Time in Percent', fontsize=10)\n",
    "    plt.xticks(index, labels_product_repair_type, fontsize=10, rotation=30)\n",
    "    plt.title('Product-Repair Types vs Number of Cases', fontsize=15)\n",
    "    plt.show()\n",
    "product_repair_type_bar_plot()"
   ]
  },
  {
   "cell_type": "markdown",
   "metadata": {},
   "source": [
    "<strong>Findings</strong>:\n",
    "* In 'df_repair_type_cases_over_time' table 'product_type' and 'repair_type' grouped and aggregated by 'mnfture_wk' \n",
    "* It shows that Product type 'Laptop' and Repair Type 'Hard' issues seem the most reported overall with ~46%. \n",
    "* Please note, this analysis is done to see overall cases for product-repair types not confused with top product-repair types with most reported manufactured weeks. \n",
    "* This analysis tells us, parts related to the laptops tends to fail before or after the contract ends. "
   ]
  },
  {
   "cell_type": "markdown",
   "metadata": {},
   "source": [
    "<strong>CASE 2  \n",
    "* We can come up with a time-series model to predict/forecast the number of parts required by using parts_ct. This can be done per region/country/parts_sent.\n",
    "* Because of the limited time, I did time-series model for region vs parts_ct and region is 'Hogwarts'"
   ]
  },
  {
   "cell_type": "code",
   "execution_count": null,
   "metadata": {},
   "outputs": [],
   "source": [
    "from statsmodels.tsa.stattools import adfuller # this is the function will run the dickey-fuller test"
   ]
  },
  {
   "cell_type": "code",
   "execution_count": 713,
   "metadata": {
    "scrolled": true
   },
   "outputs": [],
   "source": [
    "# function to grab the data for reagion \n",
    "def data_region(region):\n",
    "    df_time_series = df.reset_index()\n",
    "    df_time_series = df_time_series[['mnfture_datetime','region','parts_ct']]\n",
    "    df_time_series = df_time_series.loc[df_time_series['region']==region,:]\n",
    "    df_time_series = df_time_series.loc[df_time_series['parts_ct']>0,:]\n",
    "    del df_time_series['region']\n",
    "    df_time_series = df_time_series.set_index('mnfture_datetime')\n",
    "    df_time_series = df_time_series.parts_ct.resample('M').mean()\n",
    "    df_time_series=df_time_series.dropna()\n",
    "    return pd.DataFrame(df_time_series)"
   ]
  },
  {
   "cell_type": "code",
   "execution_count": 714,
   "metadata": {
    "scrolled": true
   },
   "outputs": [],
   "source": [
    "df_time_series = data_region('Hogwarts')"
   ]
  },
  {
   "cell_type": "code",
   "execution_count": 708,
   "metadata": {},
   "outputs": [],
   "source": [
    "# plot the data to see if is stationary meaning that constant\n",
    "# As seen the data is not stationary \n",
    "# so we run stationary test below\n",
    "\n",
    "# function to test if the data is stationary or not\n",
    "def test_stationary(timeseries):\n",
    "    \n",
    "    # Let's calculate rolling mean and std\n",
    "    # Window 12 means the data is giving in monthly level\n",
    "    # determine rolling statistics\n",
    "    movingAverage = timeseries.rolling(window=12).mean()\n",
    "    movingSTD = timeseries.rolling(window=12).std()\n",
    "    \n",
    "    # plot rolling statistics\n",
    "    # from plot below it can be seen mean and std not constant so the data is not stationary \n",
    "    # so let's perform dickey-fuller test \n",
    "    orig = plt.plot(timeseries, color='blue', label='Original')\n",
    "    mean = plt.plot(movingAverage, color='red', label='Rolling Mean')\n",
    "    std = plt.plot(movingSTD, color='black', label='Rolling Std')\n",
    "    plt.legend(loc='best')\n",
    "    plt.title('Rolling Mean & Standard Deviation')\n",
    "    plt.show(block=False)\n",
    "    \n",
    "    # Perform Dickey-Fuller test\n",
    "    print(\"The Results of Dickey-Fuller Test:\")\n",
    "    dftest = adfuller(timeseries['parts_ct'], autolag='AIC')\n",
    "    dfoutput = pd.Series(dftest[0:4], index=['Test Statistics', 'P-value', '# Lags Used', '# of Observations Used'])\n",
    "    for key, value in dftest[4].items():\n",
    "        dfoutput['Critical Value (%s)'%key] = value\n",
    "    print(dfoutput)"
   ]
  },
  {
   "cell_type": "code",
   "execution_count": 721,
   "metadata": {
    "scrolled": true
   },
   "outputs": [
    {
     "data": {
      "image/png": "[encoded data removed]",
      "text/plain": [
       "<Figure size 432x288 with 1 Axes>"
      ]
     },
     "metadata": {
      "needs_background": "light"
     },
     "output_type": "display_data"
    },
    {
     "name": "stdout",
     "output_type": "stream",
     "text": [
      "The Results of Dickey-Fuller Test:\n",
      "Test Statistics           -3.848282\n",
      "P-value                    0.002450\n",
      "# Lags Used                2.000000\n",
      "# of Observations Used    74.000000\n",
      "Critical Value (1%)       -3.521980\n",
      "Critical Value (5%)       -2.901470\n",
      "Critical Value (10%)      -2.588072\n",
      "dtype: float64\n"
     ]
    }
   ],
   "source": [
    "# the plot of data, rollingMean and rollingSTD are not constant so we do run LOG TIME SERIES below\n",
    "test_stationary(df_time_series)"
   ]
  },
  {
   "cell_type": "code",
   "execution_count": 654,
   "metadata": {
    "scrolled": true
   },
   "outputs": [
    {
     "data": {
      "image/png": "[encoded data removed]",
      "text/plain": [
       "<Figure size 432x288 with 1 Axes>"
      ]
     },
     "metadata": {
      "needs_background": "light"
     },
     "output_type": "display_data"
    }
   ],
   "source": [
    "# Estimating Trend LOG TIME SERIES\n",
    "# Take the log of the data set\n",
    "# y-axes number changed becasue the log has been taken\n",
    "# the trend almost stay the same only the value of the y has been changed\n",
    "# lets calculate the moving average and std\n",
    "\n",
    "df_time_series_part_logScale = np.log(df_time_series)\n",
    "plt.plot(df_time_series_part_logScale);"
   ]
  },
  {
   "cell_type": "code",
   "execution_count": 633,
   "metadata": {},
   "outputs": [
    {
     "data": {
      "image/png": "[encoded data removed]",
      "text/plain": [
       "<Figure size 432x288 with 1 Axes>"
      ]
     },
     "metadata": {
      "needs_background": "light"
     },
     "output_type": "display_data"
    }
   ],
   "source": [
    "# plotting log-time series with movingAverage and movingSTD\n",
    "# moving average and std of df_time_series_part_logScale and plot it to see any trends\n",
    "\n",
    "# the mean is moving with time so this is not stationary as well\n",
    "# next find the difference between moving average and actual numbers of parts sent\n",
    "movingAverage = df_time_series_part_logScale.rolling(window=12).mean()\n",
    "movingSTD = df_time_series_part_logScale.rolling(window=12).std()\n",
    "plt.plot(df_time_series_part_logScale, color='blue')\n",
    "plt.plot(movingAverage, color='red')\n",
    "plt.plot(movingSTD, color='black');"
   ]
  },
  {
   "cell_type": "code",
   "execution_count": 729,
   "metadata": {
    "scrolled": true
   },
   "outputs": [
    {
     "data": {
      "text/html": [
       "<div>\n",
       "<style scoped>\n",
       "    .dataframe tbody tr th:only-of-type {\n",
       "        vertical-align: middle;\n",
       "    }\n",
       "\n",
       "    .dataframe tbody tr th {\n",
       "        vertical-align: top;\n",
       "    }\n",
       "\n",
       "    .dataframe thead th {\n",
       "        text-align: right;\n",
       "    }\n",
       "</style>\n",
       "<table border=\"1\" class=\"dataframe\">\n",
       "  <thead>\n",
       "    <tr style=\"text-align: right;\">\n",
       "      <th></th>\n",
       "      <th>parts_ct</th>\n",
       "    </tr>\n",
       "    <tr>\n",
       "      <th>mnfture_datetime</th>\n",
       "      <th></th>\n",
       "    </tr>\n",
       "  </thead>\n",
       "  <tbody>\n",
       "    <tr>\n",
       "      <th>2014-02-28</th>\n",
       "      <td>-0.028842</td>\n",
       "    </tr>\n",
       "    <tr>\n",
       "      <th>2014-03-31</th>\n",
       "      <td>-0.279158</td>\n",
       "    </tr>\n",
       "    <tr>\n",
       "      <th>2014-04-30</th>\n",
       "      <td>-0.002354</td>\n",
       "    </tr>\n",
       "    <tr>\n",
       "      <th>2014-05-31</th>\n",
       "      <td>-0.220456</td>\n",
       "    </tr>\n",
       "    <tr>\n",
       "      <th>2014-06-30</th>\n",
       "      <td>-0.235891</td>\n",
       "    </tr>\n",
       "  </tbody>\n",
       "</table>\n",
       "</div>"
      ],
      "text/plain": [
       "                  parts_ct\n",
       "mnfture_datetime          \n",
       "2014-02-28       -0.028842\n",
       "2014-03-31       -0.279158\n",
       "2014-04-30       -0.002354\n",
       "2014-05-31       -0.220456\n",
       "2014-06-30       -0.235891"
      ]
     },
     "execution_count": 729,
     "metadata": {},
     "output_type": "execute_result"
    }
   ],
   "source": [
    "# find the difference efor logScale and movingAverage\n",
    "df_time_series_part_logScale_minus_moving_average = df_time_series_part_logScale - movingAverage\n",
    "df_time_series_part_logScale_minus_moving_average\n",
    "\n",
    "# remove Nan Values\n",
    "df_time_series_part_logScale_minus_moving_average.dropna(inplace=True)\n",
    "df_time_series_part_logScale_minus_moving_average.head()"
   ]
  },
  {
   "cell_type": "code",
   "execution_count": 730,
   "metadata": {},
   "outputs": [],
   "source": [
    "# this needs to be df for 'test_stationary'\n",
    "df_time_series_part_logScale_minus_moving_average = pd.DataFrame(df_time_series_part_logScale_minus_moving_average)"
   ]
  },
  {
   "cell_type": "code",
   "execution_count": 636,
   "metadata": {},
   "outputs": [],
   "source": [
    "# function to test if the data is stationary \n",
    "def test_stationary(timeseries):\n",
    "    \n",
    "    # determine rolling statistics\n",
    "    movingAverage = timeseries.rolling(window=12).mean()\n",
    "    movingSTD = timeseries.rolling(window=12).std()\n",
    "    \n",
    "    # plot rolling statistics\n",
    "    orig = plt.plot(timeseries, color='blue', label='Original')\n",
    "    mean = plt.plot(movingAverage, color='red', label='Rolling Mean')\n",
    "    std = plt.plot(movingSTD, color='black', label='Rolling Std')\n",
    "    plt.legend(loc='best')\n",
    "    plt.title('Rolling Mean & Standard Deviation')\n",
    "    plt.show(block=False)\n",
    "    \n",
    "    # Perform Dickey-Fuller test\n",
    "    print(\"The Results of Dickey-Fuller Test:\")\n",
    "    dftest = adfuller(timeseries['parts_ct'], autolag='AIC')\n",
    "    dfoutput = pd.Series(dftest[0:4], index=['Test Statistics', 'P-value', '# Lags Used', '# of Observations Used'])\n",
    "    for key, value in dftest[4].items():\n",
    "        dfoutput['Critical Value (%s)'%key] = value\n",
    "    print(dfoutput)"
   ]
  },
  {
   "cell_type": "code",
   "execution_count": 637,
   "metadata": {
    "scrolled": true
   },
   "outputs": [
    {
     "data": {
      "image/png": "[encoded data removed]",
      "text/plain": [
       "<Figure size 432x288 with 1 Axes>"
      ]
     },
     "metadata": {
      "needs_background": "light"
     },
     "output_type": "display_data"
    },
    {
     "name": "stdout",
     "output_type": "stream",
     "text": [
      "The Results of Dickey-Fuller Test:\n",
      "Test Statistics           -4.213214\n",
      "P-value                    0.000626\n",
      "# Lags Used                1.000000\n",
      "# of Observations Used    64.000000\n",
      "Critical Value (1%)       -3.536928\n",
      "Critical Value (5%)       -2.907887\n",
      "Critical Value (10%)      -2.591493\n",
      "dtype: float64\n"
     ]
    }
   ],
   "source": [
    "test_stationary(df_time_series_part_logScale_minus_moving_average)"
   ]
  },
  {
   "cell_type": "code",
   "execution_count": 638,
   "metadata": {},
   "outputs": [
    {
     "data": {
      "text/plain": [
       "[<matplotlib.lines.Line2D at 0x2340ada3710>]"
      ]
     },
     "execution_count": 638,
     "metadata": {},
     "output_type": "execute_result"
    },
    {
     "data": {
      "image/png": "[encoded data removed]",
      "text/plain": [
       "<Figure size 432x288 with 1 Axes>"
      ]
     },
     "metadata": {
      "needs_background": "light"
     },
     "output_type": "display_data"
    }
   ],
   "source": [
    "# as time progresses toward higher side also the trend is progressing toward higher side\n",
    "\n",
    "df_time_series_exponential_decay_weighted_average = df_time_series_part_logScale.ewm(halflife=12,\n",
    "                                                                                    min_periods=0,\n",
    "                                                                                    adjust=True).mean()\n",
    "\n",
    "plt.plot(df_time_series_part_logScale)\n",
    "plt.plot(df_time_series_exponential_decay_weighted_average, color='red')"
   ]
  },
  {
   "cell_type": "code",
   "execution_count": 728,
   "metadata": {},
   "outputs": [
    {
     "data": {
      "image/png": "[encoded data removed]",
      "text/plain": [
       "<Figure size 432x288 with 1 Axes>"
      ]
     },
     "metadata": {
      "needs_background": "light"
     },
     "output_type": "display_data"
    },
    {
     "name": "stdout",
     "output_type": "stream",
     "text": [
      "The Results of Dickey-Fuller Test:\n",
      "Test Statistics           -5.438654\n",
      "P-value                    0.000003\n",
      "# Lags Used                1.000000\n",
      "# of Observations Used    75.000000\n",
      "Critical Value (1%)       -3.520713\n",
      "Critical Value (5%)       -2.900925\n",
      "Critical Value (10%)      -2.587781\n",
      "dtype: float64\n"
     ]
    }
   ],
   "source": [
    "# Explore Exponential Decay Weigted Average\n",
    "df_time_series_logScale_minus_expo_decay_weig_avr = df_time_series_part_logScale-df_time_series_exponential_decay_weighted_average\n",
    "df_time_series_logScale_minus_expo_decay_weig_avr = pd.DataFrame(df_time_series_logScale_minus_expo_decay_weig_avr)\n",
    "test_stationary(df_time_series_logScale_minus_expo_decay_weig_avr)"
   ]
  },
  {
   "cell_type": "code",
   "execution_count": 645,
   "metadata": {
    "scrolled": true
   },
   "outputs": [
    {
     "data": {
      "image/png": "[encoded data removed]",
      "text/plain": [
       "<Figure size 432x288 with 1 Axes>"
      ]
     },
     "metadata": {
      "needs_background": "light"
     },
     "output_type": "display_data"
    }
   ],
   "source": [
    "# Sift the values in time series for forecasting \n",
    "# this data will be used below\n",
    "# earlier we substracted the mean from the actual value\n",
    "# now use function shift() to shift all of the values by 1\n",
    "\n",
    "df_time_series_diff_shifting = df_time_series_part_logScale - df_time_series_part_logScale.shift()\n",
    "plt.plot(df_time_series_diff_shifting);"
   ]
  },
  {
   "cell_type": "code",
   "execution_count": 641,
   "metadata": {},
   "outputs": [
    {
     "data": {
      "text/html": [
       "<div>\n",
       "<style scoped>\n",
       "    .dataframe tbody tr th:only-of-type {\n",
       "        vertical-align: middle;\n",
       "    }\n",
       "\n",
       "    .dataframe tbody tr th {\n",
       "        vertical-align: top;\n",
       "    }\n",
       "\n",
       "    .dataframe thead th {\n",
       "        text-align: right;\n",
       "    }\n",
       "</style>\n",
       "<table border=\"1\" class=\"dataframe\">\n",
       "  <thead>\n",
       "    <tr style=\"text-align: right;\">\n",
       "      <th></th>\n",
       "      <th>parts_ct</th>\n",
       "    </tr>\n",
       "    <tr>\n",
       "      <th>mnfture_datetime</th>\n",
       "      <th></th>\n",
       "    </tr>\n",
       "  </thead>\n",
       "  <tbody>\n",
       "    <tr>\n",
       "      <th>2011-01-31</th>\n",
       "      <td>NaN</td>\n",
       "    </tr>\n",
       "    <tr>\n",
       "      <th>2012-02-29</th>\n",
       "      <td>0.000000</td>\n",
       "    </tr>\n",
       "    <tr>\n",
       "      <th>2012-08-31</th>\n",
       "      <td>-0.693147</td>\n",
       "    </tr>\n",
       "    <tr>\n",
       "      <th>2012-10-31</th>\n",
       "      <td>0.693147</td>\n",
       "    </tr>\n",
       "    <tr>\n",
       "      <th>2012-11-30</th>\n",
       "      <td>-0.693147</td>\n",
       "    </tr>\n",
       "  </tbody>\n",
       "</table>\n",
       "</div>"
      ],
      "text/plain": [
       "                  parts_ct\n",
       "mnfture_datetime          \n",
       "2011-01-31             NaN\n",
       "2012-02-29        0.000000\n",
       "2012-08-31       -0.693147\n",
       "2012-10-31        0.693147\n",
       "2012-11-30       -0.693147"
      ]
     },
     "execution_count": 641,
     "metadata": {},
     "output_type": "execute_result"
    }
   ],
   "source": [
    "# needs to be in df for test_stationary\n",
    "df_time_series_diff_shifting = pd.DataFrame(df_time_series_diff_shifting)\n",
    "df_time_series_diff_shifting.head()"
   ]
  },
  {
   "cell_type": "code",
   "execution_count": 646,
   "metadata": {},
   "outputs": [
    {
     "data": {
      "image/png": "[encoded data removed]",
      "text/plain": [
       "<Figure size 432x288 with 1 Axes>"
      ]
     },
     "metadata": {
      "needs_background": "light"
     },
     "output_type": "display_data"
    },
    {
     "name": "stdout",
     "output_type": "stream",
     "text": [
      "The Results of Dickey-Fuller Test:\n",
      "Test Statistics          -7.002712e+00\n",
      "P-value                   7.252449e-10\n",
      "# Lags Used               2.000000e+00\n",
      "# of Observations Used    7.300000e+01\n",
      "Critical Value (1%)      -3.523284e+00\n",
      "Critical Value (5%)      -2.902031e+00\n",
      "Critical Value (10%)     -2.588371e+00\n",
      "dtype: float64\n"
     ]
    }
   ],
   "source": [
    "# test for stationary\n",
    "# we got a better result for the p-value <0.05 \n",
    "\n",
    "df_time_series_diff_shifting.dropna(inplace=True)\n",
    "test_stationary(df_time_series_diff_shifting)"
   ]
  },
  {
   "cell_type": "markdown",
   "metadata": {},
   "source": [
    "* ARIMA model: AR autoregressive, MA moving average, and I for integration. \n",
    "* p: The number of lag observations included in the model, also called the lag order.\n",
    "* d: The number of times that the raw observations are differenced, also called the degree of differencing.\n",
    "* q: The size of the moving average window, also called the order of moving average."
   ]
  },
  {
   "cell_type": "code",
   "execution_count": 662,
   "metadata": {
    "scrolled": true
   },
   "outputs": [
    {
     "data": {
      "image/png": "[encoded data removed]",
      "text/plain": [
       "<Figure size 432x288 with 4 Axes>"
      ]
     },
     "metadata": {
      "needs_background": "light"
     },
     "output_type": "display_data"
    },
    {
     "name": "stdout",
     "output_type": "stream",
     "text": [
      "The Results of Dickey-Fuller Test:\n",
      "Test Statistics           -5.162046\n",
      "P-value                    0.000011\n",
      "# Lags Used                9.000000\n",
      "# of Observations Used    93.000000\n",
      "Critical Value (1%)       -3.502705\n",
      "Critical Value (5%)       -2.893158\n",
      "Critical Value (10%)      -2.583637\n",
      "dtype: float64\n"
     ]
    }
   ],
   "source": [
    "# compoenents of time series\n",
    "# multi plots comparision\n",
    "from statsmodels.tsa.seasonal import seasonal_decompose\n",
    "\n",
    "# decomposition = seasonal_decompose(df_time_series_part_logScale)\n",
    "\n",
    "trend = decomposition.trend\n",
    "seasonal = decomposition.seasonal\n",
    "residual = decomposition.resid\n",
    "\n",
    "plt.subplot(411)\n",
    "plt.plot(df_time_series_part_logScale, label='Original')\n",
    "\n",
    "plt.legend(loc='best')\n",
    "plt.subplot(412)\n",
    "plt.plot(trend, label='trend')\n",
    "plt.legend(loc='best')\n",
    "plt.subplot(413)\n",
    "plt.plot(seasonal, label='Seasonality')\n",
    "plt.legend(loc='best')\n",
    "plt.subplot(414)\n",
    "plt.plot(residual, label='Residual')\n",
    "plt.legend(loc='best')\n",
    "plt.tight_layout()\n",
    "\n",
    "df_time_series_decomposed = residual\n",
    "df_time_series_decomposed.dropna(inplace=True)\n",
    "test_stationary(df_time_series_decomposed)"
   ]
  },
  {
   "cell_type": "code",
   "execution_count": 663,
   "metadata": {
    "scrolled": true
   },
   "outputs": [
    {
     "data": {
      "image/png": "[encoded data removed]",
      "text/plain": [
       "<Figure size 432x288 with 1 Axes>"
      ]
     },
     "metadata": {
      "needs_background": "light"
     },
     "output_type": "display_data"
    },
    {
     "name": "stdout",
     "output_type": "stream",
     "text": [
      "The Results of Dickey-Fuller Test:\n",
      "Test Statistics           -5.162046\n",
      "P-value                    0.000011\n",
      "# Lags Used                9.000000\n",
      "# of Observations Used    93.000000\n",
      "Critical Value (1%)       -3.502705\n",
      "Critical Value (5%)       -2.893158\n",
      "Critical Value (10%)      -2.583637\n",
      "dtype: float64\n"
     ]
    }
   ],
   "source": [
    "# closer look test stationary for df_time_series_decomposed\n",
    "# seems better p value which is smaller\n",
    "\n",
    "df_time_series_decomposed = residual\n",
    "df_time_series_decomposed.dropna(inplace=True)\n",
    "test_stationary(df_time_series_decomposed)"
   ]
  },
  {
   "cell_type": "code",
   "execution_count": 664,
   "metadata": {
    "scrolled": true
   },
   "outputs": [
    {
     "data": {
      "image/png": "[encoded data removed]",
      "text/plain": [
       "<Figure size 432x288 with 2 Axes>"
      ]
     },
     "metadata": {
      "needs_background": "light"
     },
     "output_type": "display_data"
    }
   ],
   "source": [
    "# Calculate value of ARIMA's p and q value by using ACF Autocorrelation and PACF Partial Autocorrelation\n",
    "# p is the x value of plot of PACF where the line first hits y=0 \n",
    "# q is the x value of plot of ACF where the line first hits y = 0\n",
    "# d is a random number changable\n",
    "# the goal is to find a lowest RSS value for ARIMA model to do forecasting\n",
    "\n",
    "# ACF and PACF plots:\n",
    "from statsmodels.tsa.stattools import acf, pacf\n",
    "\n",
    "lag_acf = acf(df_time_series_diff_shifting, nlags = 20)\n",
    "lag_pacf = pacf(df_time_series_diff_shifting, nlags = 20, method='ols') # ordinary least squared method\n",
    "\n",
    "# plot ACF  for q value \n",
    "plt.subplot(121)\n",
    "plt.plot(lag_acf)\n",
    "plt.axhline(y=0, linestyle='--', color='grey')\n",
    "plt.axhline(y=-1.96/np.sqrt(len(df_time_series_diff_shifting)), linestyle='--', color='gray')\n",
    "plt.axhline(y=1.96/np.sqrt(len(df_time_series_diff_shifting)), linestyle='--', color='gray')\n",
    "plt.title('Autocorrelation Function')\n",
    "\n",
    "# Plot PACF for p value\n",
    "plt.subplot(122)\n",
    "plt.plot(lag_pacf)\n",
    "plt.axhline(y=0, linestyle='--', color='grey')\n",
    "plt.axhline(y=-1.96/np.sqrt(len(df_time_series_diff_shifting)), linestyle='--', color='gray')\n",
    "plt.axhline(y=1.96/np.sqrt(len(df_time_series_diff_shifting)), linestyle='--', color='gray')\n",
    "plt.title('Partial Autocorrelation Function')\n",
    "\n",
    "plt.tight_layout()"
   ]
  },
  {
   "cell_type": "code",
   "execution_count": 679,
   "metadata": {
    "scrolled": true
   },
   "outputs": [
    {
     "name": "stderr",
     "output_type": "stream",
     "text": [
      "C:\\Users\\mrbal\\Anaconda3\\lib\\site-packages\\statsmodels\\tsa\\base\\tsa_model.py:225: ValueWarning:\n",
      "\n",
      "A date index has been provided, but it has no associated frequency information and so will be ignored when e.g. forecasting.\n",
      "\n",
      "C:\\Users\\mrbal\\Anaconda3\\lib\\site-packages\\statsmodels\\tsa\\base\\tsa_model.py:225: ValueWarning:\n",
      "\n",
      "A date index has been provided, but it has no associated frequency information and so will be ignored when e.g. forecasting.\n",
      "\n"
     ]
    },
    {
     "name": "stdout",
     "output_type": "stream",
     "text": [
      "Plotting AR model\n"
     ]
    },
    {
     "data": {
      "image/png": "[encoded data removed]",
      "text/plain": [
       "<Figure size 432x288 with 1 Axes>"
      ]
     },
     "metadata": {
      "needs_background": "light"
     },
     "output_type": "display_data"
    }
   ],
   "source": [
    "# Now apply Autoregression and Moving Averages by playing p, d, and q values. \n",
    "# the goal to get a smaller RSS value\n",
    "from statsmodels.tsa.arima_model import ARIMA\n",
    "\n",
    "# AR Model\n",
    "model = ARIMA(df_time_series_part_logScale, order=(1,1,1))\n",
    "results_AR = model.fit(disp=-1)\n",
    "plt.plot(df_time_series_diff_shifting)\n",
    "plt.plot(results_AR.fittedvalues, color='red')\n",
    "plt.title('Residual Sum of Squares RSS: %.4f'% sum((results_AR.fittedvalues-df_time_series_diff_shifting['parts_ct'])**2))\n",
    "print('Plotting AR model')"
   ]
  },
  {
   "cell_type": "code",
   "execution_count": 681,
   "metadata": {
    "scrolled": true
   },
   "outputs": [
    {
     "name": "stderr",
     "output_type": "stream",
     "text": [
      "C:\\Users\\mrbal\\Anaconda3\\lib\\site-packages\\statsmodels\\tsa\\base\\tsa_model.py:225: ValueWarning:\n",
      "\n",
      "A date index has been provided, but it has no associated frequency information and so will be ignored when e.g. forecasting.\n",
      "\n",
      "C:\\Users\\mrbal\\Anaconda3\\lib\\site-packages\\statsmodels\\tsa\\base\\tsa_model.py:225: ValueWarning:\n",
      "\n",
      "A date index has been provided, but it has no associated frequency information and so will be ignored when e.g. forecasting.\n",
      "\n"
     ]
    },
    {
     "name": "stdout",
     "output_type": "stream",
     "text": [
      "Plotting MA model\n"
     ]
    },
    {
     "data": {
      "image/png": "[encoded data removed]",
      "text/plain": [
       "<Figure size 432x288 with 1 Axes>"
      ]
     },
     "metadata": {
      "needs_background": "light"
     },
     "output_type": "display_data"
    }
   ],
   "source": [
    "# Check out some of the models\n",
    "# Moving Average Model\n",
    "model = ARIMA(df_time_series_part_logScale, order=(0,1,1))\n",
    "results_MA = model.fit(disp=-1)\n",
    "plt.plot(df_time_series_diff_shifting)\n",
    "plt.plot(results_AR.fittedvalues, color='red')\n",
    "plt.title('Residual Sum of Squares RSS: %.4f'% sum((results_MA.fittedvalues-df_time_series_diff_shifting['parts_ct'])**2))\n",
    "print('Plotting MA model')"
   ]
  },
  {
   "cell_type": "code",
   "execution_count": 686,
   "metadata": {},
   "outputs": [
    {
     "name": "stderr",
     "output_type": "stream",
     "text": [
      "C:\\Users\\mrbal\\Anaconda3\\lib\\site-packages\\statsmodels\\tsa\\base\\tsa_model.py:225: ValueWarning:\n",
      "\n",
      "A date index has been provided, but it has no associated frequency information and so will be ignored when e.g. forecasting.\n",
      "\n",
      "C:\\Users\\mrbal\\Anaconda3\\lib\\site-packages\\statsmodels\\tsa\\base\\tsa_model.py:225: ValueWarning:\n",
      "\n",
      "A date index has been provided, but it has no associated frequency information and so will be ignored when e.g. forecasting.\n",
      "\n"
     ]
    },
    {
     "name": "stdout",
     "output_type": "stream",
     "text": [
      "Plotting ARIMA model\n"
     ]
    },
    {
     "data": {
      "image/png": "[encoded data removed]",
      "text/plain": [
       "<Figure size 432x288 with 1 Axes>"
      ]
     },
     "metadata": {
      "needs_background": "light"
     },
     "output_type": "display_data"
    }
   ],
   "source": [
    "# ARIMA model results\n",
    "model = ARIMA(df_time_series_part_logScale, order=(1,1,1))\n",
    "results_ARIMA = model.fit(disp=-1)\n",
    "plt.plot(df_time_series_diff_shifting)\n",
    "plt.plot(results_ARIMA.fittedvalues, color='red')\n",
    "plt.title('RSS: %.4f'% sum((results_MA.fittedvalues-df_time_series_diff_shifting['parts_ct'])**2))\n",
    "print('Plotting ARIMA model')"
   ]
  },
  {
   "cell_type": "code",
   "execution_count": 687,
   "metadata": {},
   "outputs": [
    {
     "name": "stdout",
     "output_type": "stream",
     "text": [
      "mnfture_datetime\n",
      "2012-02-29    0.005708\n",
      "2012-08-31    0.008687\n",
      "2012-10-31    0.497653\n",
      "2012-11-30   -0.170193\n",
      "2013-02-28    0.453111\n",
      "dtype: float64\n"
     ]
    }
   ],
   "source": [
    "# use ARIMA results to do some predictions basically these are the weights will be used for predictions \n",
    "# with allready given dates \n",
    "predictions_ARIMA_diff = pd.Series(results_ARIMA.fittedvalues, copy=True)\n",
    "print(predictions_ARIMA_diff.head())"
   ]
  },
  {
   "cell_type": "code",
   "execution_count": 689,
   "metadata": {},
   "outputs": [
    {
     "name": "stdout",
     "output_type": "stream",
     "text": [
      "mnfture_datetime\n",
      "2012-02-29    0.005708\n",
      "2012-08-31    0.014395\n",
      "2012-10-31    0.512048\n",
      "2012-11-30    0.341855\n",
      "2013-02-28    0.794966\n",
      "dtype: float64\n"
     ]
    }
   ],
   "source": [
    "# convert to comulative sum\n",
    "predictions_ARIMA_diff_cumsum = predictions_ARIMA_diff.cumsum()\n",
    "print(predictions_ARIMA_diff_cumsum.head())"
   ]
  },
  {
   "cell_type": "code",
   "execution_count": 690,
   "metadata": {
    "scrolled": true
   },
   "outputs": [
    {
     "name": "stderr",
     "output_type": "stream",
     "text": [
      "C:\\Users\\mrbal\\Anaconda3\\lib\\site-packages\\ipykernel_launcher.py:1: DeprecationWarning:\n",
      "\n",
      "\n",
      ".ix is deprecated. Please use\n",
      ".loc for label based indexing or\n",
      ".iloc for positional indexing\n",
      "\n",
      "See the documentation here:\n",
      "http://pandas.pydata.org/pandas-docs/stable/indexing.html#ix-indexer-is-deprecated\n",
      "\n"
     ]
    },
    {
     "data": {
      "text/plain": [
       "mnfture_datetime\n",
       "2011-01-31    2.000000\n",
       "2012-02-29    2.005708\n",
       "2012-08-31    2.014395\n",
       "2012-10-31    2.512048\n",
       "2012-11-30    2.341855\n",
       "dtype: float64"
      ]
     },
     "execution_count": 690,
     "metadata": {},
     "output_type": "execute_result"
    }
   ],
   "source": [
    "# the predictions done for the printed values\n",
    "predictions_ARIMA_log = pd.Series(df_time_series['parts_ct'].ix[0],index=df_time_series.index)\n",
    "predictions_ARIMA_log = predictions_ARIMA_log.add(predictions_ARIMA_diff_cumsum, fill_value=0)\n",
    "predictions_ARIMA_log.head()"
   ]
  },
  {
   "cell_type": "code",
   "execution_count": 691,
   "metadata": {
    "scrolled": true
   },
   "outputs": [
    {
     "data": {
      "text/plain": [
       "[<matplotlib.lines.Line2D at 0x2340ae86240>]"
      ]
     },
     "execution_count": 691,
     "metadata": {},
     "output_type": "execute_result"
    },
    {
     "data": {
      "image/png": "[encoded data removed]",
      "text/plain": [
       "<Figure size 432x288 with 1 Axes>"
      ]
     },
     "metadata": {
      "needs_background": "light"
     },
     "output_type": "display_data"
    }
   ],
   "source": [
    "# take to exponent to get the data in its original format and plot it\n",
    "# note this data is a mock-up so I am not surprised the prediction equation is not a good fit and \n",
    "# the best RSS value was very high 3.7426\n",
    "predictions_ARIMA = np.exp(predictions_ARIMA_log)\n",
    "plt.plot(df_time_series)\n",
    "plt.plot(predictions_ARIMA)"
   ]
  },
  {
   "cell_type": "code",
   "execution_count": 695,
   "metadata": {},
   "outputs": [
    {
     "data": {
      "text/plain": [
       "77"
      ]
     },
     "execution_count": 695,
     "metadata": {},
     "output_type": "execute_result"
    }
   ],
   "source": [
    "# this info will be used for forecasting \n",
    "# how many rows in the dataset? we got 77 rows and 1 column\n",
    "len(df_time_series_part_logScale)"
   ]
  },
  {
   "cell_type": "code",
   "execution_count": 701,
   "metadata": {
    "scrolled": true
   },
   "outputs": [
    {
     "name": "stderr",
     "output_type": "stream",
     "text": [
      "C:\\Users\\mrbal\\Anaconda3\\lib\\site-packages\\statsmodels\\tsa\\base\\tsa_model.py:531: ValueWarning:\n",
      "\n",
      "No supported index is available. Prediction results will be given with an integer index beginning at `start`.\n",
      "\n",
      "C:\\Users\\mrbal\\Anaconda3\\lib\\site-packages\\statsmodels\\tsa\\base\\tsa_model.py:531: ValueWarning:\n",
      "\n",
      "No supported index is available. Prediction results will be given with an integer index beginning at `start`.\n",
      "\n",
      "C:\\Users\\mrbal\\Anaconda3\\lib\\site-packages\\statsmodels\\tsa\\base\\tsa_model.py:531: ValueWarning:\n",
      "\n",
      "No supported index is available. Prediction results will be given with an integer index beginning at `start`.\n",
      "\n"
     ]
    },
    {
     "data": {
      "image/png": "[encoded data removed]",
      "text/plain": [
       "<Figure size 432x288 with 1 Axes>"
      ]
     },
     "metadata": {
      "needs_background": "light"
     },
     "output_type": "display_data"
    }
   ],
   "source": [
    "# let's forecast for next 2 years\n",
    "# number of data points is 12x2 = 24\n",
    "# for predictiong for next 2 years, len of the data 77 + 24 = 101 and 1 represent index of time-series\n",
    "# the grey area where forecasting resides\n",
    "results_ARIMA.plot_predict(1,101)\n",
    "x = results_ARIMA.forecast(steps=24)"
   ]
  },
  {
   "cell_type": "markdown",
   "metadata": {},
   "source": [
    "<strong> Findings </strong> \n",
    "* Forecasting is done for region vs number of parts sent to fix the issues.\n",
    "* Function 'data_region' was created to grab the data into a data frame for time series analysis.  \n",
    "* Another function created as 'test_stationary' to see if trend lines are stationary or not. This function calculates rolling averages and standard deviation. Also, the function plots these values. The same function runs Dickey-Fuller test to analyze the p-values and test-statistics. \n",
    "* Some other analyses are done to see if the data can be converted to stationary. \n",
    "* ARIMA model used with determined p,d,q values a better RSS for predictions and forecasting. \n",
    "* Toward to the end forecasting is done for next two years. \n",
    "* With a better data set I believe the line of the fit equation could give us more accurate forecasting data. \n",
    "* With forecasting method we can predict number of parts will be sent to the regions, countries and the proper action can be taken based on. "
   ]
  },
  {
   "cell_type": "markdown",
   "metadata": {},
   "source": [
    "<strong> CASE 3\n",
    "* We can look into the correlations between agent_tenure_indays and parts_ct, contact_manager_flg, repeat_ct etc. to understand where the new agent\"s are struggling. We can add another dimension for topic category to see if some topics are harder to identify for the new agents than others. </strong>"
   ]
  },
  {
   "cell_type": "markdown",
   "metadata": {},
   "source": [
    "### Correlations: Agent Tenure Indays vs Contact Manager Flg"
   ]
  },
  {
   "cell_type": "code",
   "execution_count": 418,
   "metadata": {},
   "outputs": [],
   "source": [
    "# change the type from object to numerical \n",
    "df['agent_tenure_indays']=df['agent_tenure_indays'].astype(float)"
   ]
  },
  {
   "cell_type": "code",
   "execution_count": 419,
   "metadata": {
    "scrolled": true
   },
   "outputs": [
    {
     "data": {
      "image/png": "[encoded data removed]",
      "text/plain": [
       "<Figure size 432x288 with 1 Axes>"
      ]
     },
     "metadata": {
      "needs_background": "light"
     },
     "output_type": "display_data"
    }
   ],
   "source": [
    "# plot the additional parts sent vs contact type \n",
    "\n",
    "x = df.contact_manager_flg\n",
    "y = df.agent_tenure_indays\n",
    "\n",
    "# circle sizes based on number of additional visits\n",
    "area = 100 + df.contact_manager_flg \n",
    "\n",
    "plt.scatter(x, y, s=area, c='c', alpha=0.15)\n",
    "# plt.legend(handles=[voice, chat, email, unknown])\n",
    "plt.title('Scatter Plot: Agent Indays vs Contact Manager Flg')\n",
    "plt.xlabel('contact_manager_flg')\n",
    "plt.ylabel('agent_tenure_indays')\n",
    "plt.grid()\n",
    "plt.show()"
   ]
  },
  {
   "cell_type": "code",
   "execution_count": 420,
   "metadata": {
    "scrolled": true
   },
   "outputs": [
    {
     "name": "stdout",
     "output_type": "stream",
     "text": [
      "number of agents is 1045\n",
      "number of agents got experience less than 1018 days is 160\n"
     ]
    }
   ],
   "source": [
    "# number of unique agents, assuming every agent got different hiring dates\n",
    "agent_unique = len(df.agent_tenure_indays.unique())\n",
    "print(f\"number of agents is {agent_unique}\")\n",
    "\n",
    "# filter data for agents contacted to their manager more than one\n",
    "df['agent_tenure_indays']=df['agent_tenure_indays'].astype(float)\n",
    "df_agent_to_contact_mngr = df[['agent_tenure_indays','contact_manager_flg']].reset_index()\n",
    "df_agent_to_contact_mngr = df_agent_to_contact_mngr.loc[df_agent_to_contact_mngr['contact_manager_flg']==1,:]\n",
    "df_agent_to_contact_mngr = df_agent_to_contact_mngr.loc[df_agent_to_contact_mngr['agent_tenure_indays']<=1018,:]\n",
    "agent_unique_less_exp = len(df_agent_to_contact_mngr.agent_tenure_indays.unique())\n",
    "print(f\"number of agents got experience less than 1018 days is {agent_unique_less_exp}\")"
   ]
  },
  {
   "cell_type": "code",
   "execution_count": 421,
   "metadata": {},
   "outputs": [
    {
     "name": "stdout",
     "output_type": "stream",
     "text": [
      "15.31% of agents who has experience <= 1018 days tends to get help from their superiors.\n"
     ]
    }
   ],
   "source": [
    "# find the percent of number of agents who has experience less than 1018 days or equal.\n",
    "\n",
    "prc_mngr = round((agent_unique_less_exp/agent_unique)*100,2)\n",
    "print(f\"{prc_mngr}% of agents who has experience <= 1018 days tends to get help from their superiors.\")"
   ]
  },
  {
   "cell_type": "markdown",
   "metadata": {},
   "source": [
    "<strong>Findings</strong>:\n",
    "\n",
    "* 'Scatter Plot: Agent Indays vs Contact Manager Flg' graph 'contact_manager_flg' axis where x = 1 which represent 'manager contacted' shows more inexperienced agents took the matter to their superiors.\n",
    "\n",
    "* While y axis icreasing for x = 1 the color of circle is fading which is supporting that finding. \n",
    "\n",
    "* From some math, we can see that 15.31% of agents who got experience <= 1018 days tend to get help from their superiors."
   ]
  },
  {
   "cell_type": "markdown",
   "metadata": {},
   "source": [
    "### Correlations: Agent Tenure Indays vs Additional Visits"
   ]
  },
  {
   "cell_type": "code",
   "execution_count": 422,
   "metadata": {},
   "outputs": [
    {
     "data": {
      "image/png": "[encoded data removed]",
      "text/plain": [
       "<Figure size 432x288 with 1 Axes>"
      ]
     },
     "metadata": {
      "needs_background": "light"
     },
     "output_type": "display_data"
    }
   ],
   "source": [
    "# scatter plot for agent tenure indays vs additional visits\n",
    "\n",
    "x = df.repeat_ct\n",
    "y = df.agent_tenure_indays\n",
    "\n",
    "# circle sizes based on number of repeat fixes\n",
    "area = 100 + df.repeat_ct \n",
    "\n",
    "plt.scatter(x, y, s=area, c='c', alpha=0.15)\n",
    "# plt.legend(handles=[voice, chat, email, unknown])\n",
    "plt.title('Scatter Plot: Agent Indays vs Repeat Fix')\n",
    "plt.xlabel('repeat_ct')\n",
    "plt.ylabel('agent_tenure_indays')\n",
    "plt.grid()\n",
    "plt.show()"
   ]
  },
  {
   "cell_type": "code",
   "execution_count": 423,
   "metadata": {},
   "outputs": [
    {
     "data": {
      "text/html": [
       "<div>\n",
       "<style scoped>\n",
       "    .dataframe tbody tr th:only-of-type {\n",
       "        vertical-align: middle;\n",
       "    }\n",
       "\n",
       "    .dataframe tbody tr th {\n",
       "        vertical-align: top;\n",
       "    }\n",
       "\n",
       "    .dataframe thead th {\n",
       "        text-align: right;\n",
       "    }\n",
       "</style>\n",
       "<table border=\"1\" class=\"dataframe\">\n",
       "  <thead>\n",
       "    <tr style=\"text-align: right;\">\n",
       "      <th></th>\n",
       "      <th>agent_tenure_indays</th>\n",
       "      <th>repeat_ct</th>\n",
       "    </tr>\n",
       "    <tr>\n",
       "      <th>asst_id</th>\n",
       "      <th></th>\n",
       "      <th></th>\n",
       "    </tr>\n",
       "  </thead>\n",
       "  <tbody>\n",
       "    <tr>\n",
       "      <th>6</th>\n",
       "      <td>1757.0</td>\n",
       "      <td>1</td>\n",
       "    </tr>\n",
       "    <tr>\n",
       "      <th>19</th>\n",
       "      <td>1250.0</td>\n",
       "      <td>1</td>\n",
       "    </tr>\n",
       "    <tr>\n",
       "      <th>25</th>\n",
       "      <td>720.0</td>\n",
       "      <td>1</td>\n",
       "    </tr>\n",
       "    <tr>\n",
       "      <th>38</th>\n",
       "      <td>767.0</td>\n",
       "      <td>1</td>\n",
       "    </tr>\n",
       "    <tr>\n",
       "      <th>39</th>\n",
       "      <td>1018.0</td>\n",
       "      <td>1</td>\n",
       "    </tr>\n",
       "  </tbody>\n",
       "</table>\n",
       "</div>"
      ],
      "text/plain": [
       "         agent_tenure_indays  repeat_ct\n",
       "asst_id                                \n",
       "6                     1757.0          1\n",
       "19                    1250.0          1\n",
       "25                     720.0          1\n",
       "38                     767.0          1\n",
       "39                    1018.0          1"
      ]
     },
     "execution_count": 423,
     "metadata": {},
     "output_type": "execute_result"
    }
   ],
   "source": [
    "# filter data for agents did additional visits more than zero\n",
    "\n",
    "df['agent_tenure_indays']=df['agent_tenure_indays'].astype(float)\n",
    "df_agent_repeat_ct = df[['agent_tenure_indays', 'repeat_ct']]\n",
    "df_agent_repeat_ct = df_agent_repeat_ct.loc[df_agent_repeat_ct['repeat_ct']>0,:]\n",
    "df_agent_repeat_ct.head()"
   ]
  },
  {
   "cell_type": "code",
   "execution_count": 424,
   "metadata": {},
   "outputs": [
    {
     "name": "stdout",
     "output_type": "stream",
     "text": [
      "number of agents is 1045\n",
      "number of agents got experience less than 1018 days is 265\n"
     ]
    }
   ],
   "source": [
    "# number of unique agents, assuming every agent got different hiring dates\n",
    "agent_unique = len(df.agent_tenure_indays.unique())\n",
    "print(f\"number of agents is {agent_unique}\")\n",
    "\n",
    "# filter data for agents contacted to their manager more than one\n",
    "df['agent_tenure_indays']=df['agent_tenure_indays'].astype(float)\n",
    "df_agent_repeat_ct = df[['agent_tenure_indays', 'repeat_ct']]\n",
    "df_agent_repeat_ct = df_agent_repeat_ct.loc[df_agent_repeat_ct['repeat_ct']>0,:]\n",
    "df_agent_repeat_ct = df_agent_repeat_ct.loc[df_agent_repeat_ct['agent_tenure_indays']<=1018,:]\n",
    "agent_unique_less_exp_2 = len(df_agent_repeat_ct.agent_tenure_indays.unique())\n",
    "print(f\"number of agents got experience less than 1018 days is {agent_unique_less_exp_2}\")"
   ]
  },
  {
   "cell_type": "code",
   "execution_count": 425,
   "metadata": {
    "scrolled": true
   },
   "outputs": [
    {
     "name": "stdout",
     "output_type": "stream",
     "text": [
      "25.36% of agents who has experience <= 1018 days tends to do additional visits\n"
     ]
    }
   ],
   "source": [
    "# find the percent of number of agents who has experience less than 1018 days or equal.\n",
    "\n",
    "prc_repeat = round((agent_unique_less_exp_2/agent_unique)*100,2)\n",
    "print(f\"{prc_repeat}% of agents who has experience <= 1018 days tends to do additional visits\")"
   ]
  },
  {
   "cell_type": "code",
   "execution_count": 426,
   "metadata": {},
   "outputs": [
    {
     "data": {
      "text/html": [
       "<div>\n",
       "<style scoped>\n",
       "    .dataframe tbody tr th:only-of-type {\n",
       "        vertical-align: middle;\n",
       "    }\n",
       "\n",
       "    .dataframe tbody tr th {\n",
       "        vertical-align: top;\n",
       "    }\n",
       "\n",
       "    .dataframe thead th {\n",
       "        text-align: right;\n",
       "    }\n",
       "</style>\n",
       "<table border=\"1\" class=\"dataframe\">\n",
       "  <thead>\n",
       "    <tr style=\"text-align: right;\">\n",
       "      <th></th>\n",
       "      <th></th>\n",
       "      <th>repeat_count</th>\n",
       "    </tr>\n",
       "    <tr>\n",
       "      <th>agent_tenure_indays</th>\n",
       "      <th>mnfture_wk</th>\n",
       "      <th></th>\n",
       "    </tr>\n",
       "  </thead>\n",
       "  <tbody>\n",
       "    <tr>\n",
       "      <th rowspan=\"20\" valign=\"top\">1018.0</th>\n",
       "      <th>201520.0</th>\n",
       "      <td>402</td>\n",
       "    </tr>\n",
       "    <tr>\n",
       "      <th>201613.0</th>\n",
       "      <td>334</td>\n",
       "    </tr>\n",
       "    <tr>\n",
       "      <th>201523.0</th>\n",
       "      <td>280</td>\n",
       "    </tr>\n",
       "    <tr>\n",
       "      <th>201626.0</th>\n",
       "      <td>280</td>\n",
       "    </tr>\n",
       "    <tr>\n",
       "      <th>201816.0</th>\n",
       "      <td>274</td>\n",
       "    </tr>\n",
       "    <tr>\n",
       "      <th>201612.0</th>\n",
       "      <td>240</td>\n",
       "    </tr>\n",
       "    <tr>\n",
       "      <th>201622.0</th>\n",
       "      <td>236</td>\n",
       "    </tr>\n",
       "    <tr>\n",
       "      <th>201615.0</th>\n",
       "      <td>223</td>\n",
       "    </tr>\n",
       "    <tr>\n",
       "      <th>201524.0</th>\n",
       "      <td>216</td>\n",
       "    </tr>\n",
       "    <tr>\n",
       "      <th>201616.0</th>\n",
       "      <td>201</td>\n",
       "    </tr>\n",
       "    <tr>\n",
       "      <th>201625.0</th>\n",
       "      <td>201</td>\n",
       "    </tr>\n",
       "    <tr>\n",
       "      <th>201720.0</th>\n",
       "      <td>184</td>\n",
       "    </tr>\n",
       "    <tr>\n",
       "      <th>201819.0</th>\n",
       "      <td>183</td>\n",
       "    </tr>\n",
       "    <tr>\n",
       "      <th>201722.0</th>\n",
       "      <td>178</td>\n",
       "    </tr>\n",
       "    <tr>\n",
       "      <th>201824.0</th>\n",
       "      <td>166</td>\n",
       "    </tr>\n",
       "    <tr>\n",
       "      <th>201519.0</th>\n",
       "      <td>159</td>\n",
       "    </tr>\n",
       "    <tr>\n",
       "      <th>201628.0</th>\n",
       "      <td>158</td>\n",
       "    </tr>\n",
       "    <tr>\n",
       "      <th>201713.0</th>\n",
       "      <td>154</td>\n",
       "    </tr>\n",
       "    <tr>\n",
       "      <th>201725.0</th>\n",
       "      <td>153</td>\n",
       "    </tr>\n",
       "    <tr>\n",
       "      <th>201813.0</th>\n",
       "      <td>152</td>\n",
       "    </tr>\n",
       "  </tbody>\n",
       "</table>\n",
       "</div>"
      ],
      "text/plain": [
       "                                repeat_count\n",
       "agent_tenure_indays mnfture_wk              \n",
       "1018.0              201520.0             402\n",
       "                    201613.0             334\n",
       "                    201523.0             280\n",
       "                    201626.0             280\n",
       "                    201816.0             274\n",
       "                    201612.0             240\n",
       "                    201622.0             236\n",
       "                    201615.0             223\n",
       "                    201524.0             216\n",
       "                    201616.0             201\n",
       "                    201625.0             201\n",
       "                    201720.0             184\n",
       "                    201819.0             183\n",
       "                    201722.0             178\n",
       "                    201824.0             166\n",
       "                    201519.0             159\n",
       "                    201628.0             158\n",
       "                    201713.0             154\n",
       "                    201725.0             153\n",
       "                    201813.0             152"
      ]
     },
     "execution_count": 426,
     "metadata": {},
     "output_type": "execute_result"
    }
   ],
   "source": [
    "df_agent_repeat_mnfture_most = df.loc[df.repeat_ct > 0, :]\n",
    "df_agent_repeat_mnfture_most = pd.DataFrame(df.groupby(['agent_tenure_indays',\n",
    "                                                               'mnfture_wk', \n",
    "                                                                ]).repeat_ct.count())\n",
    "df_agent_repeat_mnfture_most = df_agent_repeat_mnfture_most.rename(columns={'repeat_ct':'repeat_count'})\n",
    "df_agent_repeat_mnfture_most = df_agent_repeat_mnfture_most.sort_values('repeat_count', ascending=False)\n",
    "df_agent_repeat_mnfture_most.head(20)"
   ]
  },
  {
   "cell_type": "markdown",
   "metadata": {},
   "source": [
    "<strong>Findings</strong>:\n",
    "* 'Scatter Plot: Agent Indays vs Repeat Fix' x-axis represents number of repeat fixes. y-axis represents agents in-days. Since we ignore x=0, for other x values y-values are fading when y increases. Especially x=2, and x = 3 shows more inexperienced agents additional visits. \n",
    "\n",
    "* From this observation, we can say that more additional visits were made by more inexperienced tech support comparing experienced ones.\n",
    "\n",
    "* 'df_agent_repeat_mnfture_most' table is grouped by 'agent_tenure_indays', 'mnfture_wk' and aggregated by repeat_ct which additional visits taken by agent to fix the problem.\n",
    "* Additionally, if we have a better data since this one is mock-up, it could be a better practice to keep inexperienced agents from the top production related most manufactured weeks if the same patterns found.\n",
    "\n",
    "* Also from math, 25.36% of agents who has experience <= 1018 days tends to do additional visits. Assuming 1018 and below as inexperienced. "
   ]
  },
  {
   "cell_type": "markdown",
   "metadata": {},
   "source": [
    "### Correlations: Agent Tenure Indays vs Parts Sent"
   ]
  },
  {
   "cell_type": "code",
   "execution_count": 427,
   "metadata": {},
   "outputs": [
    {
     "data": {
      "image/png": "[encoded data removed]",
      "text/plain": [
       "<Figure size 432x288 with 1 Axes>"
      ]
     },
     "metadata": {
      "needs_background": "light"
     },
     "output_type": "display_data"
    }
   ],
   "source": [
    "# scatter plot for agent tenure indays vs additional visits\n",
    "\n",
    "x = df.parts_ct\n",
    "y = df.agent_tenure_indays\n",
    "\n",
    "plt.scatter(x, y, c='c', alpha=0.15)\n",
    "plt.title('Scatter Plot: Agent Indays vs Parts Sent')\n",
    "plt.xlabel('parts_ct')\n",
    "plt.ylabel('agent_tenure_indays')\n",
    "plt.grid()\n",
    "plt.show()"
   ]
  },
  {
   "cell_type": "code",
   "execution_count": 428,
   "metadata": {
    "scrolled": true
   },
   "outputs": [
    {
     "name": "stdout",
     "output_type": "stream",
     "text": [
      "number of agents got experience less than 1018 days is 323\n"
     ]
    }
   ],
   "source": [
    "# filter data for agents who has experience <= 1018 days and who did send parts more than 1\n",
    "\n",
    "df['agent_tenure_indays']=df['agent_tenure_indays'].astype(float)\n",
    "df_agent_parts_ct = df[['agent_tenure_indays', 'parts_ct']]\n",
    "df_agent_parts_ct = df_agent_parts_ct.loc[df_agent_parts_ct['parts_ct']>1,:]\n",
    "df_agent_parts_ct = df_agent_parts_ct.loc[df_agent_parts_ct['agent_tenure_indays']<=1018,:]\n",
    "agent_unique_less_exp_3 = len(df_agent_parts_ct.agent_tenure_indays.unique())\n",
    "print(f\"number of agents got experience less than 1018 days is {agent_unique_less_exp_3}\")"
   ]
  },
  {
   "cell_type": "code",
   "execution_count": 429,
   "metadata": {},
   "outputs": [
    {
     "name": "stdout",
     "output_type": "stream",
     "text": [
      "30.91% of agents who has experience <= 1018 sent more than 1 part\n"
     ]
    }
   ],
   "source": [
    "prc_parts = round((agent_unique_less_exp_3/agent_unique)*100,2)\n",
    "\n",
    "print(f\"{prc_parts}% of agents who has experience <= 1018 sent more than 1 part\")"
   ]
  },
  {
   "cell_type": "code",
   "execution_count": 430,
   "metadata": {},
   "outputs": [
    {
     "data": {
      "text/html": [
       "<div>\n",
       "<style scoped>\n",
       "    .dataframe tbody tr th:only-of-type {\n",
       "        vertical-align: middle;\n",
       "    }\n",
       "\n",
       "    .dataframe tbody tr th {\n",
       "        vertical-align: top;\n",
       "    }\n",
       "\n",
       "    .dataframe thead th {\n",
       "        text-align: right;\n",
       "    }\n",
       "</style>\n",
       "<table border=\"1\" class=\"dataframe\">\n",
       "  <thead>\n",
       "    <tr style=\"text-align: right;\">\n",
       "      <th></th>\n",
       "      <th></th>\n",
       "      <th>parts_count</th>\n",
       "    </tr>\n",
       "    <tr>\n",
       "      <th>agent_tenure_indays</th>\n",
       "      <th>mnfture_wk</th>\n",
       "      <th></th>\n",
       "    </tr>\n",
       "  </thead>\n",
       "  <tbody>\n",
       "    <tr>\n",
       "      <th rowspan=\"20\" valign=\"top\">1018.0</th>\n",
       "      <th>201520.0</th>\n",
       "      <td>402</td>\n",
       "    </tr>\n",
       "    <tr>\n",
       "      <th>201613.0</th>\n",
       "      <td>334</td>\n",
       "    </tr>\n",
       "    <tr>\n",
       "      <th>201523.0</th>\n",
       "      <td>280</td>\n",
       "    </tr>\n",
       "    <tr>\n",
       "      <th>201626.0</th>\n",
       "      <td>280</td>\n",
       "    </tr>\n",
       "    <tr>\n",
       "      <th>201816.0</th>\n",
       "      <td>274</td>\n",
       "    </tr>\n",
       "    <tr>\n",
       "      <th>201612.0</th>\n",
       "      <td>240</td>\n",
       "    </tr>\n",
       "    <tr>\n",
       "      <th>201622.0</th>\n",
       "      <td>236</td>\n",
       "    </tr>\n",
       "    <tr>\n",
       "      <th>201615.0</th>\n",
       "      <td>223</td>\n",
       "    </tr>\n",
       "    <tr>\n",
       "      <th>201524.0</th>\n",
       "      <td>216</td>\n",
       "    </tr>\n",
       "    <tr>\n",
       "      <th>201616.0</th>\n",
       "      <td>201</td>\n",
       "    </tr>\n",
       "    <tr>\n",
       "      <th>201625.0</th>\n",
       "      <td>201</td>\n",
       "    </tr>\n",
       "    <tr>\n",
       "      <th>201720.0</th>\n",
       "      <td>184</td>\n",
       "    </tr>\n",
       "    <tr>\n",
       "      <th>201819.0</th>\n",
       "      <td>183</td>\n",
       "    </tr>\n",
       "    <tr>\n",
       "      <th>201722.0</th>\n",
       "      <td>178</td>\n",
       "    </tr>\n",
       "    <tr>\n",
       "      <th>201824.0</th>\n",
       "      <td>166</td>\n",
       "    </tr>\n",
       "    <tr>\n",
       "      <th>201519.0</th>\n",
       "      <td>159</td>\n",
       "    </tr>\n",
       "    <tr>\n",
       "      <th>201628.0</th>\n",
       "      <td>158</td>\n",
       "    </tr>\n",
       "    <tr>\n",
       "      <th>201713.0</th>\n",
       "      <td>154</td>\n",
       "    </tr>\n",
       "    <tr>\n",
       "      <th>201725.0</th>\n",
       "      <td>153</td>\n",
       "    </tr>\n",
       "    <tr>\n",
       "      <th>201813.0</th>\n",
       "      <td>152</td>\n",
       "    </tr>\n",
       "  </tbody>\n",
       "</table>\n",
       "</div>"
      ],
      "text/plain": [
       "                                parts_count\n",
       "agent_tenure_indays mnfture_wk             \n",
       "1018.0              201520.0            402\n",
       "                    201613.0            334\n",
       "                    201523.0            280\n",
       "                    201626.0            280\n",
       "                    201816.0            274\n",
       "                    201612.0            240\n",
       "                    201622.0            236\n",
       "                    201615.0            223\n",
       "                    201524.0            216\n",
       "                    201616.0            201\n",
       "                    201625.0            201\n",
       "                    201720.0            184\n",
       "                    201819.0            183\n",
       "                    201722.0            178\n",
       "                    201824.0            166\n",
       "                    201519.0            159\n",
       "                    201628.0            158\n",
       "                    201713.0            154\n",
       "                    201725.0            153\n",
       "                    201813.0            152"
      ]
     },
     "execution_count": 430,
     "metadata": {},
     "output_type": "execute_result"
    }
   ],
   "source": [
    "df_agent_parts_mnfture_most = df.loc[df.parts_ct > 0, :]\n",
    "df_agent_parts_mnfture_most = pd.DataFrame(df.groupby(['agent_tenure_indays',\n",
    "                                                               'mnfture_wk', \n",
    "                                                                ]).parts_ct.count())\n",
    "df_agent_parts_mnfture_most = df_agent_parts_mnfture_most.rename(columns={'parts_ct':'parts_count'})\n",
    "df_agent_parts_mnfture_most = df_agent_parts_mnfture_most.sort_values('parts_count', ascending=False)\n",
    "df_agent_parts_mnfture_most.head(20)"
   ]
  },
  {
   "cell_type": "markdown",
   "metadata": {},
   "source": [
    "<strong>Conclusion</strong>:\n",
    "* 'Scatter Plot: Agent Indays vs Parts Sent', x-axis represents number of parts sent and y represent agents in-days a tech supoort. As seen from the plot, more inexperienced tech-agents are sending more parts comparing experienced ones. Ignore x = 0\n",
    "* 'df_agent_parts_mnfture_most' table was grouped by agent_tenure_indays', 'mnfture_wk' and aggregated by 'parts_ct' to understand what agent type and which related manufactured weeks got more parts sent. \n",
    "* This table could help us to see if inexperienced agents could be pull out from the weeks which reported with most cases with a better data given. \n",
    "* Based on this data, 30.91% of agents who has experience less than or equal to 1018 days sent more than 1 part"
   ]
  },
  {
   "cell_type": "markdown",
   "metadata": {},
   "source": [
    "<strong> CASE 4\n",
    "* We can look into the correlation between the repeat_ct and contact_type to see if some communication channels are more effective than others. </strong>"
   ]
  },
  {
   "cell_type": "markdown",
   "metadata": {},
   "source": [
    "### Correlations: Additional Parts Sent vs Contact Type"
   ]
  },
  {
   "cell_type": "code",
   "execution_count": 431,
   "metadata": {},
   "outputs": [],
   "source": [
    "df_contact_type = df"
   ]
  },
  {
   "cell_type": "code",
   "execution_count": 432,
   "metadata": {},
   "outputs": [],
   "source": [
    "# Assigned numerical values to the contact types for correlation\n",
    "\n",
    "df_contact_type['contact_type']=df_contact_type['contact_type'].str.replace('Voice',\"1\")\n",
    "df_contact_type['contact_type']=df_contact_type['contact_type'].str.replace('CHAT',\"2\")\n",
    "df_contact_type['contact_type']=df_contact_type['contact_type'].str.replace('EMAIL',\"3\")\n",
    "df_contact_type['contact_type']=df_contact_type['contact_type'].str.replace('Unknown',\"4\")"
   ]
  },
  {
   "cell_type": "code",
   "execution_count": 433,
   "metadata": {},
   "outputs": [],
   "source": [
    "# change data type to numerical \n",
    "df_contact_type['contact_type']=df_contact_type['contact_type'].astype(int)"
   ]
  },
  {
   "cell_type": "code",
   "execution_count": 434,
   "metadata": {
    "scrolled": true
   },
   "outputs": [
    {
     "data": {
      "image/png": "[encoded data removed]",
      "text/plain": [
       "<Figure size 432x288 with 1 Axes>"
      ]
     },
     "metadata": {
      "needs_background": "light"
     },
     "output_type": "display_data"
    }
   ],
   "source": [
    "# matplotlib imports \n",
    "import matplotlib.pyplot as plt\n",
    "import matplotlib.patches as mpatches\n",
    "\n",
    "# plot the additional parts sent vs contact type \n",
    "N=50\n",
    "x = df_contact_type.contact_type\n",
    "y = df_contact_type.repeat_ct\n",
    "colors = np.random.rand(N)\n",
    "# circle sizes based on number of additional visits\n",
    "area = 1000*df_contact_type.repeat_ct  # 0 to 15 point radii\n",
    "\n",
    "voice = mpatches.Patch(label='1: Voice')\n",
    "chat = mpatches.Patch(label='2: Chat')\n",
    "email = mpatches.Patch(label='3: Email')\n",
    "unknown = mpatches.Patch(label='4: Unknown')\n",
    "\n",
    "plt.scatter(x, y, s=area, c='c', alpha=0.15)\n",
    "plt.legend(handles=[voice, chat, email, unknown])\n",
    "plt.title('Scatter Plot: Additional Visits vs Contact Type')\n",
    "plt.legend(handles=[voice, chat, email, unknown], \n",
    "           loc='center left', bbox_to_anchor=(1, 0.5), title=\"Contact Types\",fancybox=True)\n",
    "plt.xlabel('Contact Types')\n",
    "plt.ylabel('Additional Visits')\n",
    "plt.grid()\n",
    "plt.show()"
   ]
  },
  {
   "cell_type": "code",
   "execution_count": 435,
   "metadata": {
    "scrolled": true
   },
   "outputs": [
    {
     "data": {
      "text/html": [
       "<div>\n",
       "<style scoped>\n",
       "    .dataframe tbody tr th:only-of-type {\n",
       "        vertical-align: middle;\n",
       "    }\n",
       "\n",
       "    .dataframe tbody tr th {\n",
       "        vertical-align: top;\n",
       "    }\n",
       "\n",
       "    .dataframe thead th {\n",
       "        text-align: right;\n",
       "    }\n",
       "</style>\n",
       "<table border=\"1\" class=\"dataframe\">\n",
       "  <thead>\n",
       "    <tr style=\"text-align: right;\">\n",
       "      <th>repeat_ct</th>\n",
       "      <th>0</th>\n",
       "      <th>1</th>\n",
       "      <th>2</th>\n",
       "      <th>3</th>\n",
       "    </tr>\n",
       "    <tr>\n",
       "      <th>contact_type</th>\n",
       "      <th></th>\n",
       "      <th></th>\n",
       "      <th></th>\n",
       "      <th></th>\n",
       "    </tr>\n",
       "  </thead>\n",
       "  <tbody>\n",
       "    <tr>\n",
       "      <th>1</th>\n",
       "      <td>78185.0</td>\n",
       "      <td>5968.0</td>\n",
       "      <td>6.0</td>\n",
       "      <td>3.0</td>\n",
       "    </tr>\n",
       "    <tr>\n",
       "      <th>2</th>\n",
       "      <td>13149.0</td>\n",
       "      <td>1276.0</td>\n",
       "      <td>NaN</td>\n",
       "      <td>NaN</td>\n",
       "    </tr>\n",
       "    <tr>\n",
       "      <th>3</th>\n",
       "      <td>1150.0</td>\n",
       "      <td>131.0</td>\n",
       "      <td>NaN</td>\n",
       "      <td>NaN</td>\n",
       "    </tr>\n",
       "    <tr>\n",
       "      <th>4</th>\n",
       "      <td>119.0</td>\n",
       "      <td>13.0</td>\n",
       "      <td>NaN</td>\n",
       "      <td>NaN</td>\n",
       "    </tr>\n",
       "  </tbody>\n",
       "</table>\n",
       "</div>"
      ],
      "text/plain": [
       "repeat_ct           0       1    2    3\n",
       "contact_type                           \n",
       "1             78185.0  5968.0  6.0  3.0\n",
       "2             13149.0  1276.0  NaN  NaN\n",
       "3              1150.0   131.0  NaN  NaN\n",
       "4               119.0    13.0  NaN  NaN"
      ]
     },
     "execution_count": 435,
     "metadata": {},
     "output_type": "execute_result"
    }
   ],
   "source": [
    "df_visit_contact_type = df.groupby(['contact_type', 'repeat_ct']).repeat_ct.count().unstack()\n",
    "df_visit_contact_type"
   ]
  },
  {
   "cell_type": "markdown",
   "metadata": {},
   "source": [
    "<strong>Findings</strong>:\n",
    "* 'df_contact_type' table was assigned numerical values for contact types. \n",
    "* 'Scatter Plot: Additional Visits vs Contact Type' was created based on the 'df_contact_type' table. Size of circles were created based on 'repeat_ct'. x-axis represents contact types and y-axis represents the additional visits to fix the reported issue. \n",
    "* Based on the plot 'voice' option seems chosen most for additional visits. Pay attention to y values where y = 2 and y =3 and size of circels. \n",
    "* This analysis could tell us that 'voice' option could not be a better solution since 'chat' and 'email' seems better options based on this data. \n",
    "* Also, look other suggestions to make the 'voice' options a better solution. Another issue could be if the voice option was given to the 'inexperienced' agents to handle the cases. This could be analyzed to see if there is a significant effect on this detail. "
   ]
  },
  {
   "cell_type": "markdown",
   "metadata": {},
   "source": [
    "<strong> CASE 5\n",
    "* We can look into the correlation between diagnostics and repeat_ct to see if diagnostics are helpful to the agents. We can run a hypothesis testing to see if the effect is significant. </strong>"
   ]
  },
  {
   "cell_type": "markdown",
   "metadata": {},
   "source": [
    "### Correlations: Diagnostics vs Additional Visits"
   ]
  },
  {
   "cell_type": "code",
   "execution_count": 436,
   "metadata": {},
   "outputs": [],
   "source": [
    "df_diag = df"
   ]
  },
  {
   "cell_type": "code",
   "execution_count": 437,
   "metadata": {},
   "outputs": [],
   "source": [
    "# Assigned numerical values for type of diagnostics \n",
    "df_diag['diagnostics']=df_diag['diagnostics'].str.replace('Not_USED','1')\n",
    "df_diag['diagnostics']=df_diag['diagnostics'].str.replace('Effective_Usage','2')\n",
    "df_diag['diagnostics']=df_diag['diagnostics'].str.replace('InEffective_Usage','3')\n",
    "df_diag['diagnostics']=df_diag['diagnostics'].str.replace('Not_Considered','4')\n",
    "\n",
    "# somehow 'inEffective_Usage' replace with 'in2' object so replaced it with 3 again\n",
    "df_diag['diagnostics']=df_diag['diagnostics'].str.replace('In2','3')"
   ]
  },
  {
   "cell_type": "code",
   "execution_count": 438,
   "metadata": {},
   "outputs": [],
   "source": [
    "# change type from object to numeric to plot\n",
    "df_diag['diagnostics']=df_diag['diagnostics'].astype(int)"
   ]
  },
  {
   "cell_type": "code",
   "execution_count": 439,
   "metadata": {
    "scrolled": false
   },
   "outputs": [
    {
     "data": {
      "image/png": "[encoded data removed]",
      "text/plain": [
       "<Figure size 432x288 with 1 Axes>"
      ]
     },
     "metadata": {
      "needs_background": "light"
     },
     "output_type": "display_data"
    }
   ],
   "source": [
    "# Scatter Plot for Diagnostics vs Additional Visits\n",
    "\n",
    "N=50\n",
    "x = df_diag.diagnostics\n",
    "y = df_diag.repeat_ct\n",
    "colors = np.random.rand(N)\n",
    "\n",
    "# circle size based on additional visits\n",
    "area = 1000*df_diag.repeat_ct  # 0 to 15 point radii\n",
    "\n",
    "# lable the diognastics for legend\n",
    "not_used = mpatches.Patch(label='1: Not_USED')\n",
    "eff_usag = mpatches.Patch(label='2: Effective_Usage')\n",
    "ineff_usag = mpatches.Patch(label='3: InEffective_Usage')\n",
    "not_cons = mpatches.Patch(label='4: Not_Considered')\n",
    "\n",
    "plt.scatter(x, y, s=area, c='c', alpha=0.1)\n",
    "plt.legend(handles=[not_used, eff_usag, ineff_usag, not_cons], \n",
    "           loc='center left', bbox_to_anchor=(1, 0.5), title=\"Diagnostics\",fancybox=True)\n",
    "plt.title('Scatter Plot: Diagnostics vs Additional Visits')\n",
    "plt.xlabel('Diagnostics')\n",
    "plt.ylabel('Additional Visits')\n",
    "plt.grid()\n",
    "plt.show()"
   ]
  },
  {
   "cell_type": "markdown",
   "metadata": {},
   "source": [
    "<strong>Findings</strong>:\n",
    "* 'df_diag' table was created by assigning diagnostics values to the numerical values for the scatter plot\n",
    "* 'Scatter Plot: Diagnostics vs Additional Visits' suggests some correlations but to determine which diagnostics type was effective, I used hypothesis testing between 'not_used' and 'effective_usage' below."
   ]
  },
  {
   "cell_type": "markdown",
   "metadata": {},
   "source": [
    "### Hypothesis Testing: To see if the usage of diagnostics effect is significant"
   ]
  },
  {
   "cell_type": "markdown",
   "metadata": {},
   "source": [
    "* Hypothesis: If diagnostic has effectively been used for each case, there is a significant effect on customer's additional visit\n",
    "\n",
    "* Null Hypothesis: If diagnostics not effectively been used for each case, there is not a significant effect on customer's additional visit\n"
   ]
  },
  {
   "cell_type": "code",
   "execution_count": 440,
   "metadata": {},
   "outputs": [],
   "source": [
    "# Dependencies\n",
    "import scipy.stats as stats"
   ]
  },
  {
   "cell_type": "code",
   "execution_count": 441,
   "metadata": {
    "scrolled": false
   },
   "outputs": [
    {
     "data": {
      "text/html": [
       "<div>\n",
       "<style scoped>\n",
       "    .dataframe tbody tr th:only-of-type {\n",
       "        vertical-align: middle;\n",
       "    }\n",
       "\n",
       "    .dataframe tbody tr th {\n",
       "        vertical-align: top;\n",
       "    }\n",
       "\n",
       "    .dataframe thead th {\n",
       "        text-align: right;\n",
       "    }\n",
       "</style>\n",
       "<table border=\"1\" class=\"dataframe\">\n",
       "  <thead>\n",
       "    <tr style=\"text-align: right;\">\n",
       "      <th></th>\n",
       "      <th>diagnostics</th>\n",
       "      <th>repeat_ct</th>\n",
       "    </tr>\n",
       "    <tr>\n",
       "      <th>asst_id</th>\n",
       "      <th></th>\n",
       "      <th></th>\n",
       "    </tr>\n",
       "  </thead>\n",
       "  <tbody>\n",
       "    <tr>\n",
       "      <th>0</th>\n",
       "      <td>1</td>\n",
       "      <td>0</td>\n",
       "    </tr>\n",
       "    <tr>\n",
       "      <th>1</th>\n",
       "      <td>1</td>\n",
       "      <td>0</td>\n",
       "    </tr>\n",
       "    <tr>\n",
       "      <th>2</th>\n",
       "      <td>1</td>\n",
       "      <td>0</td>\n",
       "    </tr>\n",
       "    <tr>\n",
       "      <th>3</th>\n",
       "      <td>2</td>\n",
       "      <td>0</td>\n",
       "    </tr>\n",
       "    <tr>\n",
       "      <th>4</th>\n",
       "      <td>1</td>\n",
       "      <td>0</td>\n",
       "    </tr>\n",
       "  </tbody>\n",
       "</table>\n",
       "</div>"
      ],
      "text/plain": [
       "         diagnostics  repeat_ct\n",
       "asst_id                        \n",
       "0                  1          0\n",
       "1                  1          0\n",
       "2                  1          0\n",
       "3                  2          0\n",
       "4                  1          0"
      ]
     },
     "execution_count": 441,
     "metadata": {},
     "output_type": "execute_result"
    }
   ],
   "source": [
    "# Only get diagnostics and repeat_ct columns for testing\n",
    "df_diag_repeat_ct = df[['diagnostics','repeat_ct']]\n",
    "df_diag_repeat_ct.head()"
   ]
  },
  {
   "cell_type": "code",
   "execution_count": 442,
   "metadata": {},
   "outputs": [
    {
     "name": "stdout",
     "output_type": "stream",
     "text": [
      "mean for diagnostics not used 0.06080189728007115\n",
      "std for diagnostics not used 0.2391543629971682\n",
      "-------------\n",
      "mean for diagnostics effectively used 0.08824302998421883\n",
      "std for diagnostics effectively used 0.2845800181144111\n"
     ]
    }
   ],
   "source": [
    "# Calculate additional visits mean for diagnostics Not_Used (1) which and Effective_Usage (2)\n",
    "not_used = df_diag_repeat_ct[df_diag_repeat_ct['diagnostics']==1]\n",
    "effective_usage = df_diag_repeat_ct[df_diag_repeat_ct['diagnostics']==2]\n",
    "\n",
    "print(f\"mean for diagnostics not used {not_used.repeat_ct.mean()}\")\n",
    "print(f\"std for diagnostics not used {not_used.repeat_ct.std()}\")\n",
    "print(\"-------------\")\n",
    "print(f\"mean for diagnostics effectively used {effective_usage.repeat_ct.mean()}\")\n",
    "print(f\"std for diagnostics effectively used {effective_usage.repeat_ct.std()}\")"
   ]
  },
  {
   "cell_type": "code",
   "execution_count": 443,
   "metadata": {},
   "outputs": [],
   "source": [
    "# function to create scatter and histogram plots comparison \n",
    "\n",
    "def gendata():\n",
    "    not_used_diag = not_used.repeat_ct\n",
    "    effective_usage_diag = effective_usage.repeat_ct\n",
    "    \n",
    "    # scatter plot of data\n",
    "    plt.subplot(2,1,1)\n",
    "    plt.scatter(range(len(not_used_diag)), not_used_diag, label='not used diagnostics')\n",
    "    plt.scatter(range(len(effective_usage_diag)), effective_usage_diag, label='effective usage diagnostics')\n",
    "    plt.legend(loc='center left', bbox_to_anchor=(1, 0.5))\n",
    "    \n",
    "    # histogram plot of data\n",
    "    plt.subplot(2,1,2)\n",
    "    plt.hist(not_used_diag, density=True, alpha=0.7, label='not used diagnostics')\n",
    "    plt.hist(effective_usage_diag, density=True, alpha=0.7, label='effective usage diagnostics')\n",
    "    plt.axvline(not_used_diag.mean(), color='k', linestyle='dashed', linewidth=1)\n",
    "    plt.axvline(effective_usage_diag.mean(), color='k', linestyle='dashed', linewidth=1)\n",
    "    plt.legend(loc='center left', bbox_to_anchor=(1, 0.5))\n",
    "    \n",
    "    return not_used_diag, effective_usage_diag"
   ]
  },
  {
   "cell_type": "code",
   "execution_count": 444,
   "metadata": {
    "scrolled": false
   },
   "outputs": [
    {
     "data": {
      "image/png": "[encoded data removed]",
      "text/plain": [
       "<Figure size 432x288 with 2 Axes>"
      ]
     },
     "metadata": {
      "needs_background": "light"
     },
     "output_type": "display_data"
    }
   ],
   "source": [
    "# run the fuction\n",
    "not_used_diag, effective_usage_diag = gendata()"
   ]
  },
  {
   "cell_type": "code",
   "execution_count": 445,
   "metadata": {},
   "outputs": [
    {
     "name": "stdout",
     "output_type": "stream",
     "text": [
      "Ttest_indResult(statistic=13.085155129188742, pvalue=4.964568799714122e-39)\n"
     ]
    }
   ],
   "source": [
    "# Calculate Independent (Two Sample) T-Test\n",
    "print(stats.ttest_ind(effective_usage.repeat_ct, not_used.repeat_ct, equal_var=False))"
   ]
  },
  {
   "cell_type": "markdown",
   "metadata": {},
   "source": [
    "<strong>Findings</strong>:\n",
    "\n",
    "* A small p-value (typically ≤ 0.05) indicates strong evidence against the null hypothesis, so reject the null hypothesis.\n",
    "\n",
    "* Hypothesis: If diagnostic has effectively been used for each case, there is a significant effect on customer's additional visit\n",
    "\n",
    "* That means, if the diagnostics have been effectively used for each case, there is a significant effect on customer's additional visit."
   ]
  },
  {
   "cell_type": "markdown",
   "metadata": {},
   "source": [
    "<strong> CASE 6\n",
    "* We can look into the relation between the time after manufacturing till contact week and topic parts_sent to see what parts are failing when. </strong>"
   ]
  },
  {
   "cell_type": "code",
   "execution_count": 446,
   "metadata": {},
   "outputs": [],
   "source": [
    "# find the difference in days between contract end and manufacturing time\n",
    "df['mnfture_to_contact']=df.contract_end_datetime-df.mnfture_datetime\n",
    "df['mnfture_to_contact_in_days'] = df['mnfture_to_contact'].apply(lambda x: float(x.days))"
   ]
  },
  {
   "cell_type": "code",
   "execution_count": 447,
   "metadata": {},
   "outputs": [],
   "source": [
    "# we got some negative numbers, filter for positive and zeros\n",
    "df_no_negative = df.loc[df.mnfture_to_contact_in_days >= 0,:]"
   ]
  },
  {
   "cell_type": "code",
   "execution_count": 448,
   "metadata": {
    "scrolled": false
   },
   "outputs": [
    {
     "data": {
      "text/html": [
       "<div>\n",
       "<style scoped>\n",
       "    .dataframe tbody tr th:only-of-type {\n",
       "        vertical-align: middle;\n",
       "    }\n",
       "\n",
       "    .dataframe tbody tr th {\n",
       "        vertical-align: top;\n",
       "    }\n",
       "\n",
       "    .dataframe thead th {\n",
       "        text-align: right;\n",
       "    }\n",
       "</style>\n",
       "<table border=\"1\" class=\"dataframe\">\n",
       "  <thead>\n",
       "    <tr style=\"text-align: right;\">\n",
       "      <th></th>\n",
       "      <th>mnfture_to_contact_in_days</th>\n",
       "    </tr>\n",
       "    <tr>\n",
       "      <th>parts_sent</th>\n",
       "      <th></th>\n",
       "    </tr>\n",
       "  </thead>\n",
       "  <tbody>\n",
       "    <tr>\n",
       "      <th>Miscellaneous(2), LCD Panel(6)</th>\n",
       "      <td>147.000000</td>\n",
       "    </tr>\n",
       "    <tr>\n",
       "      <th>Printer, Base Unit</th>\n",
       "      <td>168.000000</td>\n",
       "    </tr>\n",
       "    <tr>\n",
       "      <th>Miscellaneous(2), Battery (Other)(2)</th>\n",
       "      <td>231.000000</td>\n",
       "    </tr>\n",
       "    <tr>\n",
       "      <th>Miscellaneous(2), LCD Panel(2), Hard Drive</th>\n",
       "      <td>256.666667</td>\n",
       "    </tr>\n",
       "    <tr>\n",
       "      <th>Speaker(2), Motherboard, Miscellaneous, Heatsink, Documentation</th>\n",
       "      <td>259.000000</td>\n",
       "    </tr>\n",
       "    <tr>\n",
       "      <th>Motherboard(5), Miscellaneous, Cables(2)</th>\n",
       "      <td>266.000000</td>\n",
       "    </tr>\n",
       "    <tr>\n",
       "      <th>Miscellaneous(2), Adapter, AC(5)</th>\n",
       "      <td>294.000000</td>\n",
       "    </tr>\n",
       "    <tr>\n",
       "      <th>Miscellaneous, LCD Panel(2)</th>\n",
       "      <td>294.000000</td>\n",
       "    </tr>\n",
       "    <tr>\n",
       "      <th>LCD, Adapter, AC</th>\n",
       "      <td>296.333333</td>\n",
       "    </tr>\n",
       "    <tr>\n",
       "      <th>Motherboard(3), Miscellaneous(2), Documentation, Battery (Notebook)</th>\n",
       "      <td>301.000000</td>\n",
       "    </tr>\n",
       "  </tbody>\n",
       "</table>\n",
       "</div>"
      ],
      "text/plain": [
       "                                                    mnfture_to_contact_in_days\n",
       "parts_sent                                                                    \n",
       "Miscellaneous(2), LCD Panel(6)                                      147.000000\n",
       "Printer, Base Unit                                                  168.000000\n",
       "Miscellaneous(2), Battery (Other)(2)                                231.000000\n",
       "Miscellaneous(2), LCD Panel(2), Hard Drive                          256.666667\n",
       "Speaker(2), Motherboard, Miscellaneous, Heatsin...                  259.000000\n",
       "Motherboard(5), Miscellaneous, Cables(2)                            266.000000\n",
       "Miscellaneous(2), Adapter, AC(5)                                    294.000000\n",
       "Miscellaneous, LCD Panel(2)                                         294.000000\n",
       "LCD, Adapter, AC                                                    296.333333\n",
       "Motherboard(3), Miscellaneous(2), Documentation...                  301.000000"
      ]
     },
     "execution_count": 448,
     "metadata": {},
     "output_type": "execute_result"
    }
   ],
   "source": [
    "df_mnfture_to_contract = pd.DataFrame(df_no_negative.groupby('parts_sent').mnfture_to_contact_in_days.mean()).\\\n",
    "            sort_values('mnfture_to_contact_in_days', ascending=True)\n",
    "df_mnfture_to_contract.head(10)"
   ]
  },
  {
   "cell_type": "code",
   "execution_count": 449,
   "metadata": {},
   "outputs": [
    {
     "data": {
      "image/png": "[encoded data removed]",
      "text/plain": [
       "<Figure size 1008x216 with 2 Axes>"
      ]
     },
     "metadata": {
      "needs_background": "light"
     },
     "output_type": "display_data"
    }
   ],
   "source": [
    "# change the type from object to numerical for mnfture_wk\n",
    "df['mnfture_to_contact_in_days']=df['mnfture_to_contact_in_days'].astype(float)\n",
    "\n",
    "# histogram\n",
    "f, (ax1, ax2) = plt.subplots(1,2, figsize=(14,3))\n",
    "\n",
    "ax1.hist(df.mnfture_to_contact_in_days, bins=20, color='tomato')\n",
    "ax1.set_title('Histogram: Manufactured Week to Contact In Days')\n",
    "ax1.set_xlabel('Difference')\n",
    "ax1.set_ylabel('Counts')\n",
    "\n",
    "# box-plot\n",
    "ax2.boxplot(df['mnfture_to_contact_in_days'])\n",
    "ax2.set_title('Box-plot: Manufactured Week to Contact In Days')\n",
    "ax2.set_xlabel('Center')\n",
    "ax2.set_ylabel('Difference')\n",
    "\n",
    "plt.show()"
   ]
  },
  {
   "cell_type": "code",
   "execution_count": 450,
   "metadata": {},
   "outputs": [
    {
     "name": "stdout",
     "output_type": "stream",
     "text": [
      "Manufactured Week to Contact In Days Related Statistical Analysis (box-plot)\n",
      "----------\n",
      "mean 1025.59821\n",
      "median 1099.0 \n",
      "max 6958.0\n",
      "min -1421.0\n",
      "Range 8379.0\n",
      "25th Perc 462.0\n",
      "50th Perc 1099.0\n",
      "75th Perc 1316.0\n",
      "Variance 295769.5940507931\n",
      "Standard Deviation 543.84703184884\n"
     ]
    }
   ],
   "source": [
    "# Manufactured Week to Contact In Days Related Statistical Analysis (box-plot)\n",
    "print('Manufactured Week to Contact In Days Related Statistical Analysis (box-plot)')\n",
    "print('----------')\n",
    "print('mean {}'.format(df['mnfture_to_contact_in_days'].mean()))\n",
    "print('median {} '.format(df['mnfture_to_contact_in_days'].median()))\n",
    "print('max {}'.format(df['mnfture_to_contact_in_days'].max()))\n",
    "print('min {}'.format(df['mnfture_to_contact_in_days'].min()))\n",
    "print('Range {}'.format((df['mnfture_to_contact_in_days'].max())-(df['mnfture_to_contact_in_days'].min())))\n",
    "print('25th Perc {}'.format(df['mnfture_to_contact_in_days'].quantile(0.25)))\n",
    "print('50th Perc {}'.format(df['mnfture_to_contact_in_days'].quantile(0.5)))\n",
    "print('75th Perc {}'.format(df['mnfture_to_contact_in_days'].quantile(0.75)))\n",
    "print('Variance {}'.format(df['mnfture_to_contact_in_days'].var()))\n",
    "print('Standard Deviation {}'.format(df['mnfture_to_contact_in_days'].std()))"
   ]
  },
  {
   "cell_type": "code",
   "execution_count": 451,
   "metadata": {},
   "outputs": [
    {
     "name": "stdout",
     "output_type": "stream",
     "text": [
      "skewness for Manufactured Week to Contact In Days is 1.007186 and the data is right tailed\n"
     ]
    }
   ],
   "source": [
    "print('skewness for Manufactured Week to Contact In Days is {0:2f} and the data is right tailed'.format(df['mnfture_to_contact_in_days'].skew()))"
   ]
  },
  {
   "cell_type": "markdown",
   "metadata": {},
   "source": [
    "<strong>Findings</strong>:\n",
    "* 'df_mnfture_to_contract' table shows top 10 failing parts based on the average numbers of manufacturing week until contact week differences. We need to ignore the negative numbers because it would not make sense if the contact week for a part is before part is manufactured.\n",
    "\n",
    "* 'Histogram: Manufactured Week to Contact In Days' gives some idea for different ranges for manufacture week to contact week. As seen there are some extreme outliers. \n",
    "* 'Box-plot: Manufactured Week to Contact In Days' gives some statistical analysis of quartiles and extreme outliers. \n",
    "* This suggests that, based on this data, the failing parts varies. \n",
    "* 'df_mnfture_to_contract' tables helps us to determine which parts needs to be focused on for the future operations. "
   ]
  },
  {
   "cell_type": "markdown",
   "metadata": {},
   "source": [
    "<strong> CASE 7\n",
    "* We can look into if people are contacting the support right before their warranty expires. </strong>"
   ]
  },
  {
   "cell_type": "code",
   "execution_count": 452,
   "metadata": {},
   "outputs": [
    {
     "name": "stdout",
     "output_type": "stream",
     "text": [
      "36.0% of people who has their contract ending withing a year contacted to the tech support\n"
     ]
    }
   ],
   "source": [
    "# find the difference in days between contact week and contract end time\n",
    "\n",
    "df['contact_for_contract_end']=df.contact_week_datetime - df.contract_end_datetime\n",
    "df['contact_for_contract_end'] = df['contact_for_contract_end'].apply(lambda x: float(x.days))\n",
    "df = df.sort_values('contact_for_contract_end', ascending=True)\n",
    "\n",
    "value =round((len(df.loc[(df['contact_for_contract_end']<=0) & \\\n",
    "                         (df['contact_for_contract_end']>-365) ,:])/len(df))*100,0)\n",
    "print(f\"{value}% of people who has their contract ending withing a year contacted to the tech support\")"
   ]
  },
  {
   "cell_type": "code",
   "execution_count": 453,
   "metadata": {
    "scrolled": false
   },
   "outputs": [
    {
     "data": {
      "image/png": "[encoded data removed]",
      "text/plain": [
       "<Figure size 1008x216 with 2 Axes>"
      ]
     },
     "metadata": {
      "needs_background": "light"
     },
     "output_type": "display_data"
    }
   ],
   "source": [
    "f, (ax1, ax2) = plt.subplots(1,2, figsize=(14,3))\n",
    "\n",
    "# histogram for contacting the tech support before the contract ends\n",
    "# there is a spike for contacting to the tech support right before the contract ends\n",
    "ax1.hist(df.contact_for_contract_end, density=True, bins=20, color='tomato')\n",
    "ax1.set_title('Histogram: Contact for Contract Endings')\n",
    "ax1.set_xlabel('Values in Days')\n",
    "ax1.set_ylabel('Frequency')\n",
    "\n",
    "\n",
    "# box plot suggest that we have outliers \n",
    "# and there are some extreme outlier can be ivestigated further\n",
    "ax2.boxplot(df['contact_for_contract_end'])\n",
    "ax2.set_title('Box-plot: Contact for Contract Endings')\n",
    "ax2.set_xlabel('Center')\n",
    "ax2.set_ylabel('Values in Days')\n",
    "\n",
    "plt.show()"
   ]
  },
  {
   "cell_type": "code",
   "execution_count": 454,
   "metadata": {},
   "outputs": [
    {
     "name": "stdout",
     "output_type": "stream",
     "text": [
      "mean -371.23954\n",
      "median -357.0 \n",
      "max 3157.0\n",
      "min -4109.0\n",
      "Range 7266.0\n",
      "25th Perc -770.0\n",
      "50th Perc -357.0\n",
      "75th Perc -112.0\n",
      "Variance 462088.3991446068\n",
      "Standard Deviation 679.7708431115642\n"
     ]
    }
   ],
   "source": [
    "# Contact for Contract Endings In Days Related Statistical Analysis (box-plot)\n",
    "\n",
    "print('mean {}'.format(df['contact_for_contract_end'].mean()))\n",
    "print('median {} '.format(df['contact_for_contract_end'].median()))\n",
    "print('max {}'.format(df['contact_for_contract_end'].max()))\n",
    "print('min {}'.format(df['contact_for_contract_end'].min()))\n",
    "print('Range {}'.format((df['contact_for_contract_end'].max())-(df['contact_for_contract_end'].min())))\n",
    "print('25th Perc {}'.format(df['contact_for_contract_end'].quantile(0.25)))\n",
    "print('50th Perc {}'.format(df['contact_for_contract_end'].quantile(0.5)))\n",
    "print('75th Perc {}'.format(df['contact_for_contract_end'].quantile(0.75)))\n",
    "print('Variance {}'.format(df['contact_for_contract_end'].var()))\n",
    "print('Standard Deviation {}'.format(df['contact_for_contract_end'].std()))"
   ]
  },
  {
   "cell_type": "code",
   "execution_count": 455,
   "metadata": {},
   "outputs": [
    {
     "name": "stdout",
     "output_type": "stream",
     "text": [
      "skewness for contact for contract ending in days is 0.913443 and the data is right tailed\n"
     ]
    }
   ],
   "source": [
    "print('skewness for contact for contract ending in days is {0:2f} and the data is right tailed'.format(df.contact_for_contract_end.skew()))"
   ]
  },
  {
   "cell_type": "markdown",
   "metadata": {},
   "source": [
    "<strong>Findings</strong>:\n",
    "* 'Histogram: Contact for Contract Endings' and 'Box-plot: Contact for Contract Endings' we can say that this data is well shaped with a spike on the left of 'zero' and with a mean value -371. The data got some extreme min and max values and it is bell shaped closed to the zero. It is suggesting that people are contacting to the tech support when their contract is close to be expired. \n",
    "* Also from the 'Histogram: Contact for Contract Endings' there is a spike on the left side of 'zero' suggesting that more contacts are made before the contracts expire.  \n",
    "* Based on this data and with help of math, 36% of people are contacting the tech support withing a year before their warranty expires."
   ]
  },
  {
   "cell_type": "markdown",
   "metadata": {},
   "source": [
    "<strong> CASE 8\n",
    "* We can look into the correlation between topic_category and repeat_ct to see if some problem types especially lead to additional visits.\n"
   ]
  },
  {
   "cell_type": "code",
   "execution_count": 456,
   "metadata": {
    "scrolled": true
   },
   "outputs": [
    {
     "data": {
      "text/html": [
       "<div>\n",
       "<style scoped>\n",
       "    .dataframe tbody tr th:only-of-type {\n",
       "        vertical-align: middle;\n",
       "    }\n",
       "\n",
       "    .dataframe tbody tr th {\n",
       "        vertical-align: top;\n",
       "    }\n",
       "\n",
       "    .dataframe thead th {\n",
       "        text-align: right;\n",
       "    }\n",
       "</style>\n",
       "<table border=\"1\" class=\"dataframe\">\n",
       "  <thead>\n",
       "    <tr style=\"text-align: right;\">\n",
       "      <th>repeat_ct</th>\n",
       "      <th>0</th>\n",
       "      <th>1</th>\n",
       "      <th>2</th>\n",
       "      <th>3</th>\n",
       "    </tr>\n",
       "    <tr>\n",
       "      <th>topic_category</th>\n",
       "      <th></th>\n",
       "      <th></th>\n",
       "      <th></th>\n",
       "      <th></th>\n",
       "    </tr>\n",
       "  </thead>\n",
       "  <tbody>\n",
       "    <tr>\n",
       "      <th>Unknown</th>\n",
       "      <td>30528.0</td>\n",
       "      <td>2555.0</td>\n",
       "      <td>1.0</td>\n",
       "      <td>NaN</td>\n",
       "    </tr>\n",
       "    <tr>\n",
       "      <th>Booting</th>\n",
       "      <td>13517.0</td>\n",
       "      <td>1825.0</td>\n",
       "      <td>1.0</td>\n",
       "      <td>NaN</td>\n",
       "    </tr>\n",
       "    <tr>\n",
       "      <th>LCD/Monitor</th>\n",
       "      <td>4902.0</td>\n",
       "      <td>549.0</td>\n",
       "      <td>NaN</td>\n",
       "      <td>1.0</td>\n",
       "    </tr>\n",
       "    <tr>\n",
       "      <th>Call Logs</th>\n",
       "      <td>4551.0</td>\n",
       "      <td>280.0</td>\n",
       "      <td>4.0</td>\n",
       "      <td>2.0</td>\n",
       "    </tr>\n",
       "    <tr>\n",
       "      <th>Hard Drive</th>\n",
       "      <td>3324.0</td>\n",
       "      <td>210.0</td>\n",
       "      <td>NaN</td>\n",
       "      <td>NaN</td>\n",
       "    </tr>\n",
       "  </tbody>\n",
       "</table>\n",
       "</div>"
      ],
      "text/plain": [
       "repeat_ct             0       1    2    3\n",
       "topic_category                           \n",
       "Unknown         30528.0  2555.0  1.0  NaN\n",
       "Booting         13517.0  1825.0  1.0  NaN\n",
       "LCD/Monitor      4902.0   549.0  NaN  1.0\n",
       "Call Logs        4551.0   280.0  4.0  2.0\n",
       "Hard Drive       3324.0   210.0  NaN  NaN"
      ]
     },
     "execution_count": 456,
     "metadata": {},
     "output_type": "execute_result"
    }
   ],
   "source": [
    "df_topic_cat_repeat = df.groupby(['topic_category','repeat_ct']).repeat_ct.count().sort_values(0, ascending=True).unstack()\n",
    "df_topic_cat_repeat=df_topic_cat_repeat.sort_values(1,ascending=False).groupby('topic_category').head()\n",
    "df_topic_cat_repeat.head()"
   ]
  },
  {
   "cell_type": "markdown",
   "metadata": {},
   "source": [
    "<strong> Findings </strong>\n",
    "* 'df_topic_cat_repeat' table suggests that booting, LCD/Monitor, Call Logs, Hard Drive are the top 4 (ignoring Unknown) for repeat_ct = 1 for additional visits to fix the problems. \n",
    "* As a suggestion, these topics could be most to be focused for the future operations. "
   ]
  },
  {
   "cell_type": "code",
   "execution_count": null,
   "metadata": {},
   "outputs": [],
   "source": []
  }
 ],
 "metadata": {
  "kernelspec": {
   "display_name": "Python 3",
   "language": "python",
   "name": "python3"
  },
  "language_info": {
   "codemirror_mode": {
    "name": "ipython",
    "version": 3
   },
   "file_extension": ".py",
   "mimetype": "text/x-python",
   "name": "python",
   "nbconvert_exporter": "python",
   "pygments_lexer": "ipython3",
   "version": "3.7.1"
  }
 },
 "nbformat": 4,
 "nbformat_minor": 2
}
