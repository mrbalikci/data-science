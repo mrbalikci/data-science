{
 "cells": [
  {
   "cell_type": "code",
   "execution_count": 217,
   "metadata": {},
   "outputs": [
    {
     "data": {
      "text/html": [
       "        <script type=\"text/javascript\">\n",
       "        window.PlotlyConfig = {MathJaxConfig: 'local'};\n",
       "        if (window.MathJax) {MathJax.Hub.Config({SVG: {font: \"STIX-Web\"}});}\n",
       "        if (typeof require !== 'undefined') {\n",
       "        require.undef(\"plotly\");\n",
       "        requirejs.config({\n",
       "            paths: {\n",
       "                'plotly': ['https://cdn.plot.ly/plotly-latest.min']\n",
       "            }\n",
       "        });\n",
       "        require(['plotly'], function(Plotly) {\n",
       "            window._Plotly = Plotly;\n",
       "        });\n",
       "        }\n",
       "        </script>\n",
       "        "
      ]
     },
     "metadata": {},
     "output_type": "display_data"
    }
   ],
   "source": [
    "# Imports \n",
    "import pandas as pd\n",
    "import numpy as np\n",
    "import os\n",
    "\n",
    "import plotly\n",
    "import plotly.plotly as py\n",
    "from plotly.offline import init_notebook_mode\n",
    "import plotly.graph_objs as go\n",
    "plotly.offline.init_notebook_mode(connected=True)\n",
    "\n",
    "plotly.tools.set_credentials_file(username='mrbalikci', api_key='UOYflXmBJelkNxcCHA0y')\n",
    "\n",
    "%matplotlib inline"
   ]
  },
  {
   "cell_type": "code",
   "execution_count": 218,
   "metadata": {
    "scrolled": true
   },
   "outputs": [],
   "source": [
    "# read the data with all default parameters \n",
    "df = pd.read_csv('data_set.csv', index_col='asst_id', encoding='utf-8', low_memory=False)"
   ]
  },
  {
   "cell_type": "code",
   "execution_count": 219,
   "metadata": {
    "scrolled": true
   },
   "outputs": [
    {
     "name": "stdout",
     "output_type": "stream",
     "text": [
      "<class 'pandas.core.frame.DataFrame'>\n",
      "Int64Index: 100000 entries, 0 to 16664\n",
      "Data columns (total 18 columns):\n",
      "product_type           99980 non-null object\n",
      "mnfture_wk             100000 non-null int64\n",
      "contract_st            100000 non-null int64\n",
      "contract_end           100000 non-null int64\n",
      "contact_wk             100000 non-null int64\n",
      "contact_type           99986 non-null object\n",
      "issue_type             85958 non-null object\n",
      "topic_category         66916 non-null object\n",
      "parts_sent             54566 non-null object\n",
      "repair_type            100000 non-null object\n",
      "repeat_ct              100000 non-null int64\n",
      "parts_ct               100000 non-null int64\n",
      "agent_tenure_indays    99986 non-null float64\n",
      "contact_manager_flg    100000 non-null int64\n",
      "diagnostics            100000 non-null object\n",
      "repeat_parts_sent      13346 non-null object\n",
      "region                 99997 non-null object\n",
      "country                89998 non-null object\n",
      "dtypes: float64(1), int64(7), object(10)\n",
      "memory usage: 14.5+ MB\n"
     ]
    }
   ],
   "source": [
    "df.info()"
   ]
  },
  {
   "cell_type": "code",
   "execution_count": 220,
   "metadata": {},
   "outputs": [],
   "source": [
    "# take care of missing values for numerical columns \n",
    "# replace NaNs with '-888'\n",
    "df['agent_tenure_indays']=df['agent_tenure_indays'].fillna('-888')"
   ]
  },
  {
   "cell_type": "code",
   "execution_count": 221,
   "metadata": {},
   "outputs": [],
   "source": [
    "# replace NaNs with 'Unknown' for object type columns\n",
    "df = df.fillna('Unknown')\n",
    "\n",
    "# VOICE and Voice can be combined as 'Voice'\n",
    "df['contact_type']=df['contact_type'].str.replace('VOICE','Voice')"
   ]
  },
  {
   "cell_type": "markdown",
   "metadata": {},
   "source": [
    "### Time Related Columns to DateTime format"
   ]
  },
  {
   "cell_type": "code",
   "execution_count": 222,
   "metadata": {},
   "outputs": [],
   "source": [
    "# change type to string\n",
    "df['mnfture_wk']=df['mnfture_wk'].astype(str)\n",
    "df['contract_st']=df['contract_st'].astype(str)\n",
    "df['contract_end']=df['contract_end'].astype(str)\n",
    "df['contact_wk']=df['contact_wk'].astype(str)\n",
    "\n",
    "# taking care of mnfture\n",
    "df['mnfture_year'] = df['mnfture_wk'].str[0:4]\n",
    "df['mnfture_week'] = df['mnfture_wk'].str[4:6]\n",
    "df[\"mnfture_datetime\"] = pd.to_datetime(df.mnfture_week.astype(str)+\n",
    "                          df.mnfture_year.astype(str).add('-0') ,format='%W%Y-%w')\n",
    "\n",
    "# taking care of contact year\n",
    "df['contact_year'] = df['contact_wk'].str[0:4]\n",
    "df['contact_week'] = df['contact_wk'].str[4:6]\n",
    "df[\"contact_week_datetime\"] = pd.to_datetime(df.contact_week.astype(str)+\n",
    "                          df.contact_year.astype(str).add('-0') ,format='%W%Y-%w')\n",
    "\n",
    "# taking care of contract end year\n",
    "df['contract_year'] = df['contract_end'].str[0:4]\n",
    "df['contract_week'] = df['contract_end'].str[4:6]\n",
    "df[\"contract_end_datetime\"] = pd.to_datetime(df.contract_week.astype(str)+\n",
    "                          df.contract_year.astype(str).add('-0') ,format='%W%Y-%w')"
   ]
  },
  {
   "cell_type": "markdown",
   "metadata": {},
   "source": [
    "# Data Insights"
   ]
  },
  {
   "cell_type": "markdown",
   "metadata": {},
   "source": [
    "1. Exploring Total number of cases over time (Mnfcture_wk) to see if there is a particular spike at any point in time. This could point to some issues in the manufacturing process/batch related to the weeks and help identify the root causes.\n",
    "\n",
    "The analysis above could be done in more granular levels, say per product type, issue type etc, topic category etc."
   ]
  },
  {
   "cell_type": "markdown",
   "metadata": {},
   "source": [
    "### Number of Cases Over Time: Each Machine Sold"
   ]
  },
  {
   "cell_type": "code",
   "execution_count": 223,
   "metadata": {},
   "outputs": [
    {
     "data": {
      "text/html": [
       "<div>\n",
       "<style scoped>\n",
       "    .dataframe tbody tr th:only-of-type {\n",
       "        vertical-align: middle;\n",
       "    }\n",
       "\n",
       "    .dataframe tbody tr th {\n",
       "        vertical-align: top;\n",
       "    }\n",
       "\n",
       "    .dataframe thead th {\n",
       "        text-align: right;\n",
       "    }\n",
       "</style>\n",
       "<table border=\"1\" class=\"dataframe\">\n",
       "  <thead>\n",
       "    <tr style=\"text-align: right;\">\n",
       "      <th></th>\n",
       "      <th>asst_id</th>\n",
       "    </tr>\n",
       "  </thead>\n",
       "  <tbody>\n",
       "    <tr>\n",
       "      <th>72568</th>\n",
       "      <td>46</td>\n",
       "    </tr>\n",
       "    <tr>\n",
       "      <th>5183</th>\n",
       "      <td>18</td>\n",
       "    </tr>\n",
       "    <tr>\n",
       "      <th>7715</th>\n",
       "      <td>14</td>\n",
       "    </tr>\n",
       "    <tr>\n",
       "      <th>18338</th>\n",
       "      <td>7</td>\n",
       "    </tr>\n",
       "    <tr>\n",
       "      <th>11152</th>\n",
       "      <td>6</td>\n",
       "    </tr>\n",
       "  </tbody>\n",
       "</table>\n",
       "</div>"
      ],
      "text/plain": [
       "       asst_id\n",
       "72568       46\n",
       "5183        18\n",
       "7715        14\n",
       "18338        7\n",
       "11152        6"
      ]
     },
     "execution_count": 223,
     "metadata": {},
     "output_type": "execute_result"
    }
   ],
   "source": [
    "# get the total case of each machine sold\n",
    "df_asst_id = df.reset_index()\n",
    "df_asst_id = pd.DataFrame(df_asst_id.asst_id.value_counts())\n",
    "df_asst_id.head()"
   ]
  },
  {
   "cell_type": "markdown",
   "metadata": {},
   "source": [
    "<strong>Conclusion</strong>: It seems one machine sold 46 times so further analysis on this particular case will not be needed."
   ]
  },
  {
   "cell_type": "markdown",
   "metadata": {},
   "source": [
    "### Number of Cases Over Time: Manufactured"
   ]
  },
  {
   "cell_type": "code",
   "execution_count": 224,
   "metadata": {
    "scrolled": true
   },
   "outputs": [
    {
     "data": {
      "text/html": [
       "<div>\n",
       "<style scoped>\n",
       "    .dataframe tbody tr th:only-of-type {\n",
       "        vertical-align: middle;\n",
       "    }\n",
       "\n",
       "    .dataframe tbody tr th {\n",
       "        vertical-align: top;\n",
       "    }\n",
       "\n",
       "    .dataframe thead th {\n",
       "        text-align: right;\n",
       "    }\n",
       "</style>\n",
       "<table border=\"1\" class=\"dataframe\">\n",
       "  <thead>\n",
       "    <tr style=\"text-align: right;\">\n",
       "      <th></th>\n",
       "      <th>mnfture_datetime</th>\n",
       "      <th>count</th>\n",
       "      <th>percent</th>\n",
       "    </tr>\n",
       "  </thead>\n",
       "  <tbody>\n",
       "    <tr>\n",
       "      <th>0</th>\n",
       "      <td>2018-09-30</td>\n",
       "      <td>1340</td>\n",
       "      <td>1.340</td>\n",
       "    </tr>\n",
       "    <tr>\n",
       "      <th>1</th>\n",
       "      <td>2018-07-01</td>\n",
       "      <td>1312</td>\n",
       "      <td>1.312</td>\n",
       "    </tr>\n",
       "    <tr>\n",
       "      <th>2</th>\n",
       "      <td>2018-06-24</td>\n",
       "      <td>1072</td>\n",
       "      <td>1.072</td>\n",
       "    </tr>\n",
       "    <tr>\n",
       "      <th>3</th>\n",
       "      <td>2018-01-07</td>\n",
       "      <td>1053</td>\n",
       "      <td>1.053</td>\n",
       "    </tr>\n",
       "    <tr>\n",
       "      <th>4</th>\n",
       "      <td>2018-04-01</td>\n",
       "      <td>938</td>\n",
       "      <td>0.938</td>\n",
       "    </tr>\n",
       "  </tbody>\n",
       "</table>\n",
       "</div>"
      ],
      "text/plain": [
       "  mnfture_datetime  count  percent\n",
       "0       2018-09-30   1340    1.340\n",
       "1       2018-07-01   1312    1.312\n",
       "2       2018-06-24   1072    1.072\n",
       "3       2018-01-07   1053    1.053\n",
       "4       2018-04-01    938    0.938"
      ]
     },
     "execution_count": 224,
     "metadata": {},
     "output_type": "execute_result"
    }
   ],
   "source": [
    "# Manufactured week count\n",
    "df_count_mnfture_wk = pd.DataFrame(df.mnfture_datetime.value_counts())\n",
    "df_count_mnfture_wk = df_count_mnfture_wk.rename(columns={'mnfture_datetime':'count'}).reset_index()\n",
    "df_count_mnfture_wk = df_count_mnfture_wk.rename(columns={'index':'mnfture_datetime'})\n",
    "df_count_mnfture_wk['percent']= round((df_count_mnfture_wk['count']/df_count_mnfture_wk['count'].sum())*100,4)\n",
    "df_count_mnfture_wk.head()"
   ]
  },
  {
   "cell_type": "code",
   "execution_count": 167,
   "metadata": {
    "scrolled": true
   },
   "outputs": [
    {
     "name": "stderr",
     "output_type": "stream",
     "text": [
      "C:\\Users\\mrbal\\Anaconda3\\lib\\site-packages\\IPython\\core\\display.py:689: UserWarning:\n",
      "\n",
      "Consider using IPython.display.IFrame instead\n",
      "\n"
     ]
    },
    {
     "data": {
      "text/html": [
       "<iframe id=\"igraph\" scrolling=\"no\" style=\"border:none;\" seamless=\"seamless\" src=\"https://plot.ly/~mrbalikci/182.embed\" height=\"525px\" width=\"100%\"></iframe>"
      ],
      "text/plain": [
       "<chart_studio.tools.PlotlyDisplay object>"
      ]
     },
     "execution_count": 167,
     "metadata": {},
     "output_type": "execute_result"
    }
   ],
   "source": [
    "# Bar-Chart for Manufactured vs Cases Over Time\n",
    "\n",
    "x=df_count_mnfture_wk['mnfture_datetime']\n",
    "y=df_count_mnfture_wk['count'] \n",
    "\n",
    "data = [\n",
    "    go.Bar(\n",
    "        x=x, # assign x as the dataframe column 'x'\n",
    "        y=y\n",
    "    )\n",
    "]\n",
    "\n",
    "layout = go.Layout(\n",
    "    barmode='stack',\n",
    "    title='Manufactured vs Cases Over Time'\n",
    ")\n",
    "\n",
    "fig = go.Figure(data=data, layout=layout)\n",
    "\n",
    "py.iplot(fig)"
   ]
  },
  {
   "cell_type": "markdown",
   "metadata": {},
   "source": [
    "<strong>Conclusion</strong>:\n",
    "* As seen from the bar-chart there is positive correlation of cases all the way up to 2018 if 2019 cases are ignored. \n",
    "\n",
    "* There is a spike in 2018 in terms of number of cases rising. Perhaps, this could point to some of the issues in the manufacturing process/batch related to the weeks and help identify the root causes."
   ]
  },
  {
   "cell_type": "markdown",
   "metadata": {},
   "source": [
    "### Number of Cases Over Time: Product Type\n",
    "\n"
   ]
  },
  {
   "cell_type": "code",
   "execution_count": 225,
   "metadata": {
    "scrolled": false
   },
   "outputs": [
    {
     "data": {
      "text/html": [
       "<div>\n",
       "<style scoped>\n",
       "    .dataframe tbody tr th:only-of-type {\n",
       "        vertical-align: middle;\n",
       "    }\n",
       "\n",
       "    .dataframe tbody tr th {\n",
       "        vertical-align: top;\n",
       "    }\n",
       "\n",
       "    .dataframe thead th {\n",
       "        text-align: right;\n",
       "    }\n",
       "</style>\n",
       "<table border=\"1\" class=\"dataframe\">\n",
       "  <thead>\n",
       "    <tr style=\"text-align: right;\">\n",
       "      <th></th>\n",
       "      <th>product_type</th>\n",
       "      <th>count</th>\n",
       "    </tr>\n",
       "  </thead>\n",
       "  <tbody>\n",
       "    <tr>\n",
       "      <th>0</th>\n",
       "      <td>Laptops</td>\n",
       "      <td>0.73052</td>\n",
       "    </tr>\n",
       "    <tr>\n",
       "      <th>1</th>\n",
       "      <td>Desktops</td>\n",
       "      <td>0.23601</td>\n",
       "    </tr>\n",
       "    <tr>\n",
       "      <th>2</th>\n",
       "      <td>Other Electronics</td>\n",
       "      <td>0.03327</td>\n",
       "    </tr>\n",
       "    <tr>\n",
       "      <th>3</th>\n",
       "      <td>Unknown</td>\n",
       "      <td>0.00020</td>\n",
       "    </tr>\n",
       "  </tbody>\n",
       "</table>\n",
       "</div>"
      ],
      "text/plain": [
       "        product_type    count\n",
       "0            Laptops  0.73052\n",
       "1           Desktops  0.23601\n",
       "2  Other Electronics  0.03327\n",
       "3            Unknown  0.00020"
      ]
     },
     "execution_count": 225,
     "metadata": {},
     "output_type": "execute_result"
    }
   ],
   "source": [
    "# grab data for product type and number of cases over time\n",
    "df_count_product_type = pd.DataFrame(df.product_type.value_counts(normalize=True)).reset_index()\n",
    "df_count_product_type = df_count_product_type.rename(columns={'product_type':'count'})\n",
    "df_count_product_type = df_count_product_type.rename(columns={'index':'product_type'})\n",
    "df_count_product_type.head()"
   ]
  },
  {
   "cell_type": "code",
   "execution_count": 169,
   "metadata": {},
   "outputs": [
    {
     "data": {
      "text/html": [
       "<iframe id=\"igraph\" scrolling=\"no\" style=\"border:none;\" seamless=\"seamless\" src=\"https://plot.ly/~mrbalikci/184.embed\" height=\"525px\" width=\"100%\"></iframe>"
      ],
      "text/plain": [
       "<chart_studio.tools.PlotlyDisplay object>"
      ]
     },
     "execution_count": 169,
     "metadata": {},
     "output_type": "execute_result"
    }
   ],
   "source": [
    "# use plotly to plot these findings\n",
    "x=df_count_product_type['product_type']\n",
    "y=df_count_product_type['count'] \n",
    "\n",
    "data = [\n",
    "    go.Bar(\n",
    "        x=x,\n",
    "        y=y\n",
    "    )\n",
    "]\n",
    "\n",
    "layout = go.Layout(\n",
    "    barmode='stack',\n",
    "    title='Product Type vs Cases Over Time'\n",
    ")\n",
    "fig = go.Figure(data=data, layout=layout)\n",
    "\n",
    "py.iplot(fig)"
   ]
  },
  {
   "cell_type": "markdown",
   "metadata": {},
   "source": [
    "<strong>Conclusion</strong>: \n",
    "* As seen above laptops seem giving more issues compared with other product types.\n",
    "* Almost 73% of cases are over laptops as seen from the cart. "
   ]
  },
  {
   "cell_type": "markdown",
   "metadata": {},
   "source": [
    "### Number of Cases Over Time: Repair Type"
   ]
  },
  {
   "cell_type": "code",
   "execution_count": 226,
   "metadata": {
    "scrolled": false
   },
   "outputs": [
    {
     "data": {
      "text/html": [
       "<div>\n",
       "<style scoped>\n",
       "    .dataframe tbody tr th:only-of-type {\n",
       "        vertical-align: middle;\n",
       "    }\n",
       "\n",
       "    .dataframe tbody tr th {\n",
       "        vertical-align: top;\n",
       "    }\n",
       "\n",
       "    .dataframe thead th {\n",
       "        text-align: right;\n",
       "    }\n",
       "</style>\n",
       "<table border=\"1\" class=\"dataframe\">\n",
       "  <thead>\n",
       "    <tr style=\"text-align: right;\">\n",
       "      <th></th>\n",
       "      <th>repair_type</th>\n",
       "      <th>count</th>\n",
       "    </tr>\n",
       "  </thead>\n",
       "  <tbody>\n",
       "    <tr>\n",
       "      <th>0</th>\n",
       "      <td>Hard</td>\n",
       "      <td>0.59495</td>\n",
       "    </tr>\n",
       "    <tr>\n",
       "      <th>1</th>\n",
       "      <td>Soft</td>\n",
       "      <td>0.40505</td>\n",
       "    </tr>\n",
       "  </tbody>\n",
       "</table>\n",
       "</div>"
      ],
      "text/plain": [
       "  repair_type    count\n",
       "0        Hard  0.59495\n",
       "1        Soft  0.40505"
      ]
     },
     "execution_count": 226,
     "metadata": {},
     "output_type": "execute_result"
    }
   ],
   "source": [
    "\n",
    "df_count_repair_type = pd.DataFrame(df.repair_type.value_counts(normalize=True)).reset_index()\n",
    "df_count_repair_type = df_count_repair_type.rename(columns={'repair_type':'count'})\n",
    "df_count_repair_type = df_count_repair_type.rename(columns={'index':'repair_type'})\n",
    "df_count_repair_type.head()"
   ]
  },
  {
   "cell_type": "code",
   "execution_count": 85,
   "metadata": {
    "scrolled": true
   },
   "outputs": [
    {
     "data": {
      "text/html": [
       "<iframe id=\"igraph\" scrolling=\"no\" style=\"border:none;\" seamless=\"seamless\" src=\"https://plot.ly/~mrbalikci/172.embed\" height=\"525px\" width=\"100%\"></iframe>"
      ],
      "text/plain": [
       "<chart_studio.tools.PlotlyDisplay object>"
      ]
     },
     "execution_count": 85,
     "metadata": {},
     "output_type": "execute_result"
    }
   ],
   "source": [
    "x=df_count_repair_type['repair_type']\n",
    "y=df_count_repair_type['count'] \n",
    "\n",
    "data = [\n",
    "    go.Bar(\n",
    "        x=x, # assign x as the dataframe column 'x'\n",
    "        y=y\n",
    "    )\n",
    "]\n",
    "\n",
    "layout = go.Layout(\n",
    "    barmode='stack',\n",
    "    title='Repair Type vs Cases Over Time'\n",
    ")\n",
    "fig = go.Figure(data=data, layout=layout)\n",
    "\n",
    "py.iplot(fig)"
   ]
  },
  {
   "cell_type": "markdown",
   "metadata": {},
   "source": [
    "<strong>Conclusion</strong>:\n",
    "* Approximately 59% of issues are related to hard-ware problems."
   ]
  },
  {
   "cell_type": "markdown",
   "metadata": {},
   "source": [
    "### Number of Cases Over Time: Parts Sent"
   ]
  },
  {
   "cell_type": "code",
   "execution_count": 227,
   "metadata": {
    "scrolled": false
   },
   "outputs": [
    {
     "data": {
      "text/html": [
       "<div>\n",
       "<style scoped>\n",
       "    .dataframe tbody tr th:only-of-type {\n",
       "        vertical-align: middle;\n",
       "    }\n",
       "\n",
       "    .dataframe tbody tr th {\n",
       "        vertical-align: top;\n",
       "    }\n",
       "\n",
       "    .dataframe thead th {\n",
       "        text-align: right;\n",
       "    }\n",
       "</style>\n",
       "<table border=\"1\" class=\"dataframe\">\n",
       "  <thead>\n",
       "    <tr style=\"text-align: right;\">\n",
       "      <th></th>\n",
       "      <th>parts_sent</th>\n",
       "      <th>percent</th>\n",
       "    </tr>\n",
       "  </thead>\n",
       "  <tbody>\n",
       "    <tr>\n",
       "      <th>0</th>\n",
       "      <td>Unknown</td>\n",
       "      <td>0.45434</td>\n",
       "    </tr>\n",
       "    <tr>\n",
       "      <th>1</th>\n",
       "      <td>Hard Drive</td>\n",
       "      <td>0.04504</td>\n",
       "    </tr>\n",
       "    <tr>\n",
       "      <th>2</th>\n",
       "      <td>Motherboard, Documentation</td>\n",
       "      <td>0.04405</td>\n",
       "    </tr>\n",
       "    <tr>\n",
       "      <th>3</th>\n",
       "      <td>LCD Panel</td>\n",
       "      <td>0.03022</td>\n",
       "    </tr>\n",
       "    <tr>\n",
       "      <th>4</th>\n",
       "      <td>Keyboard</td>\n",
       "      <td>0.02981</td>\n",
       "    </tr>\n",
       "  </tbody>\n",
       "</table>\n",
       "</div>"
      ],
      "text/plain": [
       "                   parts_sent  percent\n",
       "0                     Unknown  0.45434\n",
       "1                  Hard Drive  0.04504\n",
       "2  Motherboard, Documentation  0.04405\n",
       "3                   LCD Panel  0.03022\n",
       "4                    Keyboard  0.02981"
      ]
     },
     "execution_count": 227,
     "metadata": {},
     "output_type": "execute_result"
    }
   ],
   "source": [
    "# filtering data \n",
    "df_count_parts_sent = pd.DataFrame(df.parts_sent.value_counts(normalize=True)).reset_index()\n",
    "df_count_parts_sent = df_count_parts_sent.rename(columns={'parts_sent':'percent'})\n",
    "df_count_parts_sent = df_count_parts_sent.loc[df_count_parts_sent['percent'] >0.003,:]\n",
    "df_count_parts_sent = df_count_parts_sent.rename(columns={'index':'parts_sent'})\n",
    "# df_count_parts_sent = df_count_parts_sent.iloc[1:] # 45% 'unknown' is dropped\n",
    "df_count_parts_sent.head()"
   ]
  },
  {
   "cell_type": "code",
   "execution_count": 86,
   "metadata": {
    "scrolled": true
   },
   "outputs": [
    {
     "data": {
      "text/html": [
       "<iframe id=\"igraph\" scrolling=\"no\" style=\"border:none;\" seamless=\"seamless\" src=\"https://plot.ly/~mrbalikci/174.embed\" height=\"525px\" width=\"100%\"></iframe>"
      ],
      "text/plain": [
       "<chart_studio.tools.PlotlyDisplay object>"
      ]
     },
     "execution_count": 86,
     "metadata": {},
     "output_type": "execute_result"
    }
   ],
   "source": [
    "# plot the data\n",
    "\n",
    "x=df_count_parts_sent['parts_sent']\n",
    "y=df_count_parts_sent['percent'] \n",
    "\n",
    "data = [\n",
    "    go.Bar(\n",
    "        x=x, # assign x as the dataframe column 'x'\n",
    "        y=y\n",
    "    )\n",
    "]\n",
    "\n",
    "layout = go.Layout(\n",
    "    barmode='stack',\n",
    "    title='Parts Sent vs Cases Over Time'\n",
    ")\n",
    "fig = go.Figure(data=data, layout=layout)\n",
    "\n",
    "py.iplot(fig)"
   ]
  },
  {
   "cell_type": "markdown",
   "metadata": {},
   "source": [
    "<strong>Conclusion</strong>:\n",
    "* Hard Drive, Motherboard, LCD Panel are top 3 items sent more and more compared to the other parts over time\n",
    "* About 45% of the parts sent over time is 'unknown'."
   ]
  },
  {
   "cell_type": "markdown",
   "metadata": {},
   "source": [
    "### Number of Cases Over Time: Contact Type"
   ]
  },
  {
   "cell_type": "code",
   "execution_count": 228,
   "metadata": {
    "scrolled": false
   },
   "outputs": [
    {
     "data": {
      "text/html": [
       "<div>\n",
       "<style scoped>\n",
       "    .dataframe tbody tr th:only-of-type {\n",
       "        vertical-align: middle;\n",
       "    }\n",
       "\n",
       "    .dataframe tbody tr th {\n",
       "        vertical-align: top;\n",
       "    }\n",
       "\n",
       "    .dataframe thead th {\n",
       "        text-align: right;\n",
       "    }\n",
       "</style>\n",
       "<table border=\"1\" class=\"dataframe\">\n",
       "  <thead>\n",
       "    <tr style=\"text-align: right;\">\n",
       "      <th></th>\n",
       "      <th>contact_type</th>\n",
       "      <th>percent</th>\n",
       "    </tr>\n",
       "  </thead>\n",
       "  <tbody>\n",
       "    <tr>\n",
       "      <th>0</th>\n",
       "      <td>Voice</td>\n",
       "      <td>0.84162</td>\n",
       "    </tr>\n",
       "    <tr>\n",
       "      <th>1</th>\n",
       "      <td>CHAT</td>\n",
       "      <td>0.14425</td>\n",
       "    </tr>\n",
       "    <tr>\n",
       "      <th>2</th>\n",
       "      <td>EMAIL</td>\n",
       "      <td>0.01281</td>\n",
       "    </tr>\n",
       "    <tr>\n",
       "      <th>3</th>\n",
       "      <td>Unknown</td>\n",
       "      <td>0.00132</td>\n",
       "    </tr>\n",
       "  </tbody>\n",
       "</table>\n",
       "</div>"
      ],
      "text/plain": [
       "  contact_type  percent\n",
       "0        Voice  0.84162\n",
       "1         CHAT  0.14425\n",
       "2        EMAIL  0.01281\n",
       "3      Unknown  0.00132"
      ]
     },
     "execution_count": 228,
     "metadata": {},
     "output_type": "execute_result"
    }
   ],
   "source": [
    "# data for contact type\n",
    "\n",
    "df_count_contact_type = pd.DataFrame(df.contact_type.value_counts(normalize=True)).reset_index()\n",
    "df_count_contact_type = df_count_contact_type.rename(columns={'contact_type':'percent'})\n",
    "df_count_contact_type = df_count_contact_type.rename(columns={'index':'contact_type'})\n",
    "df_count_contact_type"
   ]
  },
  {
   "cell_type": "code",
   "execution_count": 87,
   "metadata": {
    "scrolled": true
   },
   "outputs": [
    {
     "data": {
      "text/html": [
       "<iframe id=\"igraph\" scrolling=\"no\" style=\"border:none;\" seamless=\"seamless\" src=\"https://plot.ly/~mrbalikci/176.embed\" height=\"525px\" width=\"100%\"></iframe>"
      ],
      "text/plain": [
       "<chart_studio.tools.PlotlyDisplay object>"
      ]
     },
     "execution_count": 87,
     "metadata": {},
     "output_type": "execute_result"
    }
   ],
   "source": [
    "# plot the data \n",
    "\n",
    "x=df_count_contact_type['contact_type']\n",
    "y=df_count_contact_type['percent']\n",
    "\n",
    "data = [\n",
    "    go.Bar(\n",
    "        x=x,\n",
    "        y=y\n",
    "    )\n",
    "]\n",
    "\n",
    "layout = go.Layout(\n",
    "    barmode='stack',\n",
    "    title='Contact Type vs Cases Over Time'\n",
    ")\n",
    "fig = go.Figure(data=data, layout=layout)\n",
    "\n",
    "py.iplot(fig)"
   ]
  },
  {
   "cell_type": "markdown",
   "metadata": {},
   "source": [
    "<strong>Conclusion</strong>:\n",
    "* Voice is preferred as the main source of contact for the issues reporting with 84% rate. "
   ]
  },
  {
   "cell_type": "markdown",
   "metadata": {},
   "source": [
    "### Number of Cases Over Time: Topic Category"
   ]
  },
  {
   "cell_type": "code",
   "execution_count": 229,
   "metadata": {
    "scrolled": true
   },
   "outputs": [
    {
     "data": {
      "text/html": [
       "<div>\n",
       "<style scoped>\n",
       "    .dataframe tbody tr th:only-of-type {\n",
       "        vertical-align: middle;\n",
       "    }\n",
       "\n",
       "    .dataframe tbody tr th {\n",
       "        vertical-align: top;\n",
       "    }\n",
       "\n",
       "    .dataframe thead th {\n",
       "        text-align: right;\n",
       "    }\n",
       "</style>\n",
       "<table border=\"1\" class=\"dataframe\">\n",
       "  <thead>\n",
       "    <tr style=\"text-align: right;\">\n",
       "      <th></th>\n",
       "      <th>topic_category</th>\n",
       "      <th>percent</th>\n",
       "    </tr>\n",
       "  </thead>\n",
       "  <tbody>\n",
       "    <tr>\n",
       "      <th>0</th>\n",
       "      <td>Unknown</td>\n",
       "      <td>0.33084</td>\n",
       "    </tr>\n",
       "    <tr>\n",
       "      <th>1</th>\n",
       "      <td>Booting</td>\n",
       "      <td>0.15343</td>\n",
       "    </tr>\n",
       "    <tr>\n",
       "      <th>2</th>\n",
       "      <td>LCD/Monitor</td>\n",
       "      <td>0.05452</td>\n",
       "    </tr>\n",
       "    <tr>\n",
       "      <th>3</th>\n",
       "      <td>Call Logs</td>\n",
       "      <td>0.04837</td>\n",
       "    </tr>\n",
       "    <tr>\n",
       "      <th>4</th>\n",
       "      <td>General Queries</td>\n",
       "      <td>0.04141</td>\n",
       "    </tr>\n",
       "    <tr>\n",
       "      <th>5</th>\n",
       "      <td>Hard Drive</td>\n",
       "      <td>0.03534</td>\n",
       "    </tr>\n",
       "    <tr>\n",
       "      <th>6</th>\n",
       "      <td>System Performance</td>\n",
       "      <td>0.03459</td>\n",
       "    </tr>\n",
       "    <tr>\n",
       "      <th>7</th>\n",
       "      <td>Internet/Wireless</td>\n",
       "      <td>0.03093</td>\n",
       "    </tr>\n",
       "    <tr>\n",
       "      <th>8</th>\n",
       "      <td>Keyboard</td>\n",
       "      <td>0.02666</td>\n",
       "    </tr>\n",
       "    <tr>\n",
       "      <th>9</th>\n",
       "      <td>Battery</td>\n",
       "      <td>0.02478</td>\n",
       "    </tr>\n",
       "  </tbody>\n",
       "</table>\n",
       "</div>"
      ],
      "text/plain": [
       "       topic_category  percent\n",
       "0             Unknown  0.33084\n",
       "1             Booting  0.15343\n",
       "2         LCD/Monitor  0.05452\n",
       "3           Call Logs  0.04837\n",
       "4     General Queries  0.04141\n",
       "5          Hard Drive  0.03534\n",
       "6  System Performance  0.03459\n",
       "7   Internet/Wireless  0.03093\n",
       "8            Keyboard  0.02666\n",
       "9             Battery  0.02478"
      ]
     },
     "execution_count": 229,
     "metadata": {},
     "output_type": "execute_result"
    }
   ],
   "source": [
    "# data for topic category\n",
    "df_count_topic_category = pd.DataFrame(df.topic_category.value_counts(normalize=True)).reset_index()\n",
    "df_count_topic_category = df_count_topic_category.rename(columns={'topic_category':'percent'})\n",
    "df_count_topic_category = df_count_topic_category.rename(columns={'index':'topic_category'})\n",
    "df_count_topic_category.head(10)"
   ]
  },
  {
   "cell_type": "code",
   "execution_count": 88,
   "metadata": {
    "scrolled": true
   },
   "outputs": [
    {
     "data": {
      "text/html": [
       "<iframe id=\"igraph\" scrolling=\"no\" style=\"border:none;\" seamless=\"seamless\" src=\"https://plot.ly/~mrbalikci/178.embed\" height=\"525px\" width=\"100%\"></iframe>"
      ],
      "text/plain": [
       "<chart_studio.tools.PlotlyDisplay object>"
      ]
     },
     "execution_count": 88,
     "metadata": {},
     "output_type": "execute_result"
    }
   ],
   "source": [
    "x=df_count_topic_category['topic_category']\n",
    "y=df_count_topic_category['percent'] \n",
    "\n",
    "data = [\n",
    "    go.Bar(\n",
    "        x=x, # assign x as the dataframe column 'x'\n",
    "        y=y\n",
    "    )\n",
    "]\n",
    "\n",
    "layout = go.Layout(\n",
    "    barmode='stack',\n",
    "    title='Topic Category vs Cases Over Time'\n",
    ")\n",
    "fig = go.Figure(data=data, layout=layout)\n",
    "\n",
    "py.iplot(fig)"
   ]
  },
  {
   "cell_type": "markdown",
   "metadata": {},
   "source": [
    "<strong>Conclusion</strong>:\n",
    "* Booting, LCD/Monitor, Call Logs are top 3 topic categories that are classified as \n",
    "    problem by tech support"
   ]
  },
  {
   "cell_type": "markdown",
   "metadata": {},
   "source": [
    "### Number of Cases Over Time: Region"
   ]
  },
  {
   "cell_type": "code",
   "execution_count": 230,
   "metadata": {
    "scrolled": true
   },
   "outputs": [
    {
     "data": {
      "text/html": [
       "<div>\n",
       "<style scoped>\n",
       "    .dataframe tbody tr th:only-of-type {\n",
       "        vertical-align: middle;\n",
       "    }\n",
       "\n",
       "    .dataframe tbody tr th {\n",
       "        vertical-align: top;\n",
       "    }\n",
       "\n",
       "    .dataframe thead th {\n",
       "        text-align: right;\n",
       "    }\n",
       "</style>\n",
       "<table border=\"1\" class=\"dataframe\">\n",
       "  <thead>\n",
       "    <tr style=\"text-align: right;\">\n",
       "      <th></th>\n",
       "      <th>region</th>\n",
       "      <th>country</th>\n",
       "      <th>region_count</th>\n",
       "      <th>country_count</th>\n",
       "    </tr>\n",
       "  </thead>\n",
       "  <tbody>\n",
       "    <tr>\n",
       "      <th>0</th>\n",
       "      <td>Hogwarts</td>\n",
       "      <td>Diagon Alley</td>\n",
       "      <td>4</td>\n",
       "      <td>4</td>\n",
       "    </tr>\n",
       "    <tr>\n",
       "      <th>1</th>\n",
       "      <td>Hogwarts</td>\n",
       "      <td>Gryffindor</td>\n",
       "      <td>17</td>\n",
       "      <td>17</td>\n",
       "    </tr>\n",
       "    <tr>\n",
       "      <th>2</th>\n",
       "      <td>Hogwarts</td>\n",
       "      <td>Hog's Head Inn</td>\n",
       "      <td>3</td>\n",
       "      <td>3</td>\n",
       "    </tr>\n",
       "    <tr>\n",
       "      <th>3</th>\n",
       "      <td>Hogwarts</td>\n",
       "      <td>Honeyduke's</td>\n",
       "      <td>24</td>\n",
       "      <td>24</td>\n",
       "    </tr>\n",
       "    <tr>\n",
       "      <th>4</th>\n",
       "      <td>Hogwarts</td>\n",
       "      <td>Hufflepuff</td>\n",
       "      <td>52</td>\n",
       "      <td>52</td>\n",
       "    </tr>\n",
       "  </tbody>\n",
       "</table>\n",
       "</div>"
      ],
      "text/plain": [
       "     region         country  region_count  country_count\n",
       "0  Hogwarts    Diagon Alley             4              4\n",
       "1  Hogwarts      Gryffindor            17             17\n",
       "2  Hogwarts  Hog's Head Inn             3              3\n",
       "3  Hogwarts     Honeyduke's            24             24\n",
       "4  Hogwarts      Hufflepuff            52             52"
      ]
     },
     "execution_count": 230,
     "metadata": {},
     "output_type": "execute_result"
    }
   ],
   "source": [
    "# gather the data\n",
    "df_region_country = pd.DataFrame(df.groupby(['region','country']).agg({'region':'count', 'country':'count'}))\n",
    "df_region_country = df_region_country.rename(columns={'region':'region_count', 'country':'country_count'}).reset_index()\n",
    "df_region_country.head()"
   ]
  },
  {
   "cell_type": "markdown",
   "metadata": {},
   "source": [
    "<strong>Conclusion</strong>:\n",
    "Assumed this data is a mock up data so region and country alignment does not make any sense to analyze"
   ]
  },
  {
   "cell_type": "markdown",
   "metadata": {},
   "source": [
    "### Number of Cases over Time: Product and Repair Types"
   ]
  },
  {
   "cell_type": "code",
   "execution_count": 231,
   "metadata": {
    "scrolled": true
   },
   "outputs": [
    {
     "data": {
      "text/html": [
       "<div>\n",
       "<style scoped>\n",
       "    .dataframe tbody tr th:only-of-type {\n",
       "        vertical-align: middle;\n",
       "    }\n",
       "\n",
       "    .dataframe tbody tr th {\n",
       "        vertical-align: top;\n",
       "    }\n",
       "\n",
       "    .dataframe thead th {\n",
       "        text-align: right;\n",
       "    }\n",
       "</style>\n",
       "<table border=\"1\" class=\"dataframe\">\n",
       "  <thead>\n",
       "    <tr style=\"text-align: right;\">\n",
       "      <th></th>\n",
       "      <th>product_type</th>\n",
       "      <th>repair_type</th>\n",
       "      <th>number_of_cases</th>\n",
       "      <th>product_repair_type</th>\n",
       "      <th>prc_of_cases</th>\n",
       "    </tr>\n",
       "  </thead>\n",
       "  <tbody>\n",
       "    <tr>\n",
       "      <th>0</th>\n",
       "      <td>Laptops</td>\n",
       "      <td>Hard</td>\n",
       "      <td>45897</td>\n",
       "      <td>Laptops-Hard</td>\n",
       "      <td>45.897</td>\n",
       "    </tr>\n",
       "    <tr>\n",
       "      <th>1</th>\n",
       "      <td>Laptops</td>\n",
       "      <td>Soft</td>\n",
       "      <td>27155</td>\n",
       "      <td>Laptops-Soft</td>\n",
       "      <td>27.155</td>\n",
       "    </tr>\n",
       "    <tr>\n",
       "      <th>2</th>\n",
       "      <td>Desktops</td>\n",
       "      <td>Soft</td>\n",
       "      <td>12047</td>\n",
       "      <td>Desktops-Soft</td>\n",
       "      <td>12.047</td>\n",
       "    </tr>\n",
       "    <tr>\n",
       "      <th>3</th>\n",
       "      <td>Desktops</td>\n",
       "      <td>Hard</td>\n",
       "      <td>11554</td>\n",
       "      <td>Desktops-Hard</td>\n",
       "      <td>11.554</td>\n",
       "    </tr>\n",
       "    <tr>\n",
       "      <th>4</th>\n",
       "      <td>Other Electronics</td>\n",
       "      <td>Hard</td>\n",
       "      <td>2043</td>\n",
       "      <td>Other Electronics-Hard</td>\n",
       "      <td>2.043</td>\n",
       "    </tr>\n",
       "    <tr>\n",
       "      <th>5</th>\n",
       "      <td>Other Electronics</td>\n",
       "      <td>Soft</td>\n",
       "      <td>1284</td>\n",
       "      <td>Other Electronics-Soft</td>\n",
       "      <td>1.284</td>\n",
       "    </tr>\n",
       "    <tr>\n",
       "      <th>6</th>\n",
       "      <td>Unknown</td>\n",
       "      <td>Soft</td>\n",
       "      <td>19</td>\n",
       "      <td>Unknown-Soft</td>\n",
       "      <td>0.019</td>\n",
       "    </tr>\n",
       "    <tr>\n",
       "      <th>7</th>\n",
       "      <td>Unknown</td>\n",
       "      <td>Hard</td>\n",
       "      <td>1</td>\n",
       "      <td>Unknown-Hard</td>\n",
       "      <td>0.001</td>\n",
       "    </tr>\n",
       "  </tbody>\n",
       "</table>\n",
       "</div>"
      ],
      "text/plain": [
       "        product_type repair_type  number_of_cases     product_repair_type  \\\n",
       "0            Laptops        Hard            45897            Laptops-Hard   \n",
       "1            Laptops        Soft            27155            Laptops-Soft   \n",
       "2           Desktops        Soft            12047           Desktops-Soft   \n",
       "3           Desktops        Hard            11554           Desktops-Hard   \n",
       "4  Other Electronics        Hard             2043  Other Electronics-Hard   \n",
       "5  Other Electronics        Soft             1284  Other Electronics-Soft   \n",
       "6            Unknown        Soft               19            Unknown-Soft   \n",
       "7            Unknown        Hard                1            Unknown-Hard   \n",
       "\n",
       "   prc_of_cases  \n",
       "0        45.897  \n",
       "1        27.155  \n",
       "2        12.047  \n",
       "3        11.554  \n",
       "4         2.043  \n",
       "5         1.284  \n",
       "6         0.019  \n",
       "7         0.001  "
      ]
     },
     "execution_count": 231,
     "metadata": {},
     "output_type": "execute_result"
    }
   ],
   "source": [
    "# Merge product type and repair type and aggregate it based on manufactured week count\n",
    "\n",
    "df_repair_type_cases_over_time = pd.DataFrame(df.groupby(['product_type','repair_type']).mnfture_wk.count()).sort_values('mnfture_wk', ascending=False)\n",
    "df_repair_type_cases_over_time = df_repair_type_cases_over_time.rename(columns={'mnfture_wk':'number_of_cases'}).reset_index()\n",
    "df_repair_type_cases_over_time[\"product_repair_type\"] = df_repair_type_cases_over_time[\"product_type\"].map(str) +\"-\"+ df_repair_type_cases_over_time[\"repair_type\"]\n",
    "df_repair_type_cases_over_time['prc_of_cases'] = (df_repair_type_cases_over_time['number_of_cases']/(df_repair_type_cases_over_time['number_of_cases'].sum()))*100\n",
    "df_repair_type_cases_over_time.head(10)"
   ]
  },
  {
   "cell_type": "code",
   "execution_count": 49,
   "metadata": {},
   "outputs": [
    {
     "data": {
      "text/html": [
       "<iframe id=\"igraph\" scrolling=\"no\" style=\"border:none;\" seamless=\"seamless\" src=\"https://plot.ly/~mrbalikci/168.embed\" height=\"525px\" width=\"100%\"></iframe>"
      ],
      "text/plain": [
       "<chart_studio.tools.PlotlyDisplay object>"
      ]
     },
     "execution_count": 49,
     "metadata": {},
     "output_type": "execute_result"
    }
   ],
   "source": [
    "# bar-plot for the data above\n",
    "\n",
    "data = [\n",
    "    go.Bar(\n",
    "        x=df_repair_type_cases_over_time['product_repair_type'], # assign x as the dataframe column 'x'\n",
    "        y=df_repair_type_cases_over_time['prc_of_cases'],\n",
    "        name = 'Product Type'\n",
    "    )\n",
    "]\n",
    "\n",
    "layout = go.Layout(\n",
    "    barmode='stack',\n",
    "    title='Product-Repair Types vs Number of Cases'\n",
    ")\n",
    "\n",
    "fig = go.Figure(data=data, layout=layout)\n",
    "\n",
    "py.iplot(fig)"
   ]
  },
  {
   "cell_type": "markdown",
   "metadata": {},
   "source": [
    "<strong>Conclusion</strong>:\n",
    "* Product type 'Laptop' and Repair Type 'Hard' issues seem the most reported"
   ]
  },
  {
   "cell_type": "markdown",
   "metadata": {},
   "source": [
    "- We can look into the correlations between agent_tenure_indays and parts_ct, contact_manager_flg, repeat_ct etc. to understand where the new agents are struggling. We can add another dimension for topic category to see if some topics are harder to identify for the new agents than others."
   ]
  },
  {
   "cell_type": "markdown",
   "metadata": {},
   "source": [
    "### Correlations: Agent Tenure Indays vs Contact Manager Flg"
   ]
  },
  {
   "cell_type": "code",
   "execution_count": 232,
   "metadata": {},
   "outputs": [],
   "source": [
    "# change the type from object to numerical \n",
    "df['agent_tenure_indays']=df['agent_tenure_indays'].astype(float)"
   ]
  },
  {
   "cell_type": "code",
   "execution_count": 233,
   "metadata": {
    "scrolled": false
   },
   "outputs": [
    {
     "data": {
      "image/png": "[encoded data removed]",
      "text/plain": [
       "<Figure size 432x288 with 1 Axes>"
      ]
     },
     "metadata": {
      "needs_background": "light"
     },
     "output_type": "display_data"
    }
   ],
   "source": [
    "# scatter plot for agent tenure indays vs contacted manager \n",
    "df.plot.scatter(y='agent_tenure_indays', \n",
    "                x='contact_manager_flg', \n",
    "                color='c', \n",
    "                title='scatter plot: Agent Indays vs Contact Manager Flg',\n",
    "                alpha=0.1);"
   ]
  },
  {
   "cell_type": "code",
   "execution_count": 234,
   "metadata": {},
   "outputs": [
    {
     "data": {
      "text/html": [
       "<div>\n",
       "<style scoped>\n",
       "    .dataframe tbody tr th:only-of-type {\n",
       "        vertical-align: middle;\n",
       "    }\n",
       "\n",
       "    .dataframe tbody tr th {\n",
       "        vertical-align: top;\n",
       "    }\n",
       "\n",
       "    .dataframe thead th {\n",
       "        text-align: right;\n",
       "    }\n",
       "</style>\n",
       "<table border=\"1\" class=\"dataframe\">\n",
       "  <thead>\n",
       "    <tr style=\"text-align: right;\">\n",
       "      <th></th>\n",
       "      <th>agent_tenure_indays</th>\n",
       "      <th>contact_manager_flg</th>\n",
       "    </tr>\n",
       "    <tr>\n",
       "      <th>asst_id</th>\n",
       "      <th></th>\n",
       "      <th></th>\n",
       "    </tr>\n",
       "  </thead>\n",
       "  <tbody>\n",
       "    <tr>\n",
       "      <th>84</th>\n",
       "      <td>270.0</td>\n",
       "      <td>1</td>\n",
       "    </tr>\n",
       "    <tr>\n",
       "      <th>121</th>\n",
       "      <td>249.0</td>\n",
       "      <td>1</td>\n",
       "    </tr>\n",
       "    <tr>\n",
       "      <th>241</th>\n",
       "      <td>720.0</td>\n",
       "      <td>1</td>\n",
       "    </tr>\n",
       "    <tr>\n",
       "      <th>344</th>\n",
       "      <td>368.0</td>\n",
       "      <td>1</td>\n",
       "    </tr>\n",
       "    <tr>\n",
       "      <th>443</th>\n",
       "      <td>730.0</td>\n",
       "      <td>1</td>\n",
       "    </tr>\n",
       "  </tbody>\n",
       "</table>\n",
       "</div>"
      ],
      "text/plain": [
       "         agent_tenure_indays  contact_manager_flg\n",
       "asst_id                                          \n",
       "84                     270.0                    1\n",
       "121                    249.0                    1\n",
       "241                    720.0                    1\n",
       "344                    368.0                    1\n",
       "443                    730.0                    1"
      ]
     },
     "execution_count": 234,
     "metadata": {},
     "output_type": "execute_result"
    }
   ],
   "source": [
    "# filter data for agents contacted to their manager more than one\n",
    "\n",
    "df['agent_tenure_indays']=df['agent_tenure_indays'].astype(float)\n",
    "df_agent_to_contact_mngr = df[['agent_tenure_indays','contact_manager_flg']]\n",
    "df_agent_to_contact_mngr = df_agent_to_contact_mngr.loc[df_agent_to_contact_mngr['contact_manager_flg']==1,:]\n",
    "df_agent_to_contact_mngr.head()"
   ]
  },
  {
   "cell_type": "code",
   "execution_count": 235,
   "metadata": {},
   "outputs": [
    {
     "name": "stdout",
     "output_type": "stream",
     "text": [
      "83.0% of agents who has experience <= 1018 days tends to get help from their superiors.\n"
     ]
    }
   ],
   "source": [
    "# find the percent of number of agents who has experience less than 1018 days or equal.\n",
    "\n",
    "df_agent_to_contact_mngr = pd.DataFrame(df_agent_to_contact_mngr.groupby('agent_tenure_indays').contact_manager_flg.count()).\\\n",
    "                            sort_values('contact_manager_flg', ascending=False).reset_index()\n",
    "df_agent_to_contact_mngr['percent'] = (df_agent_to_contact_mngr['contact_manager_flg']/\\\n",
    "                                       df_agent_to_contact_mngr['contact_manager_flg'].sum())*100\n",
    "prc_mngr = round((df_agent_to_contact_mngr.\\\n",
    "             loc[df_agent_to_contact_mngr['agent_tenure_indays']<=1018,:]).\\\n",
    "            percent.sum(),0)\n",
    "\n",
    "print(f\"{prc_mngr}% of agents who has experience <= 1018 days tends to get help from their superiors.\")"
   ]
  },
  {
   "cell_type": "markdown",
   "metadata": {},
   "source": [
    "<strong>Conclusion</strong>:\n",
    "\n",
    "* Based on the plot above, it can be seen that inexperienced agents sent to take the matter to the contacting manager. \n",
    "\n",
    "* From the <em>df_agent_to_contact_mngr</em> that more inexperienced agents tends to contact to their superior comparing experienced ones.\n",
    "\n",
    "* 59.0% of agents who got experience <= 1018 days tend to get help from their superiors.\n"
   ]
  },
  {
   "cell_type": "markdown",
   "metadata": {},
   "source": [
    "### Correlations: Agent Tenure Indays vs Additional Visits"
   ]
  },
  {
   "cell_type": "code",
   "execution_count": 236,
   "metadata": {
    "scrolled": true
   },
   "outputs": [
    {
     "data": {
      "image/png": "[encoded data removed]",
      "text/plain": [
       "<Figure size 432x288 with 1 Axes>"
      ]
     },
     "metadata": {
      "needs_background": "light"
     },
     "output_type": "display_data"
    }
   ],
   "source": [
    "# scatter plot for agent tenure indays vs additional visits\n",
    "df.plot.scatter(y='agent_tenure_indays', \n",
    "                x='repeat_ct', \n",
    "                color='c', \n",
    "                title='scatter plot: Agent Indays vs Repeat Fix',\n",
    "                alpha=0.1);"
   ]
  },
  {
   "cell_type": "code",
   "execution_count": 237,
   "metadata": {},
   "outputs": [
    {
     "data": {
      "text/html": [
       "<div>\n",
       "<style scoped>\n",
       "    .dataframe tbody tr th:only-of-type {\n",
       "        vertical-align: middle;\n",
       "    }\n",
       "\n",
       "    .dataframe tbody tr th {\n",
       "        vertical-align: top;\n",
       "    }\n",
       "\n",
       "    .dataframe thead th {\n",
       "        text-align: right;\n",
       "    }\n",
       "</style>\n",
       "<table border=\"1\" class=\"dataframe\">\n",
       "  <thead>\n",
       "    <tr style=\"text-align: right;\">\n",
       "      <th></th>\n",
       "      <th>agent_tenure_indays</th>\n",
       "      <th>repeat_ct</th>\n",
       "    </tr>\n",
       "    <tr>\n",
       "      <th>asst_id</th>\n",
       "      <th></th>\n",
       "      <th></th>\n",
       "    </tr>\n",
       "  </thead>\n",
       "  <tbody>\n",
       "    <tr>\n",
       "      <th>6</th>\n",
       "      <td>1757.0</td>\n",
       "      <td>1</td>\n",
       "    </tr>\n",
       "    <tr>\n",
       "      <th>19</th>\n",
       "      <td>1250.0</td>\n",
       "      <td>1</td>\n",
       "    </tr>\n",
       "    <tr>\n",
       "      <th>25</th>\n",
       "      <td>720.0</td>\n",
       "      <td>1</td>\n",
       "    </tr>\n",
       "    <tr>\n",
       "      <th>38</th>\n",
       "      <td>767.0</td>\n",
       "      <td>1</td>\n",
       "    </tr>\n",
       "    <tr>\n",
       "      <th>39</th>\n",
       "      <td>1018.0</td>\n",
       "      <td>1</td>\n",
       "    </tr>\n",
       "  </tbody>\n",
       "</table>\n",
       "</div>"
      ],
      "text/plain": [
       "         agent_tenure_indays  repeat_ct\n",
       "asst_id                                \n",
       "6                     1757.0          1\n",
       "19                    1250.0          1\n",
       "25                     720.0          1\n",
       "38                     767.0          1\n",
       "39                    1018.0          1"
      ]
     },
     "execution_count": 237,
     "metadata": {},
     "output_type": "execute_result"
    }
   ],
   "source": [
    "# filter data for agents did additional visits more than zero\n",
    "\n",
    "df['agent_tenure_indays']=df['agent_tenure_indays'].astype(float)\n",
    "df_agent_repeat_ct = df[['agent_tenure_indays', 'repeat_ct']]\n",
    "df_agent_repeat_ct = df_agent_repeat_ct.loc[df_agent_repeat_ct['repeat_ct']>0,:]\n",
    "df_agent_repeat_ct.head()"
   ]
  },
  {
   "cell_type": "code",
   "execution_count": 240,
   "metadata": {},
   "outputs": [
    {
     "name": "stdout",
     "output_type": "stream",
     "text": [
      "45.0% of agents who has experience <= 1018 days tends to do additional visits\n"
     ]
    }
   ],
   "source": [
    "# find the percent of number of agents who has experience less than 1018 days or equal.\n",
    "\n",
    "df_agent_repeat_ct = pd.DataFrame(df_agent_repeat_ct.groupby('agent_tenure_indays').repeat_ct.count()).\\\n",
    "                            sort_values('repeat_ct', ascending=False).reset_index()\n",
    "df_agent_repeat_ct['percent'] = (df_agent_repeat_ct['repeat_ct']/\\\n",
    "                                       df_agent_repeat_ct['repeat_ct'].sum())*100\n",
    "prc_repeat = round((df_agent_repeat_ct.\\\n",
    "             loc[df_agent_repeat_ct['agent_tenure_indays']<=1018,:]).\\\n",
    "            percent.sum(),0)\n",
    "\n",
    "print(f\"{prc_repeat}% of agents who has experience <= 1018 days tends to do additional visits\")"
   ]
  },
  {
   "cell_type": "markdown",
   "metadata": {},
   "source": [
    "<strong>Conclusion</strong>:\n",
    "* More additional visits were made by more inexperienced tech support comparing experienced ones.\n",
    "* 45.0% of agents who has experience <= 1018 days tends to do additional visits"
   ]
  },
  {
   "cell_type": "markdown",
   "metadata": {},
   "source": [
    "### Correlations: Agent Tenure Indays vs Parts Sent"
   ]
  },
  {
   "cell_type": "code",
   "execution_count": 241,
   "metadata": {
    "scrolled": false
   },
   "outputs": [
    {
     "data": {
      "image/png": "[encoded data removed]",
      "text/plain": [
       "<Figure size 432x288 with 1 Axes>"
      ]
     },
     "metadata": {
      "needs_background": "light"
     },
     "output_type": "display_data"
    }
   ],
   "source": [
    "# scatter plot for agent tenure indays and number of parts were sent to fix problem\n",
    "df.plot.scatter(y='agent_tenure_indays', \n",
    "                x='parts_ct', \n",
    "                color='c', \n",
    "                title='scatter plot: Agent Indays vs Parts Sent',\n",
    "                alpha=0.1);"
   ]
  },
  {
   "cell_type": "code",
   "execution_count": 243,
   "metadata": {},
   "outputs": [
    {
     "data": {
      "text/html": [
       "<div>\n",
       "<style scoped>\n",
       "    .dataframe tbody tr th:only-of-type {\n",
       "        vertical-align: middle;\n",
       "    }\n",
       "\n",
       "    .dataframe tbody tr th {\n",
       "        vertical-align: top;\n",
       "    }\n",
       "\n",
       "    .dataframe thead th {\n",
       "        text-align: right;\n",
       "    }\n",
       "</style>\n",
       "<table border=\"1\" class=\"dataframe\">\n",
       "  <thead>\n",
       "    <tr style=\"text-align: right;\">\n",
       "      <th></th>\n",
       "      <th>agent_tenure_indays</th>\n",
       "      <th>parts_ct</th>\n",
       "    </tr>\n",
       "    <tr>\n",
       "      <th>asst_id</th>\n",
       "      <th></th>\n",
       "      <th></th>\n",
       "    </tr>\n",
       "  </thead>\n",
       "  <tbody>\n",
       "    <tr>\n",
       "      <th>0</th>\n",
       "      <td>1018.0</td>\n",
       "      <td>3</td>\n",
       "    </tr>\n",
       "    <tr>\n",
       "      <th>1</th>\n",
       "      <td>1018.0</td>\n",
       "      <td>2</td>\n",
       "    </tr>\n",
       "    <tr>\n",
       "      <th>6</th>\n",
       "      <td>1757.0</td>\n",
       "      <td>2</td>\n",
       "    </tr>\n",
       "    <tr>\n",
       "      <th>13</th>\n",
       "      <td>1376.0</td>\n",
       "      <td>2</td>\n",
       "    </tr>\n",
       "    <tr>\n",
       "      <th>14</th>\n",
       "      <td>1018.0</td>\n",
       "      <td>2</td>\n",
       "    </tr>\n",
       "  </tbody>\n",
       "</table>\n",
       "</div>"
      ],
      "text/plain": [
       "         agent_tenure_indays  parts_ct\n",
       "asst_id                               \n",
       "0                     1018.0         3\n",
       "1                     1018.0         2\n",
       "6                     1757.0         2\n",
       "13                    1376.0         2\n",
       "14                    1018.0         2"
      ]
     },
     "execution_count": 243,
     "metadata": {},
     "output_type": "execute_result"
    }
   ],
   "source": [
    "# filter data for agents who did send parts more than 1\n",
    "\n",
    "df['agent_tenure_indays']=df['agent_tenure_indays'].astype(float)\n",
    "df_agent_parts_ct = df[['agent_tenure_indays', 'parts_ct']]\n",
    "df_agent_parts_ct = df_agent_parts_ct.loc[df_agent_parts_ct['parts_ct']>1,:]\n",
    "df_agent_parts_ct.head()"
   ]
  },
  {
   "cell_type": "code",
   "execution_count": 247,
   "metadata": {},
   "outputs": [],
   "source": [
    "# find the percent of number of agents who has experience less than 1018 days or equal.\n",
    "\n",
    "df_agent_parts_ct = pd.DataFrame(df_agent_parts_ct.groupby('agent_tenure_indays').parts_ct.count()).\\\n",
    "                            sort_values('parts_ct', ascending=False).reset_index()\n",
    "df_agent_parts_ct['percent'] = (df_agent_parts_ct['parts_ct']/\\\n",
    "                                       df_agent_parts_ct['parts_ct'].sum())*100"
   ]
  },
  {
   "cell_type": "code",
   "execution_count": 248,
   "metadata": {},
   "outputs": [
    {
     "name": "stdout",
     "output_type": "stream",
     "text": [
      "40.0% of agents who has experience <= 1018 sent more than 1 part\n"
     ]
    }
   ],
   "source": [
    "prc_parts = round((df_agent_parts_ct.\\\n",
    "             loc[df_agent_parts_ct['agent_tenure_indays']<=1018,:]).\\\n",
    "            percent.sum(),0)\n",
    "\n",
    "print(f\"{prc_parts}% of agents who has experience <= 1018 sent more than 1 part\")"
   ]
  },
  {
   "cell_type": "markdown",
   "metadata": {},
   "source": [
    "<strong>Conclusion</strong>:\n",
    "* More parts were sent by inexperienced agents \n",
    "* 81.0% of agents who has experience <= 1018 sent more than or equal to 1 part\n",
    "* 40% of agents who has experience less than or equal to 1018 days sent more than 1 part"
   ]
  },
  {
   "cell_type": "markdown",
   "metadata": {},
   "source": [
    "- We can look into the correlation between the repeat_ct and contact_type to see if some communication channels are more effective than others.\n"
   ]
  },
  {
   "cell_type": "markdown",
   "metadata": {},
   "source": [
    "### Correlations: Additional Parts Sent vs Contact Type"
   ]
  },
  {
   "cell_type": "code",
   "execution_count": 249,
   "metadata": {},
   "outputs": [],
   "source": [
    "# Assigned numerical values to the contact types for correlation\n",
    "df_contact_type = df\n",
    "df_contact_type['contact_type']=df_contact_type['contact_type'].str.replace('Voice',\"1\")\n",
    "df_contact_type['contact_type']=df_contact_type['contact_type'].str.replace('CHAT',\"2\")\n",
    "df_contact_type['contact_type']=df_contact_type['contact_type'].str.replace('EMAIL',\"3\")\n",
    "df_contact_type['contact_type']=df_contact_type['contact_type'].str.replace('Unknown',\"4\")"
   ]
  },
  {
   "cell_type": "code",
   "execution_count": 250,
   "metadata": {},
   "outputs": [],
   "source": [
    "# change data type to numerical \n",
    "df_contact_type['contact_type']=df_contact_type['contact_type'].astype(int)"
   ]
  },
  {
   "cell_type": "code",
   "execution_count": 251,
   "metadata": {
    "scrolled": true
   },
   "outputs": [
    {
     "data": {
      "image/png": "[encoded data removed]",
      "text/plain": [
       "<Figure size 432x288 with 1 Axes>"
      ]
     },
     "metadata": {
      "needs_background": "light"
     },
     "output_type": "display_data"
    }
   ],
   "source": [
    "# matplotlib imports \n",
    "import matplotlib.pyplot as plt\n",
    "import matplotlib.patches as mpatches\n",
    "\n",
    "# plot the additional parts sent vs contact type \n",
    "N=50\n",
    "x = df_contact_type.contact_type\n",
    "y = df_contact_type.repeat_ct\n",
    "colors = np.random.rand(N)\n",
    "area = (10 * np.random.rand(N))**2  # 0 to 15 point radii\n",
    "\n",
    "voice = mpatches.Patch(label='1: Voice')\n",
    "chat = mpatches.Patch(label='2: Chat')\n",
    "email = mpatches.Patch(label='3: Email')\n",
    "unknown = mpatches.Patch(label='4: Unknown')\n",
    "\n",
    "plt.scatter(x, y, s=area, c='c', alpha=0.1)\n",
    "plt.legend(handles=[voice, chat, email, unknown])\n",
    "plt.title('Scatter Plot: Additional Visits vs Contact Type')\n",
    "plt.legend(handles=[voice, chat, email, unknown], \n",
    "           loc='center left', bbox_to_anchor=(1, 0.5), title=\"Contact Types\",fancybox=True)\n",
    "plt.xlabel('Contact Types')\n",
    "plt.ylabel('Additional Visits')\n",
    "plt.grid()\n",
    "plt.show()"
   ]
  },
  {
   "cell_type": "code",
   "execution_count": 213,
   "metadata": {
    "scrolled": true
   },
   "outputs": [
    {
     "data": {
      "text/html": [
       "<div>\n",
       "<style scoped>\n",
       "    .dataframe tbody tr th:only-of-type {\n",
       "        vertical-align: middle;\n",
       "    }\n",
       "\n",
       "    .dataframe tbody tr th {\n",
       "        vertical-align: top;\n",
       "    }\n",
       "\n",
       "    .dataframe thead th {\n",
       "        text-align: right;\n",
       "    }\n",
       "</style>\n",
       "<table border=\"1\" class=\"dataframe\">\n",
       "  <thead>\n",
       "    <tr style=\"text-align: right;\">\n",
       "      <th>repeat_ct</th>\n",
       "      <th>0</th>\n",
       "      <th>1</th>\n",
       "      <th>2</th>\n",
       "      <th>3</th>\n",
       "    </tr>\n",
       "    <tr>\n",
       "      <th>contact_type</th>\n",
       "      <th></th>\n",
       "      <th></th>\n",
       "      <th></th>\n",
       "      <th></th>\n",
       "    </tr>\n",
       "  </thead>\n",
       "  <tbody>\n",
       "    <tr>\n",
       "      <th>CHAT</th>\n",
       "      <td>13149.0</td>\n",
       "      <td>1276.0</td>\n",
       "      <td>NaN</td>\n",
       "      <td>NaN</td>\n",
       "    </tr>\n",
       "    <tr>\n",
       "      <th>EMAIL</th>\n",
       "      <td>1150.0</td>\n",
       "      <td>131.0</td>\n",
       "      <td>NaN</td>\n",
       "      <td>NaN</td>\n",
       "    </tr>\n",
       "    <tr>\n",
       "      <th>Unknown</th>\n",
       "      <td>119.0</td>\n",
       "      <td>13.0</td>\n",
       "      <td>NaN</td>\n",
       "      <td>NaN</td>\n",
       "    </tr>\n",
       "    <tr>\n",
       "      <th>Voice</th>\n",
       "      <td>78185.0</td>\n",
       "      <td>5968.0</td>\n",
       "      <td>6.0</td>\n",
       "      <td>3.0</td>\n",
       "    </tr>\n",
       "  </tbody>\n",
       "</table>\n",
       "</div>"
      ],
      "text/plain": [
       "repeat_ct           0       1    2    3\n",
       "contact_type                           \n",
       "CHAT          13149.0  1276.0  NaN  NaN\n",
       "EMAIL          1150.0   131.0  NaN  NaN\n",
       "Unknown         119.0    13.0  NaN  NaN\n",
       "Voice         78185.0  5968.0  6.0  3.0"
      ]
     },
     "execution_count": 213,
     "metadata": {},
     "output_type": "execute_result"
    }
   ],
   "source": [
    "df_visit_contact_type = df_visit_contact_type.groupby(['contact_type', 'repeat_ct']).repeat_ct.count().unstack()\n",
    "df_visit_contact_type"
   ]
  },
  {
   "cell_type": "markdown",
   "metadata": {},
   "source": [
    "<strong>Conclusion</strong>:\n",
    "* Voice contact type seems got more additional visits required to fix the problem"
   ]
  },
  {
   "cell_type": "markdown",
   "metadata": {},
   "source": [
    "- We can look into the correlation between diagnostics and repeat_ct to see if diagnostics are helpful to the agents. We can run a hypothesis testing to see if the effect is significant."
   ]
  },
  {
   "cell_type": "markdown",
   "metadata": {},
   "source": [
    "### Correlations: Diagnostics vs Additional Visits"
   ]
  },
  {
   "cell_type": "code",
   "execution_count": 252,
   "metadata": {},
   "outputs": [],
   "source": [
    "# Assigned numerical values for type of diagnostics \n",
    "df_diag = df\n",
    "df_diag['diagnostics']=df_diag['diagnostics'].str.replace('Not_USED','1')\n",
    "df_diag['diagnostics']=df_diag['diagnostics'].str.replace('Effective_Usage','2')\n",
    "df_diag['diagnostics']=df_diag['diagnostics'].str.replace('InEffective_Usage','3')\n",
    "df_diag['diagnostics']=df_diag['diagnostics'].str.replace('Not_Considered','4')\n",
    "\n",
    "# somehow 'inEffective_Usage' replace with 'in2' object so replaced it with 3 again\n",
    "df_diag['diagnostics']=df_diag['diagnostics'].str.replace('In2','3')"
   ]
  },
  {
   "cell_type": "code",
   "execution_count": 253,
   "metadata": {},
   "outputs": [],
   "source": [
    "# change type from object to numeric to plot\n",
    "df_diag['diagnostics']=df_diag['diagnostics'].astype(int)"
   ]
  },
  {
   "cell_type": "code",
   "execution_count": 254,
   "metadata": {
    "scrolled": false
   },
   "outputs": [
    {
     "data": {
      "image/png": "[encoded data removed]",
      "text/plain": [
       "<Figure size 432x288 with 1 Axes>"
      ]
     },
     "metadata": {
      "needs_background": "light"
     },
     "output_type": "display_data"
    }
   ],
   "source": [
    "# Scatter Plot for Diagnostics vs Additional Visits\n",
    "\n",
    "N=50\n",
    "x = df_diag.diagnostics\n",
    "y = df_diag.repeat_ct\n",
    "colors = np.random.rand(N)\n",
    "area = (10 * np.random.rand(N))**2  # 0 to 15 point radii\n",
    "\n",
    "not_used = mpatches.Patch(label='1: Not_USED')\n",
    "eff_usag = mpatches.Patch(label='2: Effective_Usage')\n",
    "ineff_usag = mpatches.Patch(label='3: InEffective_Usage')\n",
    "not_cons = mpatches.Patch(label='4: Not_Considered')\n",
    "\n",
    "plt.scatter(x, y, s=area, c='c', alpha=0.1)\n",
    "plt.legend(handles=[not_used, eff_usag, ineff_usag, not_cons], \n",
    "           loc='center left', bbox_to_anchor=(1, 0.5), title=\"Diagnostics\",fancybox=True)\n",
    "plt.title('Scatter Plot: Diagnostics vs Additional Visits')\n",
    "plt.xlabel('Diagnostics')\n",
    "plt.ylabel('Additional Visits')\n",
    "plt.grid()\n",
    "plt.show()"
   ]
  },
  {
   "cell_type": "markdown",
   "metadata": {},
   "source": [
    "<strong>Conclusion</strong>:\n",
    "* It is hard to determine which diagnostics type was effective so used hypothesis testing below. "
   ]
  },
  {
   "cell_type": "markdown",
   "metadata": {},
   "source": [
    "### Hypothesis Testing: To see if the effect is significant"
   ]
  },
  {
   "cell_type": "markdown",
   "metadata": {},
   "source": [
    "* Hypothesis: If diagnostic is effectively been used for each case, there is a significant effect on customer's additional visit\n",
    "\n",
    "* Null Hypothesis: If diagnostics not effectively been used for each case, there is not a significant effect on customer's additional visit\n"
   ]
  },
  {
   "cell_type": "code",
   "execution_count": 255,
   "metadata": {},
   "outputs": [],
   "source": [
    "# Dependencies\n",
    "import scipy.stats as stats"
   ]
  },
  {
   "cell_type": "code",
   "execution_count": 256,
   "metadata": {
    "scrolled": false
   },
   "outputs": [
    {
     "data": {
      "text/html": [
       "<div>\n",
       "<style scoped>\n",
       "    .dataframe tbody tr th:only-of-type {\n",
       "        vertical-align: middle;\n",
       "    }\n",
       "\n",
       "    .dataframe tbody tr th {\n",
       "        vertical-align: top;\n",
       "    }\n",
       "\n",
       "    .dataframe thead th {\n",
       "        text-align: right;\n",
       "    }\n",
       "</style>\n",
       "<table border=\"1\" class=\"dataframe\">\n",
       "  <thead>\n",
       "    <tr style=\"text-align: right;\">\n",
       "      <th></th>\n",
       "      <th>diagnostics</th>\n",
       "      <th>repeat_ct</th>\n",
       "    </tr>\n",
       "    <tr>\n",
       "      <th>asst_id</th>\n",
       "      <th></th>\n",
       "      <th></th>\n",
       "    </tr>\n",
       "  </thead>\n",
       "  <tbody>\n",
       "    <tr>\n",
       "      <th>0</th>\n",
       "      <td>1</td>\n",
       "      <td>0</td>\n",
       "    </tr>\n",
       "    <tr>\n",
       "      <th>1</th>\n",
       "      <td>1</td>\n",
       "      <td>0</td>\n",
       "    </tr>\n",
       "    <tr>\n",
       "      <th>2</th>\n",
       "      <td>1</td>\n",
       "      <td>0</td>\n",
       "    </tr>\n",
       "    <tr>\n",
       "      <th>3</th>\n",
       "      <td>2</td>\n",
       "      <td>0</td>\n",
       "    </tr>\n",
       "    <tr>\n",
       "      <th>4</th>\n",
       "      <td>1</td>\n",
       "      <td>0</td>\n",
       "    </tr>\n",
       "  </tbody>\n",
       "</table>\n",
       "</div>"
      ],
      "text/plain": [
       "         diagnostics  repeat_ct\n",
       "asst_id                        \n",
       "0                  1          0\n",
       "1                  1          0\n",
       "2                  1          0\n",
       "3                  2          0\n",
       "4                  1          0"
      ]
     },
     "execution_count": 256,
     "metadata": {},
     "output_type": "execute_result"
    }
   ],
   "source": [
    "# Only get diagnostics and repeat_ct columns for testing\n",
    "df_diag_repeat_ct = df[['diagnostics','repeat_ct']]\n",
    "df_diag_repeat_ct.head()"
   ]
  },
  {
   "cell_type": "code",
   "execution_count": 257,
   "metadata": {},
   "outputs": [
    {
     "data": {
      "text/plain": [
       "diagnostics\n",
       "1    AxesSubplot(0.125,0.125;0.775x0.755)\n",
       "2    AxesSubplot(0.125,0.125;0.775x0.755)\n",
       "3    AxesSubplot(0.125,0.125;0.775x0.755)\n",
       "4    AxesSubplot(0.125,0.125;0.775x0.755)\n",
       "Name: Zscore, dtype: object"
      ]
     },
     "execution_count": 257,
     "metadata": {},
     "output_type": "execute_result"
    },
    {
     "data": {
      "image/png": "[encoded data removed]",
      "text/plain": [
       "<Figure size 432x288 with 1 Axes>"
      ]
     },
     "metadata": {
      "needs_background": "light"
     },
     "output_type": "display_data"
    }
   ],
   "source": [
    "df_diag_normal_dist = df[['diagnostics','repeat_ct']].reset_index()\n",
    "df_diag_normal_dist['Zscore'] = df_diag_normal_dist.groupby('diagnostics').repeat_ct.apply(lambda x: x.div(x.mean()))\n",
    "df_diag_normal_dist.groupby('diagnostics').Zscore.plot.kde()"
   ]
  },
  {
   "cell_type": "code",
   "execution_count": 258,
   "metadata": {},
   "outputs": [
    {
     "data": {
      "image/png": "[encoded data removed]",
      "text/plain": [
       "<Figure size 432x432 with 8 Axes>"
      ]
     },
     "metadata": {
      "needs_background": "light"
     },
     "output_type": "display_data"
    }
   ],
   "source": [
    "g = df_diag_normal_dist.groupby('diagnostics').Zscore\n",
    "n = g.ngroups\n",
    "fig, axes = plt.subplots(n // 2, 2, figsize=(6, 6), sharex=True, sharey=True)\n",
    "for i, (name, group) in enumerate(g):\n",
    "    r, c = i // 2, i % 2\n",
    "    a1 = axes[r, c]\n",
    "    a2 = a1.twinx()\n",
    "    group.plot.hist(ax=a2, alpha=.3)\n",
    "    group.plot.kde(title=name, ax=a1, c='r')\n",
    "fig.tight_layout()"
   ]
  },
  {
   "cell_type": "code",
   "execution_count": 259,
   "metadata": {},
   "outputs": [
    {
     "name": "stdout",
     "output_type": "stream",
     "text": [
      "mean for diagnostics not used 1.6292636708175419\n",
      "mean for diagnostics used 2.0\n"
     ]
    }
   ],
   "source": [
    "# Calculate additional visits mean for diagnostics Not_Used which (1) and Effective_Usage (2)\n",
    "not_used = df_diag_repeat_ct[df_diag_repeat_ct['repeat_ct']==1]\n",
    "print(f\"mean for diagnostics not used {not_used.diagnostics.mean()}\")\n",
    "\n",
    "effective_usage = df_diag_repeat_ct[df_diag_repeat_ct['repeat_ct']==2]\n",
    "print(f\"mean for diagnostics used {effective_usage.diagnostics.mean()}\")"
   ]
  },
  {
   "cell_type": "code",
   "execution_count": 260,
   "metadata": {},
   "outputs": [],
   "source": [
    "# function to create scatter and histogram plots comparison \n",
    "\n",
    "def gendata(loc1=0, loc2=0):\n",
    "    not_used_diag = not_used.diagnostics\n",
    "    effective_usage_diag = effective_usage.diagnostics\n",
    "    \n",
    "    # scatter plot of data\n",
    "    plt.subplot(2,1,1)\n",
    "    plt.scatter(range(len(not_used_diag)), not_used_diag, label='not used diagnostics')\n",
    "    plt.scatter(range(len(effective_usage_diag)), effective_usage_diag, label='effective usage diagnostics')\n",
    "    plt.legend(loc='center left', bbox_to_anchor=(1, 0.5))\n",
    "    \n",
    "    # histogram plot of data\n",
    "    plt.subplot(2,1,2)\n",
    "    plt.hist(not_used_diag, density=True, alpha=0.7, label='not used diagnostics')\n",
    "    plt.hist(effective_usage_diag, density=True, alpha=0.7, label='effective usage diagnostics')\n",
    "    plt.axvline(not_used_diag.mean(), color='k', linestyle='dashed', linewidth=1)\n",
    "    plt.axvline(effective_usage_diag.mean(), color='k', linestyle='dashed', linewidth=1)\n",
    "    plt.legend(loc='center left', bbox_to_anchor=(1, 0.5))\n",
    "    \n",
    "    return not_used_diag, effective_usage_diag"
   ]
  },
  {
   "cell_type": "code",
   "execution_count": 261,
   "metadata": {
    "scrolled": false
   },
   "outputs": [
    {
     "data": {
      "image/png": "[encoded data removed]",
      "text/plain": [
       "<Figure size 432x288 with 2 Axes>"
      ]
     },
     "metadata": {
      "needs_background": "light"
     },
     "output_type": "display_data"
    }
   ],
   "source": [
    "# run the fuction\n",
    "not_used_diag, effective_usage_diag = gendata()"
   ]
  },
  {
   "cell_type": "code",
   "execution_count": 262,
   "metadata": {},
   "outputs": [
    {
     "name": "stdout",
     "output_type": "stream",
     "text": [
      "Ttest_indResult(statistic=-0.8288177050971959, pvalue=0.4449271956106138)\n"
     ]
    }
   ],
   "source": [
    "# Calculate Independent (Two Sample) T-Test\n",
    "print(stats.ttest_ind(not_used.diagnostics, effective_usage.diagnostics, equal_var=False))"
   ]
  },
  {
   "cell_type": "markdown",
   "metadata": {},
   "source": [
    "<strong>Conclusion</strong>:\n",
    "\n",
    "* A large p-value (> 0.05) indicates weak evidence against the null hypothesis, so fail to reject the null hypothesis.\n",
    "\n",
    "* Null Hypothesis: If diagnostics not effectively been used for each case, there is not a significant effect on customer's additional visit\n",
    "\n",
    "* That means, if the diagnostics are not effectively been used for each case, there is not a significant effect on customer's additional visit. "
   ]
  },
  {
   "cell_type": "markdown",
   "metadata": {},
   "source": [
    "- We can look into the relation between the time after manufacturing till contact week and topic parts_sent to see what parts are failing when."
   ]
  },
  {
   "cell_type": "code",
   "execution_count": 263,
   "metadata": {},
   "outputs": [],
   "source": [
    "# find the difference in days between contract end and manufacturing time\n",
    "df['mnfture_to_contact']=df.contract_end_datetime-df.mnfture_datetime\n",
    "df['mnfture_to_contact_in_days'] = df['mnfture_to_contact'].apply(lambda x: float(x.days))"
   ]
  },
  {
   "cell_type": "code",
   "execution_count": 264,
   "metadata": {},
   "outputs": [],
   "source": [
    "# we got some negative numbers, filter for positive and zeros\n",
    "df = df.loc[df.mnfture_to_contact_in_days >= 0,:]"
   ]
  },
  {
   "cell_type": "code",
   "execution_count": 265,
   "metadata": {
    "scrolled": true
   },
   "outputs": [
    {
     "data": {
      "text/html": [
       "<div>\n",
       "<style scoped>\n",
       "    .dataframe tbody tr th:only-of-type {\n",
       "        vertical-align: middle;\n",
       "    }\n",
       "\n",
       "    .dataframe tbody tr th {\n",
       "        vertical-align: top;\n",
       "    }\n",
       "\n",
       "    .dataframe thead th {\n",
       "        text-align: right;\n",
       "    }\n",
       "</style>\n",
       "<table border=\"1\" class=\"dataframe\">\n",
       "  <thead>\n",
       "    <tr style=\"text-align: right;\">\n",
       "      <th></th>\n",
       "      <th>mnfture_to_contact_in_days</th>\n",
       "    </tr>\n",
       "    <tr>\n",
       "      <th>parts_sent</th>\n",
       "      <th></th>\n",
       "    </tr>\n",
       "  </thead>\n",
       "  <tbody>\n",
       "    <tr>\n",
       "      <th>Miscellaneous(2), LCD Panel(6)</th>\n",
       "      <td>147.000000</td>\n",
       "    </tr>\n",
       "    <tr>\n",
       "      <th>Printer, Base Unit</th>\n",
       "      <td>168.000000</td>\n",
       "    </tr>\n",
       "    <tr>\n",
       "      <th>Miscellaneous(2), Battery (Other)(2)</th>\n",
       "      <td>231.000000</td>\n",
       "    </tr>\n",
       "    <tr>\n",
       "      <th>Miscellaneous(2), LCD Panel(2), Hard Drive</th>\n",
       "      <td>256.666667</td>\n",
       "    </tr>\n",
       "    <tr>\n",
       "      <th>Speaker(2), Motherboard, Miscellaneous, Heatsink, Documentation</th>\n",
       "      <td>259.000000</td>\n",
       "    </tr>\n",
       "    <tr>\n",
       "      <th>Motherboard(5), Miscellaneous, Cables(2)</th>\n",
       "      <td>266.000000</td>\n",
       "    </tr>\n",
       "    <tr>\n",
       "      <th>Miscellaneous(2), Adapter, AC(5)</th>\n",
       "      <td>294.000000</td>\n",
       "    </tr>\n",
       "    <tr>\n",
       "      <th>Miscellaneous, LCD Panel(2)</th>\n",
       "      <td>294.000000</td>\n",
       "    </tr>\n",
       "    <tr>\n",
       "      <th>LCD, Adapter, AC</th>\n",
       "      <td>296.333333</td>\n",
       "    </tr>\n",
       "    <tr>\n",
       "      <th>Motherboard(3), Miscellaneous(2), Documentation, Battery (Notebook)</th>\n",
       "      <td>301.000000</td>\n",
       "    </tr>\n",
       "  </tbody>\n",
       "</table>\n",
       "</div>"
      ],
      "text/plain": [
       "                                                    mnfture_to_contact_in_days\n",
       "parts_sent                                                                    \n",
       "Miscellaneous(2), LCD Panel(6)                                      147.000000\n",
       "Printer, Base Unit                                                  168.000000\n",
       "Miscellaneous(2), Battery (Other)(2)                                231.000000\n",
       "Miscellaneous(2), LCD Panel(2), Hard Drive                          256.666667\n",
       "Speaker(2), Motherboard, Miscellaneous, Heatsin...                  259.000000\n",
       "Motherboard(5), Miscellaneous, Cables(2)                            266.000000\n",
       "Miscellaneous(2), Adapter, AC(5)                                    294.000000\n",
       "Miscellaneous, LCD Panel(2)                                         294.000000\n",
       "LCD, Adapter, AC                                                    296.333333\n",
       "Motherboard(3), Miscellaneous(2), Documentation...                  301.000000"
      ]
     },
     "execution_count": 265,
     "metadata": {},
     "output_type": "execute_result"
    }
   ],
   "source": [
    "df_mnfture_to_contract = pd.DataFrame(df.groupby('parts_sent').mnfture_to_contact_in_days.mean()).\\\n",
    "            sort_values('mnfture_to_contact_in_days', ascending=True)\n",
    "df_mnfture_to_contract.head(10)"
   ]
  },
  {
   "cell_type": "markdown",
   "metadata": {},
   "source": [
    "<strong>Conclusion</strong>:\n",
    "* The time after manufacturing till contact week and topic parts_sent to see what parts are failing shows that top 10 parts above. \n",
    "* These numbers were determined based on average numbers of manufacturing until contact week for each parts failing. \n",
    "* It seems LCD Panels, Base Unit, Printer, Battery, Hard Drive are top ones failing. "
   ]
  },
  {
   "cell_type": "markdown",
   "metadata": {},
   "source": [
    "- We can look into if people are contacting the support right before their warranty expires.\n"
   ]
  },
  {
   "cell_type": "code",
   "execution_count": 266,
   "metadata": {},
   "outputs": [
    {
     "name": "stderr",
     "output_type": "stream",
     "text": [
      "C:\\Users\\mrbal\\Anaconda3\\lib\\site-packages\\ipykernel_launcher.py:3: SettingWithCopyWarning:\n",
      "\n",
      "\n",
      "A value is trying to be set on a copy of a slice from a DataFrame.\n",
      "Try using .loc[row_indexer,col_indexer] = value instead\n",
      "\n",
      "See the caveats in the documentation: http://pandas.pydata.org/pandas-docs/stable/indexing.html#indexing-view-versus-copy\n",
      "\n"
     ]
    },
    {
     "name": "stdout",
     "output_type": "stream",
     "text": [
      "36.0% of people who has their contract ending withing a year contacting to the tech support\n"
     ]
    },
    {
     "name": "stderr",
     "output_type": "stream",
     "text": [
      "C:\\Users\\mrbal\\Anaconda3\\lib\\site-packages\\ipykernel_launcher.py:4: SettingWithCopyWarning:\n",
      "\n",
      "\n",
      "A value is trying to be set on a copy of a slice from a DataFrame.\n",
      "Try using .loc[row_indexer,col_indexer] = value instead\n",
      "\n",
      "See the caveats in the documentation: http://pandas.pydata.org/pandas-docs/stable/indexing.html#indexing-view-versus-copy\n",
      "\n"
     ]
    }
   ],
   "source": [
    "# find the difference in days between contact week and contract end time\n",
    "\n",
    "df['contact_for_contract_end']=df.contact_week_datetime - df.contract_end_datetime\n",
    "df['contact_for_contract_end'] = df['contact_for_contract_end'].apply(lambda x: float(x.days))\n",
    "df = df.sort_values('contact_for_contract_end', ascending=True)\n",
    "\n",
    "value =round((len(df.loc[(df['contact_for_contract_end']<=0) & \\\n",
    "                         (df['contact_for_contract_end']>-365) ,:])/len(df))*100,0)\n",
    "print(f\"{value}% of people who has their contract ending withing a year contacting to the tech support\")"
   ]
  },
  {
   "cell_type": "code",
   "execution_count": 267,
   "metadata": {},
   "outputs": [
    {
     "data": {
      "image/png": "[encoded data removed]",
      "text/plain": [
       "<Figure size 432x288 with 1 Axes>"
      ]
     },
     "metadata": {
      "needs_background": "light"
     },
     "output_type": "display_data"
    }
   ],
   "source": [
    "# Histogram for contact before contract ending \n",
    "df.contact_for_contract_end.plot(kind='hist', \n",
    "                                 title='histogram for contract for contract ending', \n",
    "                                 color='c');"
   ]
  },
  {
   "cell_type": "code",
   "execution_count": 268,
   "metadata": {
    "scrolled": true
   },
   "outputs": [
    {
     "data": {
      "image/png": "[encoded data removed]",
      "text/plain": [
       "<Figure size 432x288 with 1 Axes>"
      ]
     },
     "metadata": {
      "needs_background": "light"
     },
     "output_type": "display_data"
    }
   ],
   "source": [
    "# kernel density estimation for contact for contract ending period \n",
    "df.contact_for_contract_end.plot(kind='kde', \n",
    "                                 title='KDE contact for contract ending', \n",
    "                                 color='c');"
   ]
  },
  {
   "cell_type": "code",
   "execution_count": 269,
   "metadata": {},
   "outputs": [
    {
     "name": "stdout",
     "output_type": "stream",
     "text": [
      "skewness for contact for contract ending: 0.913336\n"
     ]
    }
   ],
   "source": [
    "print('skewness for contact for contract ending: {0:2f}'.format(df.contact_for_contract_end.skew()))"
   ]
  },
  {
   "cell_type": "markdown",
   "metadata": {},
   "source": [
    "<strong>Conclusion</strong>:\n",
    "* 36% of people are contacting the tech support withing a year before their warranty expires"
   ]
  },
  {
   "cell_type": "markdown",
   "metadata": {},
   "source": [
    "- We can look into the correlation between topic_category and repeat_ct to see if some problem types especially lead to additional visits.\n"
   ]
  },
  {
   "cell_type": "code",
   "execution_count": 273,
   "metadata": {},
   "outputs": [
    {
     "data": {
      "text/html": [
       "<div>\n",
       "<style scoped>\n",
       "    .dataframe tbody tr th:only-of-type {\n",
       "        vertical-align: middle;\n",
       "    }\n",
       "\n",
       "    .dataframe tbody tr th {\n",
       "        vertical-align: top;\n",
       "    }\n",
       "\n",
       "    .dataframe thead th {\n",
       "        text-align: right;\n",
       "    }\n",
       "</style>\n",
       "<table border=\"1\" class=\"dataframe\">\n",
       "  <thead>\n",
       "    <tr style=\"text-align: right;\">\n",
       "      <th>repeat_ct</th>\n",
       "      <th>0</th>\n",
       "      <th>1</th>\n",
       "      <th>2</th>\n",
       "      <th>3</th>\n",
       "    </tr>\n",
       "    <tr>\n",
       "      <th>topic_category</th>\n",
       "      <th></th>\n",
       "      <th></th>\n",
       "      <th></th>\n",
       "      <th></th>\n",
       "    </tr>\n",
       "  </thead>\n",
       "  <tbody>\n",
       "    <tr>\n",
       "      <th>Unknown</th>\n",
       "      <td>30512.0</td>\n",
       "      <td>2554.0</td>\n",
       "      <td>1.0</td>\n",
       "      <td>NaN</td>\n",
       "    </tr>\n",
       "    <tr>\n",
       "      <th>Booting</th>\n",
       "      <td>13515.0</td>\n",
       "      <td>1825.0</td>\n",
       "      <td>1.0</td>\n",
       "      <td>NaN</td>\n",
       "    </tr>\n",
       "    <tr>\n",
       "      <th>LCD/Monitor</th>\n",
       "      <td>4898.0</td>\n",
       "      <td>549.0</td>\n",
       "      <td>NaN</td>\n",
       "      <td>1.0</td>\n",
       "    </tr>\n",
       "    <tr>\n",
       "      <th>Call Logs</th>\n",
       "      <td>4548.0</td>\n",
       "      <td>280.0</td>\n",
       "      <td>4.0</td>\n",
       "      <td>2.0</td>\n",
       "    </tr>\n",
       "    <tr>\n",
       "      <th>Hard Drive</th>\n",
       "      <td>3324.0</td>\n",
       "      <td>210.0</td>\n",
       "      <td>NaN</td>\n",
       "      <td>NaN</td>\n",
       "    </tr>\n",
       "    <tr>\n",
       "      <th>Keyboard</th>\n",
       "      <td>2468.0</td>\n",
       "      <td>198.0</td>\n",
       "      <td>NaN</td>\n",
       "      <td>NaN</td>\n",
       "    </tr>\n",
       "    <tr>\n",
       "      <th>Battery</th>\n",
       "      <td>2280.0</td>\n",
       "      <td>198.0</td>\n",
       "      <td>NaN</td>\n",
       "      <td>NaN</td>\n",
       "    </tr>\n",
       "    <tr>\n",
       "      <th>Physical Damage</th>\n",
       "      <td>1938.0</td>\n",
       "      <td>180.0</td>\n",
       "      <td>NaN</td>\n",
       "      <td>NaN</td>\n",
       "    </tr>\n",
       "    <tr>\n",
       "      <th>System Performance</th>\n",
       "      <td>3308.0</td>\n",
       "      <td>149.0</td>\n",
       "      <td>NaN</td>\n",
       "      <td>NaN</td>\n",
       "    </tr>\n",
       "    <tr>\n",
       "      <th>Shutdown</th>\n",
       "      <td>962.0</td>\n",
       "      <td>132.0</td>\n",
       "      <td>NaN</td>\n",
       "      <td>NaN</td>\n",
       "    </tr>\n",
       "  </tbody>\n",
       "</table>\n",
       "</div>"
      ],
      "text/plain": [
       "repeat_ct                 0       1    2    3\n",
       "topic_category                               \n",
       "Unknown             30512.0  2554.0  1.0  NaN\n",
       "Booting             13515.0  1825.0  1.0  NaN\n",
       "LCD/Monitor          4898.0   549.0  NaN  1.0\n",
       "Call Logs            4548.0   280.0  4.0  2.0\n",
       "Hard Drive           3324.0   210.0  NaN  NaN\n",
       "Keyboard             2468.0   198.0  NaN  NaN\n",
       "Battery              2280.0   198.0  NaN  NaN\n",
       "Physical Damage      1938.0   180.0  NaN  NaN\n",
       "System Performance   3308.0   149.0  NaN  NaN\n",
       "Shutdown              962.0   132.0  NaN  NaN"
      ]
     },
     "execution_count": 273,
     "metadata": {},
     "output_type": "execute_result"
    }
   ],
   "source": [
    "df_test = df.groupby(['topic_category','repeat_ct']).repeat_ct.count().sort_values(0, ascending=True).unstack()\n",
    "df_test=df_test.sort_values(1,ascending=False).groupby('topic_category').head()\n",
    "df_test.head(10)"
   ]
  },
  {
   "cell_type": "markdown",
   "metadata": {},
   "source": [
    "<strong>Conclusion</strong>:\n",
    "* Type of problems as classified by the tech supports for additional visits are booting, LCD/Monitor, Call Logs, and hard drive"
   ]
  },
  {
   "cell_type": "code",
   "execution_count": null,
   "metadata": {},
   "outputs": [],
   "source": []
  }
 ],
 "metadata": {
  "kernelspec": {
   "display_name": "Python 3",
   "language": "python",
   "name": "python3"
  },
  "language_info": {
   "codemirror_mode": {
    "name": "ipython",
    "version": 3
   },
   "file_extension": ".py",
   "mimetype": "text/x-python",
   "name": "python",
   "nbconvert_exporter": "python",
   "pygments_lexer": "ipython3",
   "version": "3.7.1"
  }
 },
 "nbformat": 4,
 "nbformat_minor": 2
}
